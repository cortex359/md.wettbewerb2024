{
 "cells": [
  {
   "cell_type": "code",
   "execution_count": 1,
   "id": "c17c048d2ffdee56",
   "metadata": {
    "collapsed": false,
    "ExecuteTime": {
     "end_time": "2024-03-01T15:29:50.469720Z",
     "start_time": "2024-03-01T15:29:49.672130Z"
    }
   },
   "outputs": [],
   "source": [
    "import pandas as pd\n",
    "import matplotlib.pyplot as plt\n",
    "from pyvis import network as net\n",
    "import networkx as nx\n",
    "from utils import input"
   ]
  },
  {
   "cell_type": "code",
   "execution_count": 2,
   "id": "c725d9fad4104903",
   "metadata": {
    "collapsed": false,
    "ExecuteTime": {
     "end_time": "2024-03-01T15:29:50.606243Z",
     "start_time": "2024-03-01T15:29:50.470787Z"
    }
   },
   "outputs": [
    {
     "ename": "ValueError",
     "evalue": "too many values to unpack (expected 2)",
     "output_type": "error",
     "traceback": [
      "\u001B[0;31m---------------------------------------------------------------------------\u001B[0m",
      "\u001B[0;31mValueError\u001B[0m                                Traceback (most recent call last)",
      "Cell \u001B[0;32mIn[2], line 1\u001B[0m\n\u001B[0;32m----> 1\u001B[0m data, edges \u001B[38;5;241m=\u001B[39m \u001B[38;5;28minput\u001B[39m\u001B[38;5;241m.\u001B[39mread_to_df(\u001B[38;5;124m\"\u001B[39m\u001B[38;5;124minput_files/Population_Density_Afro-Eurasia.txt\u001B[39m\u001B[38;5;124m\"\u001B[39m)\n",
      "\u001B[0;31mValueError\u001B[0m: too many values to unpack (expected 2)"
     ]
    }
   ],
   "source": [
    "data, edges = input.read_to_df(\"input_files/Population_Density_Afro-Eurasia.txt\")"
   ]
  },
  {
   "cell_type": "code",
   "execution_count": null,
   "id": "e095fdcd97888a44",
   "metadata": {
    "collapsed": false
   },
   "outputs": [],
   "source": [
    "G = nx.Graph()\n",
    "for d in data.index:\n",
    "    G.add_node(d, size=data.loc[d, 'value'], x=data.loc[d, 'x'], y=data.loc[d, 'y'])\n",
    "for e0, e1 in list(zip(edges['node_0'].tolist(), edges['node_1'].tolist())):\n",
    "    G.add_edge(e0, e1)"
   ]
  },
  {
   "cell_type": "code",
   "execution_count": null,
   "id": "571e6247299891f1",
   "metadata": {
    "collapsed": false
   },
   "outputs": [],
   "source": [
    "def visualize_nx_graph(graph: nx.Graph, data: pd.DataFrame):\n",
    "    initial_pos = {node: (data.loc[node, 'x'], data.loc[node, 'y']) for node in graph.nodes}\n",
    "\n",
    "    node_sizes = [data.loc[node, 'value'] for node in graph.nodes]\n",
    "    nx.draw(G, pos=initial_pos, with_labels=True, node_size=node_sizes,  font_size=8)\n",
    "    # node_color='skyblue', edge_color='black',\n",
    "\n",
    "    plt.axis(\"off\")\n",
    "    plt.show()\n",
    "\n",
    "visualize_nx_graph(G, data)"
   ]
  },
  {
   "cell_type": "code",
   "outputs": [],
   "source": [
    "def visualize_with_pyvis_from_nx(graph: nx, display: bool = False):\n",
    "    nt = net.Network(notebook=display, directed=False)\n",
    "    if display:\n",
    "        nt.prep_notebook()\n",
    "    \n",
    "    nt.from_nx(graph, show_edge_weights=False, edge_scaling=True)\n",
    "\n",
    "    nt.toggle_physics(True)\n",
    "    if display:\n",
    "        return nt.show('nx.html')\n",
    "    else:\n",
    "        nt.show_buttons()\n",
    "        print(\"Generating html file.\")\n",
    "        nt.generate_html(name=\"nx.html\", local=True, notebook=True)\n",
    "        return nt"
   ],
   "metadata": {
    "collapsed": false
   },
   "id": "ad2e7c1c09653ee0",
   "execution_count": null
  },
  {
   "cell_type": "code",
   "outputs": [],
   "source": [
    "import math\n",
    "\n",
    "\n",
    "def visualize_with_pyvis_from_df(data: pd.DataFrame, edges: pd.DataFrame, display: bool = False):\n",
    "    nt = net.Network(notebook=True, directed=False, cdn_resources='in_line')\n",
    "    \n",
    "    for d in data.index:\n",
    "        node_size = math.sqrt(data.loc[d, 'value'] / (2 * math.pi)) * 2\n",
    "        #node_size = data.loc[d, 'value']\n",
    "        # value attribut is used by visjs for auto scaling, so exact ratios get lost\n",
    "        nt.add_node(d, borderWidth=0, shape=\"circle\", size=node_size, mass=data.loc[d, 'value'], x=data.loc[d, 'x'], y=data.loc[d, 'y'])\n",
    "    for e0, e1 in list(zip(edges['node_0'].tolist(), edges['node_1'].tolist())):\n",
    "        nt.add_edge(e0, e1)\n",
    "\n",
    "    nt.options.edges.smooth.enabled = False\n",
    "    nt.options.interaction.zoomView = False\n",
    "    nt.options.interaction.dragView = False\n",
    "    nt.options.interaction.navigationButtons = True\n",
    "    \n",
    "    nt.barnes_hut(gravity=-900, central_gravity=4, spring_length=0.01, spring_strength=0.1, damping=0.5, overlap=0.1)\n",
    "    if not display:\n",
    "        nt.show_buttons(filter_=['physics'])\n",
    "        print(\"Generating html file. nx1.html\")\n",
    "        nt.generate_html(name=\"nx1.html\", notebook=False)\n",
    "\n",
    "    nt.prep_notebook()\n",
    "    return nt.show('nx1.html')\n",
    "\n",
    "visualize_with_pyvis_from_df(data, edges, display=False)"
   ],
   "metadata": {
    "collapsed": false
   },
   "id": "fca12bfc14bd8c20",
   "execution_count": null
  },
  {
   "cell_type": "markdown",
   "source": [
    "In der Browserconsole dann über folgende Eingabe die Koordinaten erhalten:\n",
    "```js\n",
    "function calc_radius(node_idx) {\n",
    "    boundingBox = network.getBoundingBox(node_idx)\n",
    "    return (boundingBox.right - boundingBox.left) / 4.\n",
    "}\n",
    "\n",
    "var output = \"\";\n",
    "var idx = 0\n",
    "for (p in network.getPositions()) {\n",
    "    pos = network.getPosition(p)\n",
    "    output += pos.x.toFixed(1) + \" \" + pos.y.toFixed(1) + \" \" + calc_radius(p) + \" \" + p + \" \" + idx + \"\\n\";\n",
    "    idx++;\n",
    "}\n",
    "console.log(output)\n",
    "```"
   ],
   "metadata": {
    "collapsed": false
   },
   "id": "b915cb5c0f254876"
  },
  {
   "cell_type": "code",
   "outputs": [],
   "source": [],
   "metadata": {
    "collapsed": false
   },
   "id": "af080ea66ea789ef",
   "execution_count": null
  }
 ],
 "metadata": {
  "kernelspec": {
   "display_name": "Python 3 (ipykernel)",
   "language": "python",
   "name": "python3"
  },
  "language_info": {
   "codemirror_mode": {
    "name": "ipython",
    "version": 3
   },
   "file_extension": ".py",
   "mimetype": "text/x-python",
   "name": "python",
   "nbconvert_exporter": "python",
   "pygments_lexer": "ipython3",
   "version": "3.11.6"
  }
 },
 "nbformat": 4,
 "nbformat_minor": 5
}
