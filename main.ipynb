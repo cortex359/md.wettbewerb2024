{
 "cells": [
  {
   "cell_type": "code",
   "execution_count": 1,
   "id": "c17c048d2ffdee56",
   "metadata": {
    "collapsed": false,
    "ExecuteTime": {
     "end_time": "2024-03-06T23:16:50.212249Z",
     "start_time": "2024-03-06T23:16:49.354667Z"
    }
   },
   "outputs": [],
   "source": [
    "import pandas as pd\n",
    "import matplotlib.pyplot as plt\n",
    "from pyvis import network as net\n",
    "import networkx as nx\n",
    "from utils import input\n",
    "from utils import score"
   ]
  },
  {
   "cell_type": "code",
   "execution_count": 2,
   "id": "c725d9fad4104903",
   "metadata": {
    "collapsed": false,
    "ExecuteTime": {
     "end_time": "2024-03-06T23:16:50.245626Z",
     "start_time": "2024-03-06T23:16:50.215368Z"
    }
   },
   "outputs": [],
   "source": [
    "nodes_input, edges_df, k = input.read_to_df(\"input_files/Population_Americas.txt\")\n",
    "nodes_output = score.read_to_df(\"result_files/Population_Americas_score_23278.408110.txt\")\n",
    "output_edges = score.output_edges(edges_df, nodes_input, nodes_output)\n",
    "edges = list(zip(edges_df.node_0.to_list(), edges_df.node_1.to_list()))"
   ]
  },
  {
   "cell_type": "code",
   "execution_count": 3,
   "id": "e095fdcd97888a44",
   "metadata": {
    "collapsed": false,
    "ExecuteTime": {
     "end_time": "2024-03-06T23:16:50.264425Z",
     "start_time": "2024-03-06T23:16:50.246694Z"
    }
   },
   "outputs": [],
   "source": [
    "G = nx.Graph()\n",
    "for d in nodes_output.index:\n",
    "    G.add_node(d, size=nodes_output.loc[d, 'radius'], x=nodes_output.loc[d, 'x'], y=nodes_output.loc[d, 'y'])\n",
    "for e0, e1 in edges:\n",
    "    G.add_edge(e0, e1)"
   ]
  },
  {
   "cell_type": "code",
   "execution_count": null,
   "id": "571e6247299891f1",
   "metadata": {
    "collapsed": false,
    "is_executing": true,
    "ExecuteTime": {
     "start_time": "2024-03-06T23:16:50.265658Z"
    }
   },
   "outputs": [],
   "source": [
    "def visualize_nx_graph(graph: nx.Graph, data: pd.DataFrame):\n",
    "    initial_pos = {node: (data.loc[node, 'x'], data.loc[node, 'y']) for node in graph.nodes}\n",
    "\n",
    "    node_sizes = [data.loc[node, 'radius']**200 for node in graph.nodes]\n",
    "    nx.draw(G, pos=initial_pos, with_labels=True, node_size=node_sizes,  font_size=8)\n",
    "    # node_color='skyblue', edge_color='black',\n",
    "\n",
    "    plt.axis(\"off\")\n",
    "    plt.show()\n",
    "\n",
    "visualize_nx_graph(G, nodes_output)"
   ]
  },
  {
   "cell_type": "code",
   "outputs": [],
   "source": [
    "def visualize_with_pyvis_from_nx(graph: nx, display: bool = False):\n",
    "    nt = net.Network(notebook=display, directed=False)\n",
    "    if display:\n",
    "        nt.prep_notebook()\n",
    "    \n",
    "    nt.from_nx(graph, show_edge_weights=False, edge_scaling=True)\n",
    "\n",
    "    nt.toggle_physics(True)\n",
    "    if display:\n",
    "        return nt.show('nx.html')\n",
    "    else:\n",
    "        nt.show_buttons()\n",
    "        print(\"Generating html file.\")\n",
    "        nt.generate_html(name=\"nx.html\", local=True, notebook=True)\n",
    "        return nt"
   ],
   "metadata": {
    "collapsed": false,
    "is_executing": true
   },
   "id": "ad2e7c1c09653ee0",
   "execution_count": null
  },
  {
   "cell_type": "code",
   "outputs": [],
   "source": [
    "nodes_output"
   ],
   "metadata": {
    "collapsed": false,
    "is_executing": true
   },
   "id": "f5258f0eff4ce9d0",
   "execution_count": null
  },
  {
   "cell_type": "code",
   "outputs": [],
   "source": [
    "import math\n",
    "\n",
    "\n",
    "def visualize_with_pyvis_from_df(data: pd.DataFrame, edges: pd.DataFrame, display: bool = False):\n",
    "    nt = net.Network(notebook=True, directed=False, cdn_resources='in_line')\n",
    "    \n",
    "    for d in data.index:\n",
    "        #node_size = math.sqrt(data.loc[d, 'value'] / (2 * math.pi)) * 2\n",
    "        node_size = data.loc[d, 'radius']*100\n",
    "        # value attribut is used by visjs for auto scaling, so exact ratios get lost\n",
    "        nt.add_node(d, borderWidth=0, shape=\"circle\", size=node_size, x=data.loc[d, 'x']*10, y=data.loc[d, 'y']*10)\n",
    "    for e0, e1 in edges:\n",
    "        nt.add_edge(e0, e1)\n",
    "\n",
    "    nt.options.edges.smooth.enabled = False\n",
    "    nt.options.interaction.zoomView = True\n",
    "    nt.options.interaction.dragView = True\n",
    "    nt.options.interaction.navigationButtons = True\n",
    "    nt.options.physics.enabled = False\n",
    "\n",
    "    if not display:\n",
    "        #nt.show_buttons(filter_=['physics'])\n",
    "        print(\"Generating html file. nx1.html\")\n",
    "        nt.generate_html(name=\"nx1.html\", notebook=False)\n",
    "\n",
    "    nt.prep_notebook()\n",
    "    return nt.show('nx1.html')\n",
    "\n",
    "visualize_with_pyvis_from_df(nodes_output, edges, display=False)"
   ],
   "metadata": {
    "collapsed": false,
    "is_executing": true
   },
   "id": "fca12bfc14bd8c20",
   "execution_count": null
  },
  {
   "cell_type": "markdown",
   "source": [
    "In der Browserconsole dann über folgende Eingabe die Koordinaten erhalten:\n",
    "```js\n",
    "function calc_radius(node_idx) {\n",
    "    boundingBox = network.getBoundingBox(node_idx)\n",
    "    return (boundingBox.right - boundingBox.left) / 4.\n",
    "}\n",
    "\n",
    "var output = \"\";\n",
    "var idx = 0\n",
    "for (p in network.getPositions()) {\n",
    "    pos = network.getPosition(p)\n",
    "    output += pos.x.toFixed(1) + \" \" + pos.y.toFixed(1) + \" \" + calc_radius(p) + \" \" + p + \" \" + idx + \"\\n\";\n",
    "    idx++;\n",
    "}\n",
    "console.log(output)\n",
    "```"
   ],
   "metadata": {
    "collapsed": false
   },
   "id": "b915cb5c0f254876"
  },
  {
   "cell_type": "code",
   "outputs": [],
   "source": [],
   "metadata": {
    "collapsed": false,
    "is_executing": true
   },
   "id": "af080ea66ea789ef",
   "execution_count": null
  }
 ],
 "metadata": {
  "kernelspec": {
   "display_name": "Python 3 (ipykernel)",
   "language": "python",
   "name": "python3"
  },
  "language_info": {
   "codemirror_mode": {
    "name": "ipython",
    "version": 3
   },
   "file_extension": ".py",
   "mimetype": "text/x-python",
   "name": "python",
   "nbconvert_exporter": "python",
   "pygments_lexer": "ipython3",
   "version": "3.11.6"
  }
 },
 "nbformat": 4,
 "nbformat_minor": 5
}
