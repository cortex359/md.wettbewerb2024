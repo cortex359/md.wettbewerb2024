{
 "cells": [
  {
   "cell_type": "code",
   "outputs": [],
   "source": [
    "import pandas as pd\n",
    "import numpy as np\n",
    "from utils import score\n",
    "from utils import input"
   ],
   "metadata": {
    "collapsed": false,
    "ExecuteTime": {
     "end_time": "2024-03-02T11:00:31.234164Z",
     "start_time": "2024-03-02T11:00:31.167081Z"
    }
   },
   "id": "7b807ecfc2ebbba3",
   "execution_count": 18
  },
  {
   "cell_type": "code",
   "outputs": [],
   "source": [
    "nodes_input, edges, k = input.read_to_df(\"input_files/Area_Afro-Eurasia.txt\")\n",
    "nodes_output = score.read_to_df(\"result_files/Area_Afro-Eurasia_score_4406.480649.txt\")\n",
    "nodes_output.set_index(\"node\", inplace=True)\n",
    "edges = list(zip(edges.node_0.to_list(), edges.node_1.to_list()))"
   ],
   "metadata": {
    "collapsed": false,
    "ExecuteTime": {
     "end_time": "2024-03-02T11:00:32.197256Z",
     "start_time": "2024-03-02T11:00:32.146922Z"
    }
   },
   "id": "c746d15e9df2fde5",
   "execution_count": 19
  },
  {
   "cell_type": "code",
   "outputs": [
    {
     "name": "stdout",
     "output_type": "stream",
     "text": [
      "Score: 4406.48 (n=133, k=554, overlap=77.06, distance=0.00, angle=7.92)\n"
     ]
    }
   ],
   "source": [
    "n, overlap, distance, angle, total_score = score.calc_score(nodes_input, nodes_output, edges, k)\n",
    "total_score\n",
    "print(f\"Score: {total_score:.2f} (n={n}, k={k}, overlap={overlap:.2f}, distance={distance:.2f}, angle={angle:.2f})\")"
   ],
   "metadata": {
    "collapsed": false,
    "ExecuteTime": {
     "end_time": "2024-03-02T11:00:33.544722Z",
     "start_time": "2024-03-02T11:00:32.968100Z"
    }
   },
   "id": "4b0e174c2d25a284",
   "execution_count": 20
  },
  {
   "cell_type": "code",
   "outputs": [
    {
     "data": {
      "text/plain": "node\nHRV    14.307685\nUZB    40.228300\nBGR    20.026664\nESH    31.018756\nGNQ    10.072957\n         ...    \nMNE     7.068262\nIRQ    39.817857\nGNB    11.431071\nMLI    66.977383\nKAZ    99.279374\nName: radius, Length: 133, dtype: float64"
     },
     "execution_count": 23,
     "metadata": {},
     "output_type": "execute_result"
    }
   ],
   "source": [
    "nodes_output.radius"
   ],
   "metadata": {
    "collapsed": false,
    "ExecuteTime": {
     "end_time": "2024-03-02T11:00:56.295507Z",
     "start_time": "2024-03-02T11:00:56.291104Z"
    }
   },
   "id": "f17238098db7b514",
   "execution_count": 23
  },
  {
   "cell_type": "code",
   "outputs": [],
   "source": [
    "nodes_output.radius = nodes_output.radius - (nodes_output.radius- np.sqrt(np.divide(nodes_input.value, 2*np.pi)))"
   ],
   "metadata": {
    "collapsed": false,
    "ExecuteTime": {
     "end_time": "2024-03-02T11:00:50.300162Z",
     "start_time": "2024-03-02T11:00:50.288426Z"
    }
   },
   "id": "b89a1afa7ddf8ff8",
   "execution_count": 22
  },
  {
   "cell_type": "code",
   "outputs": [
    {
     "name": "stdout",
     "output_type": "stream",
     "text": [
      "[0.05] Score: 1278.03 (n=133, k=554, overlap=0.00, distance=535.75, angle=7.92)\n",
      "[0.1] Score: 2510.37 (n=133, k=554, overlap=27.00, distance=217.88, angle=7.92)\n",
      "[0.15000000000000002] Score: 3175.07 (n=133, k=554, overlap=51.33, distance=111.92, angle=7.92)\n",
      "[0.2] Score: 3659.55 (n=133, k=554, overlap=63.50, distance=58.94, angle=7.92)\n",
      "[0.25] Score: 4028.36 (n=133, k=554, overlap=70.80, distance=27.15, angle=7.92)\n",
      "[0.30000000000000004] Score: 4318.51 (n=133, k=554, overlap=75.67, distance=5.96, angle=7.92)\n",
      "[0.35000000000000003] Score: 4291.71 (n=133, k=554, overlap=79.14, distance=0.00, angle=7.92)\n",
      "[0.4] Score: 4156.32 (n=133, k=554, overlap=81.75, distance=0.00, angle=7.92)\n",
      "[0.45] Score: 4056.78 (n=133, k=554, overlap=83.78, distance=0.00, angle=7.92)\n",
      "[0.5] Score: 3980.52 (n=133, k=554, overlap=85.40, distance=0.00, angle=7.92)\n",
      "[0.55] Score: 3920.22 (n=133, k=554, overlap=86.73, distance=0.00, angle=7.92)\n",
      "[0.6000000000000001] Score: 3871.35 (n=133, k=554, overlap=87.83, distance=0.00, angle=7.92)\n",
      "[0.65] Score: 3830.94 (n=133, k=554, overlap=88.77, distance=0.00, angle=7.92)\n",
      "[0.7000000000000001] Score: 3796.97 (n=133, k=554, overlap=89.57, distance=0.00, angle=7.92)\n",
      "[0.75] Score: 3768.01 (n=133, k=554, overlap=90.27, distance=0.00, angle=7.92)\n",
      "[0.8] Score: 3743.03 (n=133, k=554, overlap=90.87, distance=0.00, angle=7.92)\n",
      "[0.8500000000000001] Score: 3721.27 (n=133, k=554, overlap=91.41, distance=0.00, angle=7.92)\n",
      "[0.9] Score: 3702.13 (n=133, k=554, overlap=91.89, distance=0.00, angle=7.92)\n",
      "[0.9500000000000001] Score: 3685.17 (n=133, k=554, overlap=92.32, distance=0.00, angle=7.92)\n",
      "[1.0] Score: 3670.05 (n=133, k=554, overlap=92.70, distance=0.00, angle=7.92)\n",
      "[1.05] Score: 3656.47 (n=133, k=554, overlap=93.05, distance=0.00, angle=7.92)\n",
      "[1.1] Score: 3644.21 (n=133, k=554, overlap=93.36, distance=0.00, angle=7.92)\n",
      "[1.1500000000000001] Score: 3633.09 (n=133, k=554, overlap=93.65, distance=0.00, angle=7.92)\n",
      "[1.2000000000000002] Score: 3622.95 (n=133, k=554, overlap=93.92, distance=0.00, angle=7.92)\n",
      "[1.25] Score: 3613.68 (n=133, k=554, overlap=94.16, distance=0.00, angle=7.92)\n",
      "[1.3] Score: 3605.16 (n=133, k=554, overlap=94.38, distance=0.00, angle=7.92)\n",
      "[1.35] Score: 3597.30 (n=133, k=554, overlap=94.59, distance=0.00, angle=7.92)\n",
      "[1.4000000000000001] Score: 3590.04 (n=133, k=554, overlap=94.79, distance=0.00, angle=7.92)\n",
      "[1.4500000000000002] Score: 3583.31 (n=133, k=554, overlap=94.97, distance=0.00, angle=7.92)\n"
     ]
    },
    {
     "ename": "KeyboardInterrupt",
     "evalue": "",
     "output_type": "error",
     "traceback": [
      "\u001B[0;31m---------------------------------------------------------------------------\u001B[0m",
      "\u001B[0;31mKeyboardInterrupt\u001B[0m                         Traceback (most recent call last)",
      "Cell \u001B[0;32mIn[24], line 5\u001B[0m\n\u001B[1;32m      3\u001B[0m factor \u001B[38;5;241m=\u001B[39m \u001B[38;5;241m0.05\u001B[39m \u001B[38;5;241m*\u001B[39m i \n\u001B[1;32m      4\u001B[0m nodes_impoved\u001B[38;5;241m.\u001B[39mradius \u001B[38;5;241m=\u001B[39m nodes_output\u001B[38;5;241m.\u001B[39mradius \u001B[38;5;241m*\u001B[39m factor\n\u001B[0;32m----> 5\u001B[0m n, overlap, distance, angle, total_score \u001B[38;5;241m=\u001B[39m \u001B[43mscore\u001B[49m\u001B[38;5;241;43m.\u001B[39;49m\u001B[43mcalc_score\u001B[49m\u001B[43m(\u001B[49m\u001B[43mnodes_input\u001B[49m\u001B[43m,\u001B[49m\u001B[43m \u001B[49m\u001B[43mnodes_impoved\u001B[49m\u001B[43m,\u001B[49m\u001B[43m \u001B[49m\u001B[43medges\u001B[49m\u001B[43m,\u001B[49m\u001B[43m \u001B[49m\u001B[43mk\u001B[49m\u001B[43m)\u001B[49m\n\u001B[1;32m      6\u001B[0m \u001B[38;5;28mprint\u001B[39m(\u001B[38;5;124mf\u001B[39m\u001B[38;5;124m\"\u001B[39m\u001B[38;5;124m[\u001B[39m\u001B[38;5;132;01m{\u001B[39;00mfactor\u001B[38;5;132;01m}\u001B[39;00m\u001B[38;5;124m] Score: \u001B[39m\u001B[38;5;132;01m{\u001B[39;00mtotal_score\u001B[38;5;132;01m:\u001B[39;00m\u001B[38;5;124m.2f\u001B[39m\u001B[38;5;132;01m}\u001B[39;00m\u001B[38;5;124m (n=\u001B[39m\u001B[38;5;132;01m{\u001B[39;00mn\u001B[38;5;132;01m}\u001B[39;00m\u001B[38;5;124m, k=\u001B[39m\u001B[38;5;132;01m{\u001B[39;00mk\u001B[38;5;132;01m}\u001B[39;00m\u001B[38;5;124m, overlap=\u001B[39m\u001B[38;5;132;01m{\u001B[39;00moverlap\u001B[38;5;132;01m:\u001B[39;00m\u001B[38;5;124m.2f\u001B[39m\u001B[38;5;132;01m}\u001B[39;00m\u001B[38;5;124m, distance=\u001B[39m\u001B[38;5;132;01m{\u001B[39;00mdistance\u001B[38;5;132;01m:\u001B[39;00m\u001B[38;5;124m.2f\u001B[39m\u001B[38;5;132;01m}\u001B[39;00m\u001B[38;5;124m, angle=\u001B[39m\u001B[38;5;132;01m{\u001B[39;00mangle\u001B[38;5;132;01m:\u001B[39;00m\u001B[38;5;124m.2f\u001B[39m\u001B[38;5;132;01m}\u001B[39;00m\u001B[38;5;124m)\u001B[39m\u001B[38;5;124m\"\u001B[39m)\n",
      "File \u001B[0;32m~/GitHub/md.wettbewerb2024/utils/score.py:88\u001B[0m, in \u001B[0;36mcalc_score\u001B[0;34m(input_nodes, output_nodes, edges, k)\u001B[0m\n\u001B[1;32m     86\u001B[0m \u001B[38;5;28;01mdef\u001B[39;00m \u001B[38;5;21mcalc_score\u001B[39m(input_nodes, output_nodes, edges, k):\n\u001B[1;32m     87\u001B[0m     n \u001B[38;5;241m=\u001B[39m input_nodes\u001B[38;5;241m.\u001B[39mshape[\u001B[38;5;241m0\u001B[39m]\n\u001B[0;32m---> 88\u001B[0m     overlap \u001B[38;5;241m=\u001B[39m \u001B[43mcalc_overlap_fast\u001B[49m\u001B[43m(\u001B[49m\u001B[43moutput_nodes\u001B[49m\u001B[43m)\u001B[49m \u001B[38;5;241m*\u001B[39m \u001B[38;5;241m100\u001B[39m\n\u001B[1;32m     89\u001B[0m     distance \u001B[38;5;241m=\u001B[39m calc_distance_max(output_nodes, edges) \u001B[38;5;241m*\u001B[39m \u001B[38;5;241m100\u001B[39m\n\u001B[1;32m     90\u001B[0m     angle \u001B[38;5;241m=\u001B[39m calc_angle_max(input_nodes, output_nodes, edges) \u001B[38;5;241m*\u001B[39m \u001B[38;5;241m100\u001B[39m\n",
      "File \u001B[0;32m~/GitHub/md.wettbewerb2024/utils/score.py:78\u001B[0m, in \u001B[0;36mcalc_overlap_fast\u001B[0;34m(df)\u001B[0m\n\u001B[1;32m     77\u001B[0m \u001B[38;5;28;01mdef\u001B[39;00m \u001B[38;5;21mcalc_overlap_fast\u001B[39m(df):\n\u001B[0;32m---> 78\u001B[0m     \u001B[38;5;28;01mreturn\u001B[39;00m \u001B[38;5;28mmax\u001B[39m(\u001B[43m[\u001B[49m\u001B[43mcalc_overlap\u001B[49m\u001B[43m(\u001B[49m\u001B[43mdf\u001B[49m\u001B[43m,\u001B[49m\u001B[43m \u001B[49m\u001B[43mnode_a\u001B[49m\u001B[43m,\u001B[49m\u001B[43m \u001B[49m\u001B[43mnode_b\u001B[49m\u001B[43m)\u001B[49m\u001B[43m \u001B[49m\u001B[38;5;28;43;01mfor\u001B[39;49;00m\u001B[43m \u001B[49m\u001B[43mnode_a\u001B[49m\u001B[43m,\u001B[49m\u001B[43m \u001B[49m\u001B[43mnode_b\u001B[49m\u001B[43m \u001B[49m\u001B[38;5;129;43;01min\u001B[39;49;00m\u001B[43m \u001B[49m\u001B[43mitertools\u001B[49m\u001B[38;5;241;43m.\u001B[39;49m\u001B[43mcombinations\u001B[49m\u001B[43m(\u001B[49m\u001B[43mdf\u001B[49m\u001B[38;5;241;43m.\u001B[39;49m\u001B[43mindex\u001B[49m\u001B[43m,\u001B[49m\u001B[43m \u001B[49m\u001B[38;5;241;43m2\u001B[39;49m\u001B[43m)\u001B[49m\u001B[43m]\u001B[49m)\n",
      "File \u001B[0;32m~/GitHub/md.wettbewerb2024/utils/score.py:78\u001B[0m, in \u001B[0;36m<listcomp>\u001B[0;34m(.0)\u001B[0m\n\u001B[1;32m     77\u001B[0m \u001B[38;5;28;01mdef\u001B[39;00m \u001B[38;5;21mcalc_overlap_fast\u001B[39m(df):\n\u001B[0;32m---> 78\u001B[0m     \u001B[38;5;28;01mreturn\u001B[39;00m \u001B[38;5;28mmax\u001B[39m([\u001B[43mcalc_overlap\u001B[49m\u001B[43m(\u001B[49m\u001B[43mdf\u001B[49m\u001B[43m,\u001B[49m\u001B[43m \u001B[49m\u001B[43mnode_a\u001B[49m\u001B[43m,\u001B[49m\u001B[43m \u001B[49m\u001B[43mnode_b\u001B[49m\u001B[43m)\u001B[49m \u001B[38;5;28;01mfor\u001B[39;00m node_a, node_b \u001B[38;5;129;01min\u001B[39;00m itertools\u001B[38;5;241m.\u001B[39mcombinations(df\u001B[38;5;241m.\u001B[39mindex, \u001B[38;5;241m2\u001B[39m)])\n",
      "File \u001B[0;32m~/GitHub/md.wettbewerb2024/utils/score.py:43\u001B[0m, in \u001B[0;36mcalc_overlap\u001B[0;34m(df, node_a, node_b)\u001B[0m\n\u001B[1;32m     41\u001B[0m \u001B[38;5;66;03m# dist = ((node_a.x - node_b.x) ** 2 + (node_a.y - node_b.y) ** 2) ** 0.5\u001B[39;00m\n\u001B[1;32m     42\u001B[0m dist \u001B[38;5;241m=\u001B[39m np\u001B[38;5;241m.\u001B[39mhypot(node_a\u001B[38;5;241m.\u001B[39mx \u001B[38;5;241m-\u001B[39m node_b\u001B[38;5;241m.\u001B[39mx, node_a\u001B[38;5;241m.\u001B[39my \u001B[38;5;241m-\u001B[39m node_b\u001B[38;5;241m.\u001B[39my)\n\u001B[0;32m---> 43\u001B[0m R \u001B[38;5;241m=\u001B[39m \u001B[43mnode_a\u001B[49m\u001B[38;5;241;43m.\u001B[39;49m\u001B[43mradius\u001B[49m \u001B[38;5;241m+\u001B[39m node_b\u001B[38;5;241m.\u001B[39mradius\n\u001B[1;32m     44\u001B[0m \u001B[38;5;28;01mreturn\u001B[39;00m \u001B[38;5;241m0\u001B[39m \u001B[38;5;28;01mif\u001B[39;00m dist \u001B[38;5;241m>\u001B[39m\u001B[38;5;241m=\u001B[39m R \u001B[38;5;28;01melse\u001B[39;00m (R \u001B[38;5;241m-\u001B[39m dist) \u001B[38;5;241m/\u001B[39m R\n",
      "File \u001B[0;32m~/GitHub/md.wettbewerb2024/venv/lib/python3.11/site-packages/pandas/core/generic.py:6292\u001B[0m, in \u001B[0;36mNDFrame.__getattr__\u001B[0;34m(self, name)\u001B[0m\n\u001B[1;32m   6284\u001B[0m \u001B[38;5;66;03m# Note: obj.x will always call obj.__getattribute__('x') prior to\u001B[39;00m\n\u001B[1;32m   6285\u001B[0m \u001B[38;5;66;03m# calling obj.__getattr__('x').\u001B[39;00m\n\u001B[1;32m   6286\u001B[0m \u001B[38;5;28;01mif\u001B[39;00m (\n\u001B[1;32m   6287\u001B[0m     name \u001B[38;5;129;01mnot\u001B[39;00m \u001B[38;5;129;01min\u001B[39;00m \u001B[38;5;28mself\u001B[39m\u001B[38;5;241m.\u001B[39m_internal_names_set\n\u001B[1;32m   6288\u001B[0m     \u001B[38;5;129;01mand\u001B[39;00m name \u001B[38;5;129;01mnot\u001B[39;00m \u001B[38;5;129;01min\u001B[39;00m \u001B[38;5;28mself\u001B[39m\u001B[38;5;241m.\u001B[39m_metadata\n\u001B[1;32m   6289\u001B[0m     \u001B[38;5;129;01mand\u001B[39;00m name \u001B[38;5;129;01mnot\u001B[39;00m \u001B[38;5;129;01min\u001B[39;00m \u001B[38;5;28mself\u001B[39m\u001B[38;5;241m.\u001B[39m_accessors\n\u001B[1;32m   6290\u001B[0m     \u001B[38;5;129;01mand\u001B[39;00m \u001B[38;5;28mself\u001B[39m\u001B[38;5;241m.\u001B[39m_info_axis\u001B[38;5;241m.\u001B[39m_can_hold_identifiers_and_holds_name(name)\n\u001B[1;32m   6291\u001B[0m ):\n\u001B[0;32m-> 6292\u001B[0m     \u001B[38;5;28;01mreturn\u001B[39;00m \u001B[38;5;28;43mself\u001B[39;49m\u001B[43m[\u001B[49m\u001B[43mname\u001B[49m\u001B[43m]\u001B[49m\n\u001B[1;32m   6293\u001B[0m \u001B[38;5;28;01mreturn\u001B[39;00m \u001B[38;5;28mobject\u001B[39m\u001B[38;5;241m.\u001B[39m\u001B[38;5;21m__getattribute__\u001B[39m(\u001B[38;5;28mself\u001B[39m, name)\n",
      "File \u001B[0;32m~/GitHub/md.wettbewerb2024/venv/lib/python3.11/site-packages/pandas/core/series.py:1111\u001B[0m, in \u001B[0;36mSeries.__getitem__\u001B[0;34m(self, key)\u001B[0m\n\u001B[1;32m   1108\u001B[0m     \u001B[38;5;28;01mreturn\u001B[39;00m \u001B[38;5;28mself\u001B[39m\u001B[38;5;241m.\u001B[39m_values[key]\n\u001B[1;32m   1110\u001B[0m \u001B[38;5;28;01melif\u001B[39;00m key_is_scalar:\n\u001B[0;32m-> 1111\u001B[0m     \u001B[38;5;28;01mreturn\u001B[39;00m \u001B[38;5;28;43mself\u001B[39;49m\u001B[38;5;241;43m.\u001B[39;49m\u001B[43m_get_value\u001B[49m\u001B[43m(\u001B[49m\u001B[43mkey\u001B[49m\u001B[43m)\u001B[49m\n\u001B[1;32m   1113\u001B[0m \u001B[38;5;66;03m# Convert generator to list before going through hashable part\u001B[39;00m\n\u001B[1;32m   1114\u001B[0m \u001B[38;5;66;03m# (We will iterate through the generator there to check for slices)\u001B[39;00m\n\u001B[1;32m   1115\u001B[0m \u001B[38;5;28;01mif\u001B[39;00m is_iterator(key):\n",
      "File \u001B[0;32m~/GitHub/md.wettbewerb2024/venv/lib/python3.11/site-packages/pandas/core/series.py:1210\u001B[0m, in \u001B[0;36mSeries._get_value\u001B[0;34m(self, label, takeable)\u001B[0m\n\u001B[1;32m   1207\u001B[0m     new_mgr \u001B[38;5;241m=\u001B[39m \u001B[38;5;28mself\u001B[39m\u001B[38;5;241m.\u001B[39m_mgr\u001B[38;5;241m.\u001B[39mget_rows_with_mask(indexer)\n\u001B[1;32m   1208\u001B[0m     \u001B[38;5;28;01mreturn\u001B[39;00m \u001B[38;5;28mself\u001B[39m\u001B[38;5;241m.\u001B[39m_constructor_from_mgr(new_mgr, axes\u001B[38;5;241m=\u001B[39mnew_mgr\u001B[38;5;241m.\u001B[39maxes)\u001B[38;5;241m.\u001B[39m__finalize__(\u001B[38;5;28mself\u001B[39m)\n\u001B[0;32m-> 1210\u001B[0m \u001B[38;5;28;01mdef\u001B[39;00m \u001B[38;5;21m_get_value\u001B[39m(\u001B[38;5;28mself\u001B[39m, label, takeable: \u001B[38;5;28mbool\u001B[39m \u001B[38;5;241m=\u001B[39m \u001B[38;5;28;01mFalse\u001B[39;00m):\n\u001B[1;32m   1211\u001B[0m \u001B[38;5;250m    \u001B[39m\u001B[38;5;124;03m\"\"\"\u001B[39;00m\n\u001B[1;32m   1212\u001B[0m \u001B[38;5;124;03m    Quickly retrieve single value at passed index label.\u001B[39;00m\n\u001B[1;32m   1213\u001B[0m \n\u001B[0;32m   (...)\u001B[0m\n\u001B[1;32m   1221\u001B[0m \u001B[38;5;124;03m    scalar value\u001B[39;00m\n\u001B[1;32m   1222\u001B[0m \u001B[38;5;124;03m    \"\"\"\u001B[39;00m\n\u001B[1;32m   1223\u001B[0m     \u001B[38;5;28;01mif\u001B[39;00m takeable:\n",
      "\u001B[0;31mKeyboardInterrupt\u001B[0m: "
     ]
    }
   ],
   "source": [
    "nodes_impoved = nodes_output.copy()\n",
    "for i in range(1, 100):\n",
    "    factor = 0.05 * i \n",
    "    nodes_impoved.radius = nodes_output.radius * factor\n",
    "    n, overlap, distance, angle, total_score = score.calc_score(nodes_input, nodes_impoved, edges, k)\n",
    "    print(f\"[{factor}] Score: {total_score:.2f} (n={n}, k={k}, overlap={overlap:.2f}, distance={distance:.2f}, angle={angle:.2f})\")"
   ],
   "metadata": {
    "collapsed": false,
    "ExecuteTime": {
     "end_time": "2024-03-02T11:01:30.324343Z",
     "start_time": "2024-03-02T11:01:16.919714Z"
    }
   },
   "id": "69d8da883a9f61ae",
   "execution_count": 24
  },
  {
   "cell_type": "code",
   "outputs": [
    {
     "name": "stdout",
     "output_type": "stream",
     "text": [
      "16.15825874 45.0806728 2.8615370866238203 HRV 0\n",
      "63.95351808 41.93777059 8.045659971060543 UZB 1\n",
      "26.27088074 41.8437846 4.0053328126022905 BGR 2\n",
      "-14.01124238 28.16095608 6.203751286809937 ESH 3\n",
      "10.2527829 2.169179408 2.014591366207501 GNQ 4\n",
      "21.96012976 43.3172945 3.5755556587313486 SRB 5\n",
      "-2.717683924 12.68655848 6.284474316769861 BFA 6\n",
      "0.1297880187 5.848968269 2.8663607233292 TGO 7\n",
      "57.79474169 40.94003364 8.403652614448438 TKM 8\n",
      "25.6690671 56.78027899 3.056272829781945 LVA 9\n",
      "8.371702204 51.10563387 7.188151706164064 DEU 10\n",
      "98.48972386 11.98111591 8.616347946660296 THA 11\n",
      "46.87233477 39.87134099 3.5397490074557925 AZE 12\n",
      "108.7034892 33.22327156 37.476184262326676 CHN 13\n",
      "11.44318729 -1.506292259 6.223172228397708 GAB 14\n",
      "70.61460848 30.01948557 11.296042039785883 PAK 15\n",
      "33.95326643 -2.958259468 1.9521122650644622 RWA 16\n",
      "38.96254183 34.18185822 5.176198835803255 SYR 17\n",
      "31.79565352 -14.45095345 10.435164883598368 ZMB 18\n",
      "10.57333257 56.49498912 2.497021768536536 DNK 19\n",
      "82.47292868 27.48166142 4.614656943874601 NPL 20\n",
      "8.603109396 36.76130624 4.865401656358228 TUN 21\n",
      "91.21394018 21.0137147 4.6207505772901625 BGD 22\n",
      "75.86761922 41.68554374 5.378677064447071 KGZ 23\n",
      "29.97192862 28.44025586 12.043287110611452 EGY 24\n",
      "2.88146487 29.79065825 18.56354865206217 DZA 25\n",
      "9.316793346 19.53252587 13.539480353478147 NER 26\n",
      "63.06202659 32.52627408 9.714358393590041 AFG 27\n",
      "47.55795113 13.82610728 8.740121587241878 YEM 28\n",
      "-10.38368738 39.29135545 3.6502237637941173 PRT 29\n",
      "26.71258797 -1.266100006 18.41925278928567 COD 30\n",
      "47.68030876 30.29796899 1.6056125834716548 KWT 31\n",
      "-8.383096131 35.00030367 0.030901936161855166 GIB 32\n",
      "105.3021663 8.860332604 5.1179365861862225 KHM 33\n",
      "119.7715267 -4.334972317 16.60015271495432 IDN 34\n",
      "71.06496151 39.20090948 4.550230089872285 TJK 35\n",
      "-14.63824508 6.79870406 3.2217645908053605 SLE 36\n",
      "32.85383229 39.28037743 10.647568421414128 TUR 37\n",
      "28.88816179 52.61678473 5.480590002535562 BLR 38\n",
      "21.11778079 47.3045946 3.6687683030188847 HUN 39\n",
      "22.72407224 40.86760536 1.9288188841202558 MKD 40\n",
      "115.1556237 2.739217578 0.9132903293892941 BRN 41\n",
      "21.51053565 -29.68001579 13.291626478279163 ZAF 42\n",
      "19.23002613 16.5746612 13.63001232782705 TCD 43\n",
      "9.383529042 47.01862009 0.09406920237734229 SMR 44\n",
      "0.6662744778 45.57429798 8.934354900174029 FRA 45\n",
      "38.38697087 -18.8507307 10.7693580040799 MOZ 46\n",
      "39.82466788 8.568780411 12.640297132402788 ETH 47\n",
      "39.56142929 17.42619947 4.124939713741288 ERI 48\n",
      "0.8726212795 42.03152074 0.26026206750103 AND 49\n",
      "19.28840463 43.86908439 2.7219911018816463 BIH 50\n",
      "19.19789248 -13.17305276 13.430577770908654 AGO 51\n",
      "27.82384405 66.16257447 6.997520380946836 FIN 52\n",
      "31.88527941 17.39401363 16.519328416765436 SDN 53\n",
      "88.05085425 27.18507129 2.3569218212962175 BTN 54\n",
      "97.1201087 19.60104423 9.89401628114117 MMR 55\n",
      "110.1485653 52.88401616 15.043446359506243 MNG 56\n",
      "128.031611 36.34344101 3.807757255350145 KOR 57\n",
      "20.61917575 7.815439327 9.4940652355111 CAF 58\n",
      "34.88606266 31.38668508 1.7335407798667928 ISR 59\n",
      "114.131976 19.42493693 0.0690988298942671 MAC 60\n",
      "107.9516723 13.19464155 6.922562507833056 VNM 61\n",
      "-7.067327995 32.18193946 8.03801277866019 MAR 62\n",
      "35.49819025 32.35272513 1.2297521169972385 LBN 63\n",
      "45.14596555 23.39080457 17.636062827189136 SAU 64\n",
      "53.58910641 32.98816248 15.4425151192161 IRN 65\n",
      "44.55642647 11.16808805 1.832131292719642 DJI 66\n",
      "23.7057888 55.49005629 3.0737616009915345 LTU 67\n",
      "97.32089789 73.60372031 49.738130048993526 RUS 68\n",
      "30.19617449 -20.8160741 7.519121184841293 ZWE 69\n",
      "-14.07697921 21.16876076 12.211805013064447 MRT 70\n",
      "22.70781027 -21.51216993 9.176459892815169 BWA 71\n",
      "52.50346104 24.22188387 1.2947382687625772 QAT 72\n",
      "-20.55570765 13.42993265 1.2435997800790115 GMB 73\n",
      "77.76851317 18.56934478 21.809842805662843 IND 74\n",
      "13.27160686 5.966872194 8.2939706717096 CMR 75\n",
      "10.74008628 39.03221129 0.007978845608028654 VAT 76\n",
      "-11.82282048 4.914826566 4.014168247641482 LBR 77\n",
      "-3.171653983 5.952113942 5.874728172400093 GHA 78\n",
      "25.59361073 45.60675284 5.872983223449654 ROU 79\n",
      "35.12884981 48.32875522 9.344420528857972 UKR 80\n",
      "33.48959948 -4.784262697 2.0067867395466026 BDI 81\n",
      "41.16634737 0.5444186378 9.163578262170285 KEN 82\n",
      "-12.25671058 11.00273596 5.9642391277240385 GIN 83\n",
      "36.97424116 -13.07450939 4.140413572853406 MWI 84\n",
      "14.7390227 47.34460401 1.712666225854773 SVN 85\n",
      "27.50791444 -30.8205316 2.095704212809314 LSO 86\n",
      "-7.900612144 6.822359458 6.830516324371309 CIV 87\n",
      "51.8258037 8.322182675 9.605217886703802 SOM 88\n",
      "31.52572655 7.872724183 9.469350306104609 SSD 89\n",
      "128.1378604 -7.968918452 1.4670014112087995 TLS 90\n",
      "9.708793496 48.43627033 0.1522266721510392 LIE 91\n",
      "1.601818225 50.17771699 2.101664888758613 BEL 92\n",
      "16.60866784 -1.417607652 7.034396636012694 COG 93\n",
      "38.35832853 -6.932402349 11.693637263754326 TZA 94\n",
      "14.14377139 50.62022392 3.37797411741702 CZE 95\n",
      "112.1549874 0.4793040514 6.918284905670312 MYS 96\n",
      "19.71157942 49.79787594 2.6636441277096723 SVK 97\n",
      "35.38969901 0.9636696685 5.9117646500434855 UGA 98\n",
      "128.271238 42.64954441 4.176146389197808 PRK 99\n",
      "4.488073952 48.35246258 0.6116710228713043 LUX 100\n",
      "1.170942227 8.534455082 4.036688745933154 BEN 101\n",
      "23.31766031 37.50289482 4.370026195064624 GRC 102\n",
      "6.864082512 47.53579068 2.4440156174200904 CHE 103\n",
      "-15.38988349 14.69072378 5.335068107594164 SEN 104\n",
      "37.89399435 30.10405669 3.595353178468527 JOR 105\n",
      "4.488403674 51.91361588 2.460720484512008 NLD 106\n",
      "58.95485193 18.20380583 6.691816475825589 OMN 107\n",
      "11.30534251 41.88162325 6.602970802637249 ITA 108\n",
      "105.2450956 17.21635365 5.853352051024522 LAO 109\n",
      "44.39959273 38.80096242 2.0744691699927422 ARM 110\n",
      "8.168629011 42.5590484 0.017841241161527712 MCO 111\n",
      "54.97921306 23.98654635 3.477898169151024 ARE 112\n",
      "36.45440943 32.66592302 0.9486441430899224 PSE 113\n",
      "14.32032573 63.82824584 8.071650400020049 SWE 114\n",
      "28.64693778 45.79013521 2.2129325057450684 MDA 115\n",
      "-5.333697071 40.45241876 8.55629171467883 ESP 116\n",
      "7.186869745 10.29306629 11.560994867881757 NGA 117\n",
      "20.84344612 39.73993872 2.039465357573114 ALB 118\n",
      "32.22824636 -27.21997375 1.585041409450057 SWZ 119\n",
      "42.66314353 41.84067157 3.1756306699768504 GEO 120\n",
      "16.38959652 28.125431 15.955606606482256 LBY 121\n",
      "150.4584799 -5.422476837 8.183312704103455 PNG 122\n",
      "20.42027937 53.44028061 6.726095861022677 POL 123\n",
      "11.88827275 49.0067307 3.48353146289249 AUT 124\n",
      "115.2219134 20.28846549 0.3996597313803658 HKG 125\n",
      "29.05802376 60.83097586 2.558075639653592 EST 126\n",
      "8.06212814 62.62029893 6.844687013751003 NOR 127\n",
      "19.99265541 40.86576218 1.413652406866368 MNE 128\n",
      "44.32802373 33.25021361 7.963571445892072 IRQ 129\n",
      "-16.66991581 11.2362865 2.2862142627261157 GNB 130\n",
      "-4.527484184 19.8839417 13.39547666024307 MLI 131\n",
      "67.52420256 53.7806271 19.855874703428896 KAZ 132\n"
     ]
    }
   ],
   "source": [
    "for idx, n in enumerate(nodes_output.index):\n",
    "    print(nodes_output.loc[n, 'x'], nodes_output.loc[n, 'y'], nodes_output.loc[n, 'radius']*0.2, n, idx)"
   ],
   "metadata": {
    "collapsed": false,
    "ExecuteTime": {
     "end_time": "2024-03-02T11:02:22.670445Z",
     "start_time": "2024-03-02T11:02:22.663372Z"
    }
   },
   "id": "e48915b488ee2819",
   "execution_count": 25
  },
  {
   "cell_type": "code",
   "outputs": [
    {
     "name": "stdout",
     "output_type": "stream",
     "text": [
      "  123,487\n"
     ]
    }
   ],
   "source": [
    "test = 123487\n",
    "print(f\"{test:9,d}\")"
   ],
   "metadata": {
    "collapsed": false,
    "ExecuteTime": {
     "end_time": "2024-02-23T21:06:57.677628820Z",
     "start_time": "2024-02-23T21:06:57.657722220Z"
    }
   },
   "id": "dcdffea74d1a6eb4",
   "execution_count": 14
  },
  {
   "cell_type": "code",
   "outputs": [],
   "source": [],
   "metadata": {
    "collapsed": false
   },
   "id": "f8fe6ea621214ad5"
  }
 ],
 "metadata": {
  "kernelspec": {
   "display_name": "Python 3",
   "language": "python",
   "name": "python3"
  },
  "language_info": {
   "codemirror_mode": {
    "name": "ipython",
    "version": 2
   },
   "file_extension": ".py",
   "mimetype": "text/x-python",
   "name": "python",
   "nbconvert_exporter": "python",
   "pygments_lexer": "ipython2",
   "version": "2.7.6"
  }
 },
 "nbformat": 4,
 "nbformat_minor": 5
}
