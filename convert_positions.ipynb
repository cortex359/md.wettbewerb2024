{
 "cells": [
  {
   "cell_type": "code",
   "outputs": [],
   "source": [
    "import pandas as pd\n",
    "import numpy as np\n",
    "from utils import score\n",
    "from utils import input"
   ],
   "metadata": {
    "collapsed": false,
    "ExecuteTime": {
     "end_time": "2024-03-01T15:33:04.790444Z",
     "start_time": "2024-03-01T15:33:04.442584Z"
    }
   },
   "id": "7b807ecfc2ebbba3",
   "execution_count": 1
  },
  {
   "cell_type": "code",
   "outputs": [],
   "source": [
    "nodes_input, edges, k = input.read_to_df(\"input_files/Population_Density_Afro-Eurasia.txt\")\n",
    "nodes_output = score.read_to_df(\"result_files/Population_Density_Afro-Eurasia_score_3418.66.txt\")\n",
    "nodes_output.set_index(\"node\", inplace=True)\n",
    "edges = list(zip(edges.node_0.to_list(), edges.node_1.to_list()))"
   ],
   "metadata": {
    "collapsed": false,
    "ExecuteTime": {
     "end_time": "2024-03-01T15:34:31.439616Z",
     "start_time": "2024-03-01T15:34:31.428057Z"
    }
   },
   "id": "c746d15e9df2fde5",
   "execution_count": 10
  },
  {
   "cell_type": "code",
   "outputs": [
    {
     "name": "stdout",
     "output_type": "stream",
     "text": [
      "Score: 3418.66 (n=133, k=554, overlap=99.98, distance=0.00, angle=0.00)\n"
     ]
    }
   ],
   "source": [
    "n, overlap, distance, angle, total_score = score.calc_score(nodes_input, nodes_output, edges, k)\n",
    "total_score\n",
    "print(f\"Score: {total_score:.2f} (n={n}, k={k}, overlap={overlap:.2f}, distance={distance:.2f}, angle={angle:.2f})\")"
   ],
   "metadata": {
    "collapsed": false,
    "ExecuteTime": {
     "end_time": "2024-03-01T15:34:32.862713Z",
     "start_time": "2024-03-01T15:34:32.347377Z"
    }
   },
   "id": "4b0e174c2d25a284",
   "execution_count": 11
  },
  {
   "cell_type": "code",
   "outputs": [
    {
     "data": {
      "text/plain": "node\nHRV    0.908853\nUZB    0.959122\nBGR    0.842515\nESH    0.159577\nGNQ    0.839676\n         ...   \nMNE    0.733446\nIRQ    1.099808\nGNB    0.938999\nMLI    0.468651\nKAZ    0.290434\nName: radius, Length: 133, dtype: float64"
     },
     "execution_count": 14,
     "metadata": {},
     "output_type": "execute_result"
    }
   ],
   "source": [
    "nodes_output.radius"
   ],
   "metadata": {
    "collapsed": false,
    "ExecuteTime": {
     "end_time": "2024-03-01T15:34:41.154693Z",
     "start_time": "2024-03-01T15:34:41.150510Z"
    }
   },
   "id": "f17238098db7b514",
   "execution_count": 14
  },
  {
   "cell_type": "code",
   "outputs": [],
   "source": [
    "nodes_output.radius = nodes_output.radius - (nodes_output.radius- np.sqrt(np.divide(nodes_input.value, 2*np.pi)))"
   ],
   "metadata": {
    "collapsed": false,
    "ExecuteTime": {
     "end_time": "2024-03-01T15:34:37.437195Z",
     "start_time": "2024-03-01T15:34:37.433150Z"
    }
   },
   "id": "b89a1afa7ddf8ff8",
   "execution_count": 13
  },
  {
   "cell_type": "code",
   "outputs": [
    {
     "name": "stdout",
     "output_type": "stream",
     "text": [
      "[29] Score: 1314.16 (n=133, k=554, overlap=99.90, distance=321.96, angle=0.00)\n",
      "[30] Score: 1350.48 (n=133, k=554, overlap=99.91, distance=307.90, angle=0.00)\n",
      "[31] Score: 1386.32 (n=133, k=554, overlap=99.91, distance=294.74, angle=0.00)\n",
      "[32] Score: 1421.69 (n=133, k=554, overlap=99.91, distance=282.40, angle=0.00)\n",
      "[33] Score: 1456.61 (n=133, k=554, overlap=99.91, distance=270.82, angle=0.00)\n",
      "[34] Score: 1491.07 (n=133, k=554, overlap=99.92, distance=259.91, angle=0.00)\n",
      "[35] Score: 1525.09 (n=133, k=554, overlap=99.92, distance=249.63, angle=0.00)\n",
      "[36] Score: 1558.68 (n=133, k=554, overlap=99.92, distance=239.91, angle=0.00)\n",
      "[37] Score: 1591.85 (n=133, k=554, overlap=99.92, distance=230.73, angle=0.00)\n",
      "[38] Score: 1624.59 (n=133, k=554, overlap=99.93, distance=222.02, angle=0.00)\n",
      "[39] Score: 1656.93 (n=133, k=554, overlap=99.93, distance=213.77, angle=0.00)\n",
      "[40] Score: 1688.87 (n=133, k=554, overlap=99.93, distance=205.92, angle=0.00)\n",
      "[41] Score: 1720.41 (n=133, k=554, overlap=99.93, distance=198.46, angle=0.00)\n",
      "[42] Score: 1751.57 (n=133, k=554, overlap=99.93, distance=191.35, angle=0.00)\n",
      "[43] Score: 1782.34 (n=133, k=554, overlap=99.93, distance=184.58, angle=0.00)\n",
      "[44] Score: 1812.75 (n=133, k=554, overlap=99.94, distance=178.11, angle=0.00)\n",
      "[45] Score: 1842.78 (n=133, k=554, overlap=99.94, distance=171.93, angle=0.00)\n",
      "[46] Score: 1872.46 (n=133, k=554, overlap=99.94, distance=166.02, angle=0.00)\n",
      "[47] Score: 1901.79 (n=133, k=554, overlap=99.94, distance=160.36, angle=0.00)\n",
      "[48] Score: 1930.76 (n=133, k=554, overlap=99.94, distance=154.94, angle=0.00)\n",
      "[49] Score: 1959.40 (n=133, k=554, overlap=99.94, distance=149.73, angle=0.00)\n"
     ]
    }
   ],
   "source": [
    "nodes_impoved = nodes_output.copy()\n",
    "for i in range(29, 50):\n",
    "    factor = i \n",
    "    nodes_impoved.radius = nodes_output.radius * factor\n",
    "    n, overlap, distance, angle, total_score = score.calc_score(nodes_input, nodes_impoved, edges, k)\n",
    "    print(f\"[{factor}] Score: {total_score:.2f} (n={n}, k={k}, overlap={overlap:.2f}, distance={distance:.2f}, angle={angle:.2f})\")"
   ],
   "metadata": {
    "collapsed": false,
    "ExecuteTime": {
     "end_time": "2024-03-01T15:35:36.437565Z",
     "start_time": "2024-03-01T15:35:26.847386Z"
    }
   },
   "id": "69d8da883a9f61ae",
   "execution_count": 16
  },
  {
   "cell_type": "code",
   "outputs": [
    {
     "name": "stdout",
     "output_type": "stream",
     "text": [
      "15.5 45.2 44.533807217745306 HRV 0\n",
      "64.0 41.0 46.996992309527926 UZB 1\n",
      "25.0 43.0 41.28322106984689 BGR 2\n",
      "-13.0 24.5 7.819268695868132 ESH 3\n",
      "10.0 2.0 41.14414188375926 GNQ 4\n",
      "21.0 44.0 47.56275463756022 SRB 5\n",
      "-2.0 13.0 48.517286333017566 BFA 6\n",
      "1.2 8.0 67.88593434184637 TGO 7\n",
      "60.0 40.0 19.54817173967033 TKM 8\n",
      "25.0 57.0 28.529617402176342 LVA 9\n",
      "9.0 51.0 81.26022395565778 DEU 10\n",
      "100.0 15.0 62.37061621422254 THA 11\n",
      "47.5 40.5 59.06654042400004 AZE 12\n",
      "105.0 35.0 64.71596372816788 CHN 13\n",
      "11.8 -1.0 16.237930984916545 GAB 14\n",
      "70.0 30.0 92.95150523365362 PAK 15\n",
      "30.0 -2.0 125.77847256289328 RWA 16\n",
      "38.0 35.0 59.19578902586392 SYR 17\n",
      "30.0 -15.0 27.714316641600973 ZMB 18\n",
      "10.0 56.0 63.97361336265604 DNK 19\n",
      "84.0 28.0 77.2585691482829 NPL 20\n",
      "9.0 34.0 47.11879897336888 TUN 21\n",
      "90.0 24.0 191.81129906251886 BGD 22\n",
      "75.0 41.0 31.15465914825036 KGZ 23\n",
      "30.0 27.0 56.01156720504699 EGY 24\n",
      "3.0 28.0 23.046954582448855 DZA 25\n",
      "8.0 16.0 24.415658677317786 NER 26\n",
      "65.0 33.0 42.334317948036556 AFG 27\n",
      "48.0 15.0 42.51446479564366 YEM 28\n",
      "-8.0 39.5 55.66940415460843 PRT 29\n",
      "25.0 0.0 35.3492352116581 COD 30\n",
      "47.7 29.3 81.84593302000201 KWT 31\n",
      "-5.4 36.2 364.8445133708195 GIB 32\n",
      "105.0 13.0 51.571619014831185 KHM 33\n",
      "120.0 -5.0 63.97361336265604 IDN 34\n",
      "71.0 39.0 45.00327096253473 TJK 35\n",
      "-11.5 8.5 58.088009882856824 SLE 36\n",
      "35.0 39.0 55.08284928911408 TUR 37\n",
      "28.0 53.0 35.99200122600499 BLR 38\n",
      "20.0 47.0 55.49753154880864 HUN 39\n",
      "22.0 41.8 47.84312698808695 MKD 40\n",
      "114.7 4.5 48.75299923309156 BRN 41\n",
      "24.0 -29.0 37.141526305373105 ZAF 42\n",
      "19.0 15.0 20.030915338092207 TCD 43\n",
      "12.4 43.8 124.60330363242798 SMR 44\n",
      "2.0 46.0 57.22641721597168 FRA 45\n",
      "35.0 -18.2 34.528955635735 MOZ 46\n",
      "38.0 8.0 55.70371503870024 ETH 47\n",
      "39.0 15.0 29.25702447506484 ERI 48\n",
      "1.6 42.5 68.69729308197691 AND 49\n",
      "18.0 44.0 41.65182857175583 BIH 50\n",
      "18.5 -12.5 28.529617402176342 AGO 51\n",
      "26.0 64.0 22.459139436763884 FIN 52\n",
      "30.0 15.0 26.731722809052243 SDN 53\n",
      "90.5 27.5 23.941523083243005 BTN 54\n",
      "98.0 22.0 48.12186583335735 MMR 55\n",
      "105.0 46.0 7.819268695868132 MNG 56\n",
      "127.5 37.0 121.21442841543978 KOR 57\n",
      "21.0 7.0 16.000868173434725 CAF 58\n",
      "34.8 31.5 108.3469652742113 ISR 59\n",
      "113.5 22.2 769.8406581887793 MAC 60\n",
      "106.0 16.0 93.46397744475038 VNM 61\n",
      "-5.0 32.0 48.4384604705059 MAR 62\n",
      "35.8 33.8 120.37611148541555 LBN 63\n",
      "45.0 25.0 21.855520422871578 SAU 64\n",
      "53.0 32.0 38.99848013817076 IRN 65\n",
      "43.0 11.5 36.831577690765926 DJI 66\n",
      "24.0 56.0 34.69456308768653 LTU 67\n",
      "100.0 60.0 15.638537391736264 RUS 68\n",
      "30.0 -20.0 34.528955635735 ZWE 69\n",
      "-12.0 20.0 11.398444904619073 MRT 70\n",
      "24.0 -22.0 11.398444904619073 BWA 71\n",
      "51.2 25.5 80.90676328076202 QAT 72\n",
      "-16.6 13.5 87.11556706296523 GMB 73\n",
      "77.0 20.0 115.3507783217006 IND 74\n",
      "12.0 6.0 40.95796834092677 CMR 75\n",
      "12.4 41.9 180.55358533300256 VAT 76\n",
      "-9.5 6.5 39.48537140414976 LBR 77\n",
      "-2.0 8.0 64.44970263401359 GHA 78\n",
      "25.0 46.0 48.94855958187175 ROU 79\n",
      "32.0 49.0 41.92615752096489 UKR 80\n",
      "30.0 -3.5 119.48395225328625 BDI 81\n",
      "38.0 1.0 51.7934334536032 KEN 82\n",
      "-10.0 11.0 39.966331539934984 GIN 83\n",
      "34.0 -13.5 78.41229549930915 MWI 84\n",
      "15.0 46.0 53.996848705407075 SVN 85\n",
      "28.5 -29.5 46.09390916489771 LSO 86\n",
      "-5.0 8.0 50.14401360913155 CIV 87\n",
      "49.0 10.0 28.32799213787723 SOM 88\n",
      "30.0 8.0 22.029670749283277 SSD 89\n",
      "125.5 -8.6 50.33416982280457 TLS 90\n",
      "9.5 47.2 82.77444750199234 LIE 91\n",
      "4.0 50.8 103.3837733091176 BEL 92\n",
      "15.0 -1.0 22.288345023189358 COG 93\n",
      "35.0 -6.0 45.92780444749438 TZA 94\n",
      "15.5 49.8 61.35136942955617 CZE 95\n",
      "112.5 2.5 53.784122276120684 MYS 96\n",
      "19.5 48.7 57.19301982928323 SVK 97\n",
      "32.0 1.0 81.91593668185354 UGA 98\n",
      "127.0 40.0 77.55476922178082 PRK 99\n",
      "6.2 49.8 83.92064506688399 LUX 100\n",
      "2.2 9.5 58.02218775420039 BEN 101\n",
      "22.0 39.0 47.11879897336888 GRC 102\n",
      "8.0 47.0 78.50970211512399 CHE 103\n",
      "-14.0 14.0 50.56141327981942 SEN 104\n",
      "36.0 31.0 59.4534432969501 JOR 105\n",
      "5.8 52.5 120.37611148541555 NLD 106\n",
      "57.0 21.0 20.408890465097933 OMN 107\n",
      "12.8 42.8 74.25732687746924 ITA 108\n",
      "105.0 18.0 30.283897438618197 LAO 109\n",
      "45.0 40.0 51.97755573159333 ARM 110\n",
      "7.4 43.7 708.9036066773854 MCO 111\n",
      "54.0 24.0 60.91380950417533 ARE 112\n",
      "35.2 32.0 157.1775121867293 PSE 113\n",
      "15.0 62.0 26.87429300851052 SWE 114\n",
      "29.0 47.0 53.784122276120684 MDA 115\n",
      "-4.0 40.0 51.31162360055933 ESP 116\n",
      "8.0 10.0 82.49699047272239 NGA 117\n",
      "20.0 41.0 53.49917127903569 ALB 118\n",
      "31.5 -26.5 44.145987288253025 SWZ 119\n",
      "43.5 42.0 38.555021222074046 GEO 120\n",
      "17.0 25.0 10.343920201829693 LBY 121\n",
      "147.0 -6.0 25.11008124837508 PNG 122\n",
      "20.0 52.0 60.91380950417533 POL 123\n",
      "13.3 47.3 54.839503230079146 AUT 124\n",
      "114.2 22.2 444.4877716139879 HKG 125\n",
      "26.0 59.0 29.25702447506484 EST 126\n",
      "10.0 62.0 20.408890465097933 NOR 127\n",
      "19.0 42.0 35.93887647199186 MNE 128\n",
      "44.0 33.0 53.89059045476972 IRQ 129\n",
      "-15.0 12.0 46.010931763381734 GNB 130\n",
      "-4.0 17.0 22.96390222374719 MLI 131\n",
      "68.0 48.0 14.23128383993285 KAZ 132\n"
     ]
    }
   ],
   "source": [
    "for idx, n in enumerate(nodes_output.index):\n",
    "    print(nodes_output.loc[n, 'x'], nodes_output.loc[n, 'y'], nodes_output.loc[n, 'radius']*49, n, idx)"
   ],
   "metadata": {
    "collapsed": false,
    "ExecuteTime": {
     "end_time": "2024-03-01T15:36:31.869636Z",
     "start_time": "2024-03-01T15:36:31.858995Z"
    }
   },
   "id": "e48915b488ee2819",
   "execution_count": 17
  },
  {
   "cell_type": "code",
   "outputs": [
    {
     "name": "stdout",
     "output_type": "stream",
     "text": [
      "  123,487\n"
     ]
    }
   ],
   "source": [
    "test = 123487\n",
    "print(f\"{test:9,d}\")"
   ],
   "metadata": {
    "collapsed": false,
    "ExecuteTime": {
     "end_time": "2024-02-23T21:06:57.677628820Z",
     "start_time": "2024-02-23T21:06:57.657722220Z"
    }
   },
   "id": "dcdffea74d1a6eb4",
   "execution_count": 14
  },
  {
   "cell_type": "code",
   "outputs": [],
   "source": [],
   "metadata": {
    "collapsed": false
   },
   "id": "f8fe6ea621214ad5"
  }
 ],
 "metadata": {
  "kernelspec": {
   "display_name": "Python 3",
   "language": "python",
   "name": "python3"
  },
  "language_info": {
   "codemirror_mode": {
    "name": "ipython",
    "version": 2
   },
   "file_extension": ".py",
   "mimetype": "text/x-python",
   "name": "python",
   "nbconvert_exporter": "python",
   "pygments_lexer": "ipython2",
   "version": "2.7.6"
  }
 },
 "nbformat": 4,
 "nbformat_minor": 5
}
