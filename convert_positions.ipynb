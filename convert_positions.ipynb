{
 "cells": [
  {
   "cell_type": "code",
   "outputs": [],
   "source": [
    "import pandas as pd\n",
    "import numpy as np\n",
    "from utils import score\n",
    "from utils import input"
   ],
   "metadata": {
    "collapsed": false,
    "ExecuteTime": {
     "end_time": "2024-02-23T21:52:07.308788255Z",
     "start_time": "2024-02-23T21:52:07.297162146Z"
    }
   },
   "id": "7b807ecfc2ebbba3",
   "execution_count": 16
  },
  {
   "cell_type": "code",
   "outputs": [],
   "source": [
    "nodes_input, edges = input.read_to_df(\"input_files/Population_Density_Americas.txt\")\n",
    "nodes_output = score.read_to_df(\"original_result_files/Population_Density_Americas.txt.out\")\n",
    "nodes_output.set_index(\"node\", inplace=True)\n",
    "edges = list(zip(edges.node_0.to_list(), edges.node_1.to_list()))"
   ],
   "metadata": {
    "collapsed": false,
    "ExecuteTime": {
     "end_time": "2024-02-23T21:52:14.694674298Z",
     "start_time": "2024-02-23T21:52:14.668281041Z"
    }
   },
   "id": "c746d15e9df2fde5",
   "execution_count": 18
  },
  {
   "cell_type": "code",
   "outputs": [
    {
     "name": "stdout",
     "output_type": "stream",
     "text": [
      "Score: 52.51 (n=23, k=74, overlap=53.83, distance=1738.49, angle=0.00)\n"
     ]
    }
   ],
   "source": [
    "n, k, overlap, distance, angle, total_score = score.calc_score(nodes_input, nodes_output, edges)\n",
    "total_score\n",
    "print(f\"Score: {total_score:.2f} (n={n}, k={k}, overlap={overlap:.2f}, distance={distance:.2f}, angle={angle:.2f})\")"
   ],
   "metadata": {
    "collapsed": false,
    "ExecuteTime": {
     "end_time": "2024-02-23T21:52:15.287158315Z",
     "start_time": "2024-02-23T21:52:15.246569408Z"
    }
   },
   "id": "4b0e174c2d25a284",
   "execution_count": 19
  },
  {
   "cell_type": "code",
   "outputs": [
    {
     "data": {
      "text/plain": "node\nECU    0.919300\nSUR    0.214837\nBRA    0.547002\nARG    0.438837\nNIC    0.821472\nBLZ    0.456610\nBOL    0.363454\nHND    1.044894\nPRY    0.446031\nCAN    0.222122\nURY    0.475395\nSLV    1.882230\nMEX    0.873128\nCRI    1.085240\nPAN    0.833016\nGTM    1.395158\nVEN    0.614164\nCHL    0.551349\nPER    0.555662\nUSA    0.654314\nCOL    0.735613\nGUF    0.207296\nGUY    0.218510\nName: radius, dtype: float64"
     },
     "execution_count": 22,
     "metadata": {},
     "output_type": "execute_result"
    }
   ],
   "source": [
    "nodes_output.radius"
   ],
   "metadata": {
    "collapsed": false,
    "ExecuteTime": {
     "end_time": "2024-02-23T21:52:19.685925197Z",
     "start_time": "2024-02-23T21:52:19.674366040Z"
    }
   },
   "id": "f17238098db7b514",
   "execution_count": 22
  },
  {
   "cell_type": "code",
   "outputs": [],
   "source": [
    "nodes_output.radius = nodes_output.radius - (nodes_output.radius- np.sqrt(np.divide(nodes_input.value, 2*np.pi)))"
   ],
   "metadata": {
    "collapsed": false,
    "ExecuteTime": {
     "end_time": "2024-02-23T21:52:18.505511955Z",
     "start_time": "2024-02-23T21:52:18.487813567Z"
    }
   },
   "id": "b89a1afa7ddf8ff8",
   "execution_count": 21
  },
  {
   "cell_type": "code",
   "outputs": [
    {
     "name": "stdout",
     "output_type": "stream",
     "text": [
      "[1] Score: 37.74 (n=23, k=74, overlap=34.70, distance=2500.02, angle=0.00)\n",
      "[2] Score: 72.62 (n=23, k=74, overlap=67.35, distance=1200.01, angle=0.00)\n",
      "[3] Score: 104.96 (n=23, k=74, overlap=78.23, distance=766.67, angle=0.00)\n",
      "[4] Score: 135.03 (n=23, k=74, overlap=83.68, distance=550.01, angle=0.00)\n",
      "[5] Score: 163.06 (n=23, k=74, overlap=86.94, distance=420.00, angle=0.00)\n",
      "[6] Score: 189.24 (n=23, k=74, overlap=89.12, distance=333.34, angle=0.00)\n",
      "[7] Score: 213.76 (n=23, k=74, overlap=90.67, distance=271.43, angle=0.00)\n",
      "[8] Score: 236.77 (n=23, k=74, overlap=91.84, distance=225.00, angle=0.00)\n",
      "[9] Score: 258.40 (n=23, k=74, overlap=92.74, distance=188.89, angle=0.00)\n",
      "[10] Score: 278.78 (n=23, k=74, overlap=93.47, distance=160.00, angle=0.00)\n",
      "[11] Score: 298.01 (n=23, k=74, overlap=94.06, distance=136.37, angle=0.00)\n",
      "[12] Score: 316.18 (n=23, k=74, overlap=94.56, distance=116.67, angle=0.00)\n",
      "[13] Score: 333.38 (n=23, k=74, overlap=94.98, distance=100.00, angle=0.00)\n",
      "[14] Score: 349.69 (n=23, k=74, overlap=95.34, distance=85.72, angle=0.00)\n",
      "[15] Score: 365.17 (n=23, k=74, overlap=95.65, distance=73.33, angle=0.00)\n",
      "[16] Score: 379.89 (n=23, k=74, overlap=95.92, distance=62.50, angle=0.00)\n",
      "[17] Score: 393.89 (n=23, k=74, overlap=96.16, distance=52.94, angle=0.00)\n",
      "[18] Score: 407.24 (n=23, k=74, overlap=96.37, distance=44.45, angle=0.00)\n",
      "[19] Score: 419.97 (n=23, k=74, overlap=96.56, distance=36.84, angle=0.00)\n",
      "[20] Score: 432.13 (n=23, k=74, overlap=96.74, distance=30.00, angle=0.00)\n",
      "[21] Score: 443.75 (n=23, k=74, overlap=96.89, distance=23.81, angle=0.00)\n",
      "[22] Score: 454.87 (n=23, k=74, overlap=97.03, distance=18.18, angle=0.00)\n",
      "[23] Score: 465.53 (n=23, k=74, overlap=97.16, distance=13.04, angle=0.00)\n",
      "[24] Score: 475.74 (n=23, k=74, overlap=97.28, distance=8.33, angle=0.00)\n",
      "[25] Score: 485.54 (n=23, k=74, overlap=97.39, distance=4.00, angle=0.00)\n",
      "[26] Score: 494.95 (n=23, k=74, overlap=97.49, distance=0.00, angle=0.00)\n",
      "[27] Score: 494.49 (n=23, k=74, overlap=97.58, distance=0.00, angle=0.00)\n",
      "[28] Score: 494.05 (n=23, k=74, overlap=97.67, distance=0.00, angle=0.00)\n",
      "[29] Score: 493.65 (n=23, k=74, overlap=97.75, distance=0.00, angle=0.00)\n"
     ]
    }
   ],
   "source": [
    "nodes_impoved = nodes_output.copy()\n",
    "for i in range(1, 30):\n",
    "    factor = i \n",
    "    nodes_impoved.radius = nodes_output.radius * factor\n",
    "    n, k, overlap, distance, angle, total_score = score.calc_score(nodes_input, nodes_impoved, edges)\n",
    "    print(f\"[{factor}] Score: {total_score:.2f} (n={n}, k={k}, overlap={overlap:.2f}, distance={distance:.2f}, angle={angle:.2f})\")"
   ],
   "metadata": {
    "collapsed": false,
    "ExecuteTime": {
     "end_time": "2024-02-23T21:52:49.378555550Z",
     "start_time": "2024-02-23T21:52:48.214139203Z"
    }
   },
   "id": "69d8da883a9f61ae",
   "execution_count": 24
  },
  {
   "cell_type": "code",
   "outputs": [
    {
     "name": "stdout",
     "output_type": "stream",
     "text": [
      "-77.5 -2.0 3.6772005609005647 ECU 0\n",
      "-56.0 4.0 0.8593479713983122 SUR 1\n",
      "-55.0 -10.0 2.188008383942852 BRA 2\n",
      "-64.0 -34.0 1.7553460337663038 ARG 3\n",
      "-85.0 13.0 3.2858897332920622 NIC 4\n",
      "-88.8 17.2 1.826441241104166 BLZ 5\n",
      "-65.0 -17.0 1.453814859003845 BOL 6\n",
      "-86.5 15.0 4.179574925009293 HND 7\n",
      "-58.0 -23.0 1.7841241161527712 PRY 8\n",
      "-95.0 60.0 0.8884866446580956 CAN 9\n",
      "-56.0 -33.0 1.9015783725757562 URY 10\n",
      "-88.9 13.8 7.528919214044566 SLV 11\n",
      "-102.0 23.0 3.492511251028815 MEX 12\n",
      "-84.0 10.0 4.340961329254203 CRI 13\n",
      "-80.0 9.0 3.3320637494037566 PAN 14\n",
      "-90.2 15.5 5.58063072279667 GTM 15\n",
      "-66.0 8.0 2.4566553364370574 VEN 16\n",
      "-71.0 -30.0 2.205396803500069 CHL 17\n",
      "-76.0 -10.0 2.222649192646566 PER 18\n",
      "-97.0 38.0 2.617255958188877 USA 19\n",
      "-72.0 4.0 2.9424528720438508 COL 20\n",
      "-53.0 4.0 0.8291859587312052 GUF 21\n",
      "-59.0 5.0 0.8740387444736633 GUY 22\n"
     ]
    }
   ],
   "source": [
    "for idx, n in enumerate(nodes_output.index):\n",
    "    print(nodes_output.loc[n, 'x'], nodes_output.loc[n, 'y'], nodes_output.loc[n, 'radius']*4, n, idx)"
   ],
   "metadata": {
    "collapsed": false,
    "ExecuteTime": {
     "end_time": "2024-02-23T21:53:18.853884304Z",
     "start_time": "2024-02-23T21:53:18.805066073Z"
    }
   },
   "id": "e48915b488ee2819",
   "execution_count": 25
  },
  {
   "cell_type": "code",
   "outputs": [
    {
     "name": "stdout",
     "output_type": "stream",
     "text": [
      "  123,487\n"
     ]
    }
   ],
   "source": [
    "test = 123487\n",
    "print(f\"{test:9,d}\")"
   ],
   "metadata": {
    "collapsed": false,
    "ExecuteTime": {
     "end_time": "2024-02-23T21:06:57.677628820Z",
     "start_time": "2024-02-23T21:06:57.657722220Z"
    }
   },
   "id": "dcdffea74d1a6eb4",
   "execution_count": 14
  },
  {
   "cell_type": "code",
   "outputs": [],
   "source": [],
   "metadata": {
    "collapsed": false
   },
   "id": "f8fe6ea621214ad5"
  }
 ],
 "metadata": {
  "kernelspec": {
   "display_name": "Python 3",
   "language": "python",
   "name": "python3"
  },
  "language_info": {
   "codemirror_mode": {
    "name": "ipython",
    "version": 2
   },
   "file_extension": ".py",
   "mimetype": "text/x-python",
   "name": "python",
   "nbconvert_exporter": "python",
   "pygments_lexer": "ipython2",
   "version": "2.7.6"
  }
 },
 "nbformat": 4,
 "nbformat_minor": 5
}
