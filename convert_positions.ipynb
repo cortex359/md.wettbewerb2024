{
 "cells": [
  {
   "cell_type": "code",
   "outputs": [],
   "source": [
    "import pandas as pd\n",
    "import numpy as np\n",
    "from utils import score\n",
    "from utils import input"
   ],
   "metadata": {
    "collapsed": false,
    "ExecuteTime": {
     "end_time": "2024-02-22T13:14:03.828392238Z",
     "start_time": "2024-02-22T13:14:03.799241721Z"
    }
   },
   "id": "7b807ecfc2ebbba3",
   "execution_count": 49
  },
  {
   "cell_type": "code",
   "outputs": [],
   "source": [
    "nodes_input, edges = input.read_to_df(\"input_files/Population_Density_Americas.txt\")\n",
    "nodes_output = score.read_to_df(\"original_result_files/Population_Density_Americas.txt.out\")\n",
    "nodes_output.set_index(\"node\", inplace=True)\n",
    "edges = list(zip(edges.node_0.to_list(), edges.node_1.to_list()))"
   ],
   "metadata": {
    "collapsed": false,
    "ExecuteTime": {
     "end_time": "2024-02-22T17:40:55.036566894Z",
     "start_time": "2024-02-22T17:40:54.994270718Z"
    }
   },
   "id": "c746d15e9df2fde5",
   "execution_count": 142
  },
  {
   "cell_type": "code",
   "outputs": [
    {
     "name": "stdout",
     "output_type": "stream",
     "text": [
      "Score: 52.51 (n=23, k=74, overlap=53.83, distance=1738.49, angle=0.00)\n"
     ]
    }
   ],
   "source": [
    "n, k, overlap, distance, angle, total_score = score.calc_score(nodes_input, nodes_output, edges)\n",
    "total_score\n",
    "print(f\"Score: {total_score:.2f} (n={n}, k={k}, overlap={overlap:.2f}, distance={distance:.2f}, angle={angle:.2f})\")"
   ],
   "metadata": {
    "collapsed": false,
    "ExecuteTime": {
     "end_time": "2024-02-22T17:40:55.883503862Z",
     "start_time": "2024-02-22T17:40:55.845052849Z"
    }
   },
   "id": "4b0e174c2d25a284",
   "execution_count": 143
  },
  {
   "cell_type": "code",
   "outputs": [
    {
     "data": {
      "text/plain": "node\nECU    1.300087\nSUR    0.303825\nBRA    0.773578\nARG    0.620609\nNIC    1.161737\nBLZ    0.645744\nBOL    0.514001\nHND    1.477703\nPRY    0.630783\nCAN    0.314127\nURY    0.672309\nSLV    2.661875\nMEX    1.234789\nCRI    1.534762\nPAN    1.178062\nGTM    1.973051\nVEN    0.868559\nCHL    0.779726\nPER    0.785825\nUSA    0.925340\nCOL    1.040314\nGUF    0.293162\nGUY    0.309019\nName: radius, dtype: float64"
     },
     "execution_count": 144,
     "metadata": {},
     "output_type": "execute_result"
    }
   ],
   "source": [
    "nodes_output.radius"
   ],
   "metadata": {
    "collapsed": false,
    "ExecuteTime": {
     "end_time": "2024-02-22T17:40:57.327150980Z",
     "start_time": "2024-02-22T17:40:57.318970396Z"
    }
   },
   "id": "f17238098db7b514",
   "execution_count": 144
  },
  {
   "cell_type": "code",
   "outputs": [],
   "source": [
    "nodes_output.radius = nodes_output.radius - (nodes_output.radius- np.sqrt(np.divide(nodes_input.value, 2*np.pi)))"
   ],
   "metadata": {
    "collapsed": false,
    "ExecuteTime": {
     "end_time": "2024-02-22T17:41:00.030439277Z",
     "start_time": "2024-02-22T17:41:00.023493206Z"
    }
   },
   "id": "b89a1afa7ddf8ff8",
   "execution_count": 145
  },
  {
   "cell_type": "code",
   "outputs": [
    {
     "name": "stdout",
     "output_type": "stream",
     "text": [
      "[8] Score: 236.77 (n=23, k=74, overlap=91.84, distance=225.00, angle=0.00)\n",
      "[16] Score: 379.89 (n=23, k=74, overlap=95.92, distance=62.50, angle=0.00)\n",
      "[24] Score: 475.74 (n=23, k=74, overlap=97.28, distance=8.33, angle=0.00)\n",
      "[32] Score: 492.59 (n=23, k=74, overlap=97.96, distance=0.00, angle=0.00)\n",
      "[40] Score: 490.56 (n=23, k=74, overlap=98.37, distance=0.00, angle=0.00)\n",
      "[48] Score: 489.21 (n=23, k=74, overlap=98.64, distance=0.00, angle=0.00)\n",
      "[56] Score: 488.25 (n=23, k=74, overlap=98.83, distance=0.00, angle=0.00)\n",
      "[64] Score: 487.54 (n=23, k=74, overlap=98.98, distance=0.00, angle=0.00)\n",
      "[72] Score: 486.98 (n=23, k=74, overlap=99.09, distance=0.00, angle=0.00)\n",
      "[80] Score: 486.54 (n=23, k=74, overlap=99.18, distance=0.00, angle=0.00)\n",
      "[88] Score: 486.18 (n=23, k=74, overlap=99.26, distance=0.00, angle=0.00)\n",
      "[96] Score: 485.88 (n=23, k=74, overlap=99.32, distance=0.00, angle=0.00)\n",
      "[104] Score: 485.62 (n=23, k=74, overlap=99.37, distance=0.00, angle=0.00)\n",
      "[112] Score: 485.40 (n=23, k=74, overlap=99.42, distance=0.00, angle=0.00)\n",
      "[120] Score: 485.21 (n=23, k=74, overlap=99.46, distance=0.00, angle=0.00)\n",
      "[128] Score: 485.05 (n=23, k=74, overlap=99.49, distance=0.00, angle=0.00)\n",
      "[136] Score: 484.90 (n=23, k=74, overlap=99.52, distance=0.00, angle=0.00)\n",
      "[144] Score: 484.77 (n=23, k=74, overlap=99.55, distance=0.00, angle=0.00)\n",
      "[152] Score: 484.66 (n=23, k=74, overlap=99.57, distance=0.00, angle=0.00)\n",
      "[160] Score: 484.55 (n=23, k=74, overlap=99.59, distance=0.00, angle=0.00)\n",
      "[168] Score: 484.46 (n=23, k=74, overlap=99.61, distance=0.00, angle=0.00)\n",
      "[176] Score: 484.38 (n=23, k=74, overlap=99.63, distance=0.00, angle=0.00)\n",
      "[184] Score: 484.30 (n=23, k=74, overlap=99.65, distance=0.00, angle=0.00)\n",
      "[192] Score: 484.23 (n=23, k=74, overlap=99.66, distance=0.00, angle=0.00)\n",
      "[200] Score: 484.16 (n=23, k=74, overlap=99.67, distance=0.00, angle=0.00)\n",
      "[208] Score: 484.10 (n=23, k=74, overlap=99.69, distance=0.00, angle=0.00)\n",
      "[216] Score: 484.04 (n=23, k=74, overlap=99.70, distance=0.00, angle=0.00)\n",
      "[224] Score: 483.99 (n=23, k=74, overlap=99.71, distance=0.00, angle=0.00)\n",
      "[232] Score: 483.94 (n=23, k=74, overlap=99.72, distance=0.00, angle=0.00)\n",
      "[240] Score: 483.90 (n=23, k=74, overlap=99.73, distance=0.00, angle=0.00)\n",
      "[248] Score: 483.85 (n=23, k=74, overlap=99.74, distance=0.00, angle=0.00)\n",
      "[256] Score: 483.82 (n=23, k=74, overlap=99.74, distance=0.00, angle=0.00)\n",
      "[264] Score: 483.78 (n=23, k=74, overlap=99.75, distance=0.00, angle=0.00)\n",
      "[272] Score: 483.74 (n=23, k=74, overlap=99.76, distance=0.00, angle=0.00)\n",
      "[280] Score: 483.71 (n=23, k=74, overlap=99.77, distance=0.00, angle=0.00)\n",
      "[288] Score: 483.68 (n=23, k=74, overlap=99.77, distance=0.00, angle=0.00)\n",
      "[296] Score: 483.65 (n=23, k=74, overlap=99.78, distance=0.00, angle=0.00)\n",
      "[304] Score: 483.62 (n=23, k=74, overlap=99.79, distance=0.00, angle=0.00)\n",
      "[312] Score: 483.59 (n=23, k=74, overlap=99.79, distance=0.00, angle=0.00)\n",
      "[320] Score: 483.57 (n=23, k=74, overlap=99.80, distance=0.00, angle=0.00)\n",
      "[328] Score: 483.54 (n=23, k=74, overlap=99.80, distance=0.00, angle=0.00)\n",
      "[336] Score: 483.52 (n=23, k=74, overlap=99.81, distance=0.00, angle=0.00)\n",
      "[344] Score: 483.50 (n=23, k=74, overlap=99.81, distance=0.00, angle=0.00)\n",
      "[352] Score: 483.48 (n=23, k=74, overlap=99.81, distance=0.00, angle=0.00)\n",
      "[360] Score: 483.46 (n=23, k=74, overlap=99.82, distance=0.00, angle=0.00)\n",
      "[368] Score: 483.44 (n=23, k=74, overlap=99.82, distance=0.00, angle=0.00)\n",
      "[376] Score: 483.42 (n=23, k=74, overlap=99.83, distance=0.00, angle=0.00)\n",
      "[384] Score: 483.40 (n=23, k=74, overlap=99.83, distance=0.00, angle=0.00)\n",
      "[392] Score: 483.39 (n=23, k=74, overlap=99.83, distance=0.00, angle=0.00)\n",
      "[400] Score: 483.37 (n=23, k=74, overlap=99.84, distance=0.00, angle=0.00)\n",
      "[408] Score: 483.36 (n=23, k=74, overlap=99.84, distance=0.00, angle=0.00)\n",
      "[416] Score: 483.34 (n=23, k=74, overlap=99.84, distance=0.00, angle=0.00)\n",
      "[424] Score: 483.33 (n=23, k=74, overlap=99.85, distance=0.00, angle=0.00)\n",
      "[432] Score: 483.31 (n=23, k=74, overlap=99.85, distance=0.00, angle=0.00)\n",
      "[440] Score: 483.30 (n=23, k=74, overlap=99.85, distance=0.00, angle=0.00)\n",
      "[448] Score: 483.29 (n=23, k=74, overlap=99.85, distance=0.00, angle=0.00)\n",
      "[456] Score: 483.28 (n=23, k=74, overlap=99.86, distance=0.00, angle=0.00)\n",
      "[464] Score: 483.26 (n=23, k=74, overlap=99.86, distance=0.00, angle=0.00)\n",
      "[472] Score: 483.25 (n=23, k=74, overlap=99.86, distance=0.00, angle=0.00)\n",
      "[480] Score: 483.24 (n=23, k=74, overlap=99.86, distance=0.00, angle=0.00)\n",
      "[488] Score: 483.23 (n=23, k=74, overlap=99.87, distance=0.00, angle=0.00)\n",
      "[496] Score: 483.22 (n=23, k=74, overlap=99.87, distance=0.00, angle=0.00)\n",
      "[504] Score: 483.21 (n=23, k=74, overlap=99.87, distance=0.00, angle=0.00)\n",
      "[512] Score: 483.20 (n=23, k=74, overlap=99.87, distance=0.00, angle=0.00)\n",
      "[520] Score: 483.19 (n=23, k=74, overlap=99.87, distance=0.00, angle=0.00)\n",
      "[528] Score: 483.18 (n=23, k=74, overlap=99.88, distance=0.00, angle=0.00)\n",
      "[536] Score: 483.17 (n=23, k=74, overlap=99.88, distance=0.00, angle=0.00)\n",
      "[544] Score: 483.16 (n=23, k=74, overlap=99.88, distance=0.00, angle=0.00)\n",
      "[552] Score: 483.16 (n=23, k=74, overlap=99.88, distance=0.00, angle=0.00)\n",
      "[560] Score: 483.15 (n=23, k=74, overlap=99.88, distance=0.00, angle=0.00)\n",
      "[568] Score: 483.14 (n=23, k=74, overlap=99.89, distance=0.00, angle=0.00)\n",
      "[576] Score: 483.13 (n=23, k=74, overlap=99.89, distance=0.00, angle=0.00)\n",
      "[584] Score: 483.12 (n=23, k=74, overlap=99.89, distance=0.00, angle=0.00)\n",
      "[592] Score: 483.12 (n=23, k=74, overlap=99.89, distance=0.00, angle=0.00)\n",
      "[600] Score: 483.11 (n=23, k=74, overlap=99.89, distance=0.00, angle=0.00)\n",
      "[608] Score: 483.10 (n=23, k=74, overlap=99.89, distance=0.00, angle=0.00)\n",
      "[616] Score: 483.10 (n=23, k=74, overlap=99.89, distance=0.00, angle=0.00)\n",
      "[624] Score: 483.09 (n=23, k=74, overlap=99.90, distance=0.00, angle=0.00)\n",
      "[632] Score: 483.08 (n=23, k=74, overlap=99.90, distance=0.00, angle=0.00)\n",
      "[640] Score: 483.08 (n=23, k=74, overlap=99.90, distance=0.00, angle=0.00)\n",
      "[648] Score: 483.07 (n=23, k=74, overlap=99.90, distance=0.00, angle=0.00)\n",
      "[656] Score: 483.07 (n=23, k=74, overlap=99.90, distance=0.00, angle=0.00)\n",
      "[664] Score: 483.06 (n=23, k=74, overlap=99.90, distance=0.00, angle=0.00)\n",
      "[672] Score: 483.05 (n=23, k=74, overlap=99.90, distance=0.00, angle=0.00)\n",
      "[680] Score: 483.05 (n=23, k=74, overlap=99.90, distance=0.00, angle=0.00)\n",
      "[688] Score: 483.04 (n=23, k=74, overlap=99.91, distance=0.00, angle=0.00)\n",
      "[696] Score: 483.04 (n=23, k=74, overlap=99.91, distance=0.00, angle=0.00)\n",
      "[704] Score: 483.03 (n=23, k=74, overlap=99.91, distance=0.00, angle=0.00)\n",
      "[712] Score: 483.03 (n=23, k=74, overlap=99.91, distance=0.00, angle=0.00)\n",
      "[720] Score: 483.02 (n=23, k=74, overlap=99.91, distance=0.00, angle=0.00)\n",
      "[728] Score: 483.02 (n=23, k=74, overlap=99.91, distance=0.00, angle=0.00)\n",
      "[736] Score: 483.01 (n=23, k=74, overlap=99.91, distance=0.00, angle=0.00)\n",
      "[744] Score: 483.01 (n=23, k=74, overlap=99.91, distance=0.00, angle=0.00)\n",
      "[752] Score: 483.00 (n=23, k=74, overlap=99.91, distance=0.00, angle=0.00)\n",
      "[760] Score: 483.00 (n=23, k=74, overlap=99.91, distance=0.00, angle=0.00)\n",
      "[768] Score: 483.00 (n=23, k=74, overlap=99.91, distance=0.00, angle=0.00)\n",
      "[776] Score: 482.99 (n=23, k=74, overlap=99.92, distance=0.00, angle=0.00)\n",
      "[784] Score: 482.99 (n=23, k=74, overlap=99.92, distance=0.00, angle=0.00)\n",
      "[792] Score: 482.98 (n=23, k=74, overlap=99.92, distance=0.00, angle=0.00)\n"
     ]
    }
   ],
   "source": [
    "nodes_impoved = nodes_output.copy()\n",
    "for i in range(1, 100):\n",
    "    factor = i *8\n",
    "    nodes_impoved.radius = nodes_output.radius * factor\n",
    "    n, k, overlap, distance, angle, total_score = score.calc_score(nodes_input, nodes_impoved, edges)\n",
    "    print(f\"[{factor}] Score: {total_score:.2f} (n={n}, k={k}, overlap={overlap:.2f}, distance={distance:.2f}, angle={angle:.2f})\")"
   ],
   "metadata": {
    "collapsed": false,
    "ExecuteTime": {
     "end_time": "2024-02-22T17:41:05.720157408Z",
     "start_time": "2024-02-22T17:41:02.716798631Z"
    }
   },
   "id": "69d8da883a9f61ae",
   "execution_count": 146
  },
  {
   "cell_type": "code",
   "outputs": [
    {
     "name": "stdout",
     "output_type": "stream",
     "text": [
      "-77.5 -2.0 22.06320336540339 ECU 0\n",
      "-56.0 4.0 5.1560878283898735 SUR 1\n",
      "-55.0 -10.0 13.128050303657112 BRA 2\n",
      "-64.0 -34.0 10.532076202597823 ARG 3\n",
      "-85.0 13.0 19.715338399752373 NIC 4\n",
      "-88.8 17.2 10.958647446624996 BLZ 5\n",
      "-65.0 -17.0 8.72288915402307 BOL 6\n",
      "-86.5 15.0 25.077449550055757 HND 7\n",
      "-58.0 -23.0 10.704744696916627 PRY 8\n",
      "-95.0 60.0 5.330919867948573 CAN 9\n",
      "-56.0 -33.0 11.409470235454538 URY 10\n",
      "-88.9 13.8 45.173515284267395 SLV 11\n",
      "-102.0 23.0 20.955067506172888 MEX 12\n",
      "-84.0 10.0 26.045767975525216 CRI 13\n",
      "-80.0 9.0 19.99238249642254 PAN 14\n",
      "-90.2 15.5 33.48378433678002 GTM 15\n",
      "-66.0 8.0 14.739932018622344 VEN 16\n",
      "-71.0 -30.0 13.232380821000415 CHL 17\n",
      "-76.0 -10.0 13.335895155879395 PER 18\n",
      "-97.0 38.0 15.70353574913326 USA 19\n",
      "-72.0 4.0 17.654717232263103 COL 20\n",
      "-53.0 4.0 4.9751157523872305 GUF 21\n",
      "-59.0 5.0 5.2442324668419795 GUY 22\n"
     ]
    }
   ],
   "source": [
    "for idx, n in enumerate(nodes_output.index):\n",
    "    print(nodes_output.loc[n, 'x'], nodes_output.loc[n, 'y'], nodes_output.loc[n, 'radius']*24, n, idx)"
   ],
   "metadata": {
    "collapsed": false,
    "ExecuteTime": {
     "end_time": "2024-02-22T17:41:42.506562863Z",
     "start_time": "2024-02-22T17:41:42.465189015Z"
    }
   },
   "id": "e48915b488ee2819",
   "execution_count": 147
  },
  {
   "cell_type": "code",
   "outputs": [],
   "source": [],
   "metadata": {
    "collapsed": false
   },
   "id": "dcdffea74d1a6eb4"
  }
 ],
 "metadata": {
  "kernelspec": {
   "display_name": "Python 3",
   "language": "python",
   "name": "python3"
  },
  "language_info": {
   "codemirror_mode": {
    "name": "ipython",
    "version": 2
   },
   "file_extension": ".py",
   "mimetype": "text/x-python",
   "name": "python",
   "nbconvert_exporter": "python",
   "pygments_lexer": "ipython2",
   "version": "2.7.6"
  }
 },
 "nbformat": 4,
 "nbformat_minor": 5
}
