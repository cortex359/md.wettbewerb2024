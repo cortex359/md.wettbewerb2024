{
 "cells": [
  {
   "cell_type": "code",
   "execution_count": 1,
   "id": "initial_id",
   "metadata": {
    "collapsed": true,
    "ExecuteTime": {
     "end_time": "2024-03-01T15:30:43.492120Z",
     "start_time": "2024-03-01T15:30:43.193446Z"
    }
   },
   "outputs": [],
   "source": [
    "import pandas as pd\n",
    "from utils import score\n",
    "from utils import input"
   ]
  },
  {
   "cell_type": "code",
   "outputs": [],
   "source": [
    "nodes_input, edges, k= input.read_to_df(\"input_files/Population_Density_Afro-Eurasia.txt\")\n",
    "node_pos = score.read_to_df(\"result_files/Population_Density_Afro-Eurasia_score_3418.66.txt\")\n",
    "node_pos.set_index(\"node\", inplace=True)\n",
    "edges = list(zip(edges.node_0.to_list(), edges.node_1.to_list()))"
   ],
   "metadata": {
    "collapsed": false,
    "ExecuteTime": {
     "end_time": "2024-03-01T15:31:07.275304Z",
     "start_time": "2024-03-01T15:31:07.265244Z"
    }
   },
   "id": "3dbf0cfa3789696a",
   "execution_count": 3
  },
  {
   "cell_type": "code",
   "outputs": [],
   "source": [
    "def calc_overlap(node_a, node_b):\n",
    "    # ignore identical nodes\n",
    "    if node_a == node_b:\n",
    "        return 0\n",
    "    # calculate overlap of two nodes\n",
    "    node_a = node_pos.loc[node_a]\n",
    "    node_b = node_pos.loc[node_b]\n",
    "    dist = ((node_a.x - node_b.x)**2 + (node_a.y - node_b.y)**2)**0.5\n",
    "    R = node_a.radius + node_b.radius\n",
    "    if dist >= R:\n",
    "        return 0\n",
    "    else:\n",
    "        return (R - dist) / R\n",
    "    \n",
    "def calc_overlap_matrix(node_list):\n",
    "    # calculates the overlap matrix of a list of nodes\n",
    "    overlap_matrix = pd.DataFrame(index=node_list, columns=node_list)\n",
    "    for node_a in node_list:\n",
    "        for node_b in node_list:\n",
    "            # Scheinbar sind alle Überschneidungen ungewollt, ansonsten müsste hier eine Unterscheidung hin.\n",
    "            overlap_matrix.loc[node_a, node_b] = calc_overlap(node_a, node_b)\n",
    "    return overlap_matrix"
   ],
   "metadata": {
    "collapsed": false,
    "ExecuteTime": {
     "end_time": "2024-03-01T15:31:09.517476Z",
     "start_time": "2024-03-01T15:31:09.513451Z"
    }
   },
   "id": "c9b23108d7a800b2",
   "execution_count": 4
  },
  {
   "cell_type": "code",
   "outputs": [],
   "source": [
    "overlap = max(calc_overlap_matrix(node_pos.index).values.flatten()) * 100"
   ],
   "metadata": {
    "collapsed": false,
    "ExecuteTime": {
     "end_time": "2024-03-01T15:31:13.089024Z",
     "start_time": "2024-03-01T15:31:11.837244Z"
    }
   },
   "id": "e290c58ed301a88b",
   "execution_count": 5
  },
  {
   "cell_type": "code",
   "outputs": [],
   "source": [
    "def calc_distance(node_a, node_b):\n",
    "    # ignore identical nodes\n",
    "    if node_a == node_b:\n",
    "        return 0\n",
    "    # calculate overlap of two nodes\n",
    "    node_a = node_pos.loc[node_a]\n",
    "    node_b = node_pos.loc[node_b]\n",
    "    dist = ((node_a.x - node_b.x)**2 + (node_a.y - node_b.y)**2)**0.5\n",
    "    R = node_a.radius + node_b.radius\n",
    "    if dist >= R:\n",
    "        return (dist - R) / R\n",
    "    else:\n",
    "        return 0\n",
    "    \n",
    "def calc_distance_matrix(node_list):\n",
    "    # calculates the overlap matrix of a list of nodes\n",
    "    distance_matrix = pd.DataFrame(index=node_list, columns=node_list)\n",
    "    for node_a in node_list:\n",
    "        for node_b in node_list:\n",
    "            if (node_a, node_b) in edges or (node_b, node_a) in edges:\n",
    "                distance_matrix.loc[node_a, node_b] = calc_distance(node_a, node_b)\n",
    "            else:\n",
    "                distance_matrix.loc[node_a, node_b] = -1\n",
    "    return distance_matrix\n"
   ],
   "metadata": {
    "collapsed": false,
    "ExecuteTime": {
     "end_time": "2024-03-01T15:31:13.475942Z",
     "start_time": "2024-03-01T15:31:13.471539Z"
    }
   },
   "id": "f0b54f26a6bd25eb",
   "execution_count": 6
  },
  {
   "cell_type": "code",
   "outputs": [],
   "source": [
    "distance = max(calc_distance_matrix(node_pos.index).values.flatten()) * 100"
   ],
   "metadata": {
    "collapsed": false,
    "ExecuteTime": {
     "end_time": "2024-03-01T15:31:14.796217Z",
     "start_time": "2024-03-01T15:31:14.245575Z"
    }
   },
   "id": "653c43f76def491b",
   "execution_count": 7
  },
  {
   "cell_type": "code",
   "outputs": [],
   "source": [
    "import math\n",
    "\n",
    "\n",
    "def calc_angle(df, node_a, node_b):\n",
    "    # ignore identical nodes\n",
    "    if node_a == node_b:\n",
    "        return 0\n",
    "    # calculate angle of two nodes\n",
    "    node_a = df.loc[node_a]\n",
    "    node_b = df.loc[node_b]\n",
    "    delta_x = node_a.x - node_b.x\n",
    "    delta_y = node_a.y - node_b.y\n",
    "    #steigung = abs(node_a.y - node_b.y) / abs(node_a.x - node_b.x)\n",
    "    return math.atan2(delta_y, delta_x) / math.pi\n",
    "\n",
    "# calc_angle_matrix can be removed\n",
    "def calc_angle_matrix(nodes: pd.DataFrame):\n",
    "    node_list = nodes.index\n",
    "    # berechne den Winkel der Verbindungslinie zwischen den zwei Kreismittelpunkten von node_a und node_b\n",
    "    angle_matrix = pd.DataFrame(index=node_list, columns=node_list)\n",
    "    for node_a in node_list:\n",
    "        for node_b in node_list:\n",
    "            if (node_a, node_b) in edges or (node_b, node_a) in edges:\n",
    "                angle_matrix.loc[node_a, node_b] = calc_angle(nodes, node_a, node_b)\n",
    "            else:\n",
    "                angle_matrix.loc[node_a, node_b] = -1\n",
    "    return angle_matrix\n",
    "\n",
    "def calc_angle_delta_matrix(input_nodes, output_nodes):\n",
    "    node_list = input_nodes.index\n",
    "    # berechne den Winkel der Verbindungslinie zwischen den zwei Kreismittelpunkten von node_a und node_b\n",
    "    angle_matrix = pd.DataFrame(index=node_list, columns=node_list)\n",
    "    for node_a in node_list:\n",
    "        for node_b in node_list:\n",
    "            if (node_a, node_b) in edges or (node_b, node_a) in edges:\n",
    "                alpha_0 = calc_angle(input_nodes, node_a, node_b)\n",
    "                alpha_1 = calc_angle(output_nodes, node_a, node_b)\n",
    "                angle_matrix.loc[node_a, node_b] = min(abs(alpha_0 - alpha_1), 2 - abs(alpha_0 - alpha_1)) \n",
    "            else:\n",
    "                angle_matrix.loc[node_a, node_b] = -1\n",
    "    return angle_matrix"
   ],
   "metadata": {
    "collapsed": false,
    "ExecuteTime": {
     "end_time": "2024-03-01T15:31:14.849240Z",
     "start_time": "2024-03-01T15:31:14.844285Z"
    }
   },
   "id": "dda823fd4fbac54a",
   "execution_count": 8
  },
  {
   "cell_type": "code",
   "outputs": [],
   "source": [
    "angle = max(calc_angle_delta_matrix(nodes_input, node_pos).values.flatten()) * 100"
   ],
   "metadata": {
    "collapsed": false,
    "ExecuteTime": {
     "end_time": "2024-03-01T15:31:16.571015Z",
     "start_time": "2024-03-01T15:31:16.009039Z"
    }
   },
   "id": "fc378f62e1ef1565",
   "execution_count": 9
  },
  {
   "cell_type": "code",
   "outputs": [],
   "source": [
    "def calc_score(input_nodes, output_nodes, k):\n",
    "    overlap = max(calc_overlap_matrix(output_nodes.index).values.flatten()) * 100\n",
    "    distance = max(calc_distance_matrix(output_nodes.index).values.flatten()) * 100\n",
    "    angle = max(calc_angle_delta_matrix(input_nodes, output_nodes).values.flatten()) * 100\n",
    "    n = input_nodes.shape[0]\n",
    "    print(f\"n={n}, k={k}\\nOverlap: {overlap}\\nDistance: {distance}\\nAngle: {angle}\")\n",
    "    return 1000 * (n+k) / (1 + 2 * overlap + distance + 0.1 * angle)"
   ],
   "metadata": {
    "collapsed": false,
    "ExecuteTime": {
     "end_time": "2024-03-01T15:32:00.617359Z",
     "start_time": "2024-03-01T15:32:00.613947Z"
    }
   },
   "id": "151ea98fe7a7b55",
   "execution_count": 10
  },
  {
   "cell_type": "code",
   "outputs": [
    {
     "name": "stdout",
     "output_type": "stream",
     "text": [
      "n=133, k=554\n",
      "Overlap: 99.97793276156406\n",
      "Distance: 0\n",
      "Angle: 0.0\n",
      "Score: 3418.661098602931\n"
     ]
    }
   ],
   "source": [
    "print(f\"Score: {calc_score(nodes_input, node_pos, k)}\")"
   ],
   "metadata": {
    "collapsed": false,
    "ExecuteTime": {
     "end_time": "2024-03-01T15:32:09.106423Z",
     "start_time": "2024-03-01T15:32:06.998188Z"
    }
   },
   "id": "a15414f00d48637a",
   "execution_count": 11
  },
  {
   "cell_type": "code",
   "outputs": [
    {
     "name": "stdout",
     "output_type": "stream",
     "text": [
      "\n",
      "Area_Afro-Eurasia\n",
      "n=133, k=554\n",
      "Overlap: 0\n",
      "Distance: 1673.4386236393643\n",
      "Angle: 67.11042985129838\n",
      "Score: 408.6489226027073\n",
      "\n",
      "Area_Americas\n",
      "n=23, k=74\n",
      "Overlap: 0\n",
      "Distance: 1109.9521339639293\n",
      "Angle: 5.972759440660036\n",
      "Score: 87.26557644255223\n",
      "\n",
      "Area_Asia\n",
      "n=43, k=156\n",
      "Overlap: 0\n",
      "Distance: 7456.242079338798\n",
      "Angle: 0.0\n",
      "Score: 26.68546868705709\n",
      "\n",
      "Area_Europe\n",
      "n=24, k=94\n",
      "Overlap: 0\n",
      "Distance: 1005.8056454964852\n",
      "Angle: 8.961539050514505\n",
      "Score: 117.09813366422381\n",
      "\n",
      "CO2_Production_Afro-Eurasia\n",
      "n=127, k=538\n",
      "Overlap: 43.0038191106425\n",
      "Distance: 7044.989896482298\n",
      "Angle: 0.0\n",
      "Score: 93.24175965627819\n",
      "\n",
      "Deutschlands_Nachbarn\n",
      "n=10, k=17\n",
      "Overlap: 28.951807195094254\n",
      "Distance: 0.9066609205264115\n",
      "Angle: 95.93092159157538\n",
      "Score: 389.0301145937986\n",
      "\n",
      "GNI_per_capita_Afro-Eurasia\n",
      "n=126, k=534\n",
      "Overlap: 0\n",
      "Distance: 16611.058391312985\n",
      "Angle: 0.0\n",
      "Score: 39.73017578273964\n",
      "\n",
      "Instant_Noodle_Consumption_Eurasia\n",
      "n=27, k=72\n",
      "Overlap: 0\n",
      "Distance: 2267.310356019312\n",
      "Angle: 29.353247685831075\n",
      "Score: 43.58841530769885\n",
      "\n",
      "Population_Afro-Eurasia\n",
      "n=133, k=554\n",
      "Overlap: 0\n",
      "Distance: 25192.363025516235\n",
      "Angle: 0.0\n",
      "Score: 27.26908667589141\n",
      "\n",
      "Population_Americas\n",
      "n=23, k=74\n",
      "Overlap: 0\n",
      "Distance: 4394.128847058315\n",
      "Angle: 19.300402244302433\n",
      "Score: 22.060200349043583\n",
      "\n",
      "Population_Density_Afro-Eurasia\n",
      "n=133, k=554\n",
      "Overlap: 98.00270157566533\n",
      "Distance: 8552.797040344736\n",
      "Angle: 0.0\n",
      "Score: 78.51605844091523\n",
      "\n",
      "Population_Density_Americas\n",
      "n=23, k=74\n",
      "Overlap: 53.82680252692856\n",
      "Distance: 1738.4925158130836\n",
      "Angle: 0.0\n",
      "Score: 52.5134416298771\n"
     ]
    }
   ],
   "source": [
    "import pandas as pd\n",
    "from utils import score\n",
    "from utils import input\n",
    "for test_case in [\"Area_Afro-Eurasia\", \"Area_Americas\", \"Area_Asia\", \"Area_Europe\", \"CO2_Production_Afro-Eurasia\",\n",
    "                  \"Deutschlands_Nachbarn\", \"GNI_per_capita_Afro-Eurasia\",\"Instant_Noodle_Consumption_Eurasia\",\n",
    "                  \"Population_Afro-Eurasia\", \"Population_Americas\", \"Population_Density_Afro-Eurasia\",\n",
    "                  \"Population_Density_Americas\"]:\n",
    "    nodes_input, edges = input.read_to_df(f\"input_files/{test_case}.txt\")\n",
    "    edges = list(zip(edges.node_0.to_list(), edges.node_1.to_list()))\n",
    "    node_pos = score.read_to_df(f\"result_files/{test_case}.txt.out\")\n",
    "    node_pos.set_index(\"node\", inplace=True)\n",
    "    print(f\"\\n{test_case}\")\n",
    "    print(f\"Score: {calc_score(nodes_input, node_pos, edges)}\")"
   ],
   "metadata": {
    "collapsed": false,
    "ExecuteTime": {
     "end_time": "2024-02-22T08:36:22.515323669Z",
     "start_time": "2024-02-22T08:35:54.633189578Z"
    }
   },
   "id": "16832177463114d8",
   "execution_count": 61
  },
  {
   "cell_type": "code",
   "outputs": [
    {
     "data": {
      "text/plain": "node ECU SUR BRA ARG      NIC       BLZ BOL       HND PRY CAN  ... CRI PAN  \\\nnode                                                           ...           \nECU    0   0   0   0        0         0   0         0   0   0  ...   0   0   \nSUR    0   0   0   0        0         0   0         0   0   0  ...   0   0   \nBRA    0   0   0   0        0         0   0         0   0   0  ...   0   0   \nARG    0   0   0   0        0         0   0         0   0   0  ...   0   0   \nNIC    0   0   0   0        0         0   0   0.05283   0   0  ...   0   0   \nBLZ    0   0   0   0        0         0   0         0   0   0  ...   0   0   \nBOL    0   0   0   0        0         0   0         0   0   0  ...   0   0   \nHND    0   0   0   0  0.05283         0   0         0   0   0  ...   0   0   \nPRY    0   0   0   0        0         0   0         0   0   0  ...   0   0   \nCAN    0   0   0   0        0         0   0         0   0   0  ...   0   0   \nURY    0   0   0   0        0         0   0         0   0   0  ...   0   0   \nSLV    0   0   0   0        0         0   0  0.351798   0   0  ...   0   0   \nMEX    0   0   0   0        0         0   0         0   0   0  ...   0   0   \nCRI    0   0   0   0        0         0   0         0   0   0  ...   0   0   \nPAN    0   0   0   0        0         0   0         0   0   0  ...   0   0   \nGTM    0   0   0   0        0  0.159052   0         0   0   0  ...   0   0   \nVEN    0   0   0   0        0         0   0         0   0   0  ...   0   0   \nCHL    0   0   0   0        0         0   0         0   0   0  ...   0   0   \nPER    0   0   0   0        0         0   0         0   0   0  ...   0   0   \nUSA    0   0   0   0        0         0   0         0   0   0  ...   0   0   \nCOL    0   0   0   0        0         0   0         0   0   0  ...   0   0   \nGUF    0   0   0   0        0         0   0         0   0   0  ...   0   0   \nGUY    0   0   0   0        0         0   0         0   0   0  ...   0   0   \n\nnode       GTM VEN CHL PER USA COL GUF GUY  \nnode                                        \nECU          0   0   0   0   0   0   0   0  \nSUR          0   0   0   0   0   0   0   0  \nBRA          0   0   0   0   0   0   0   0  \nARG          0   0   0   0   0   0   0   0  \nNIC          0   0   0   0   0   0   0   0  \nBLZ   0.159052   0   0   0   0   0   0   0  \nBOL          0   0   0   0   0   0   0   0  \nHND          0   0   0   0   0   0   0   0  \nPRY          0   0   0   0   0   0   0   0  \nCAN          0   0   0   0   0   0   0   0  \nURY          0   0   0   0   0   0   0   0  \nSLV   0.538268   0   0   0   0   0   0   0  \nMEX          0   0   0   0   0   0   0   0  \nCRI          0   0   0   0   0   0   0   0  \nPAN          0   0   0   0   0   0   0   0  \nGTM          0   0   0   0   0   0   0   0  \nVEN          0   0   0   0   0   0   0   0  \nCHL          0   0   0   0   0   0   0   0  \nPER          0   0   0   0   0   0   0   0  \nUSA          0   0   0   0   0   0   0   0  \nCOL          0   0   0   0   0   0   0   0  \nGUF          0   0   0   0   0   0   0   0  \nGUY          0   0   0   0   0   0   0   0  \n\n[23 rows x 23 columns]",
      "text/html": "<div>\n<style scoped>\n    .dataframe tbody tr th:only-of-type {\n        vertical-align: middle;\n    }\n\n    .dataframe tbody tr th {\n        vertical-align: top;\n    }\n\n    .dataframe thead th {\n        text-align: right;\n    }\n</style>\n<table border=\"1\" class=\"dataframe\">\n  <thead>\n    <tr style=\"text-align: right;\">\n      <th>node</th>\n      <th>ECU</th>\n      <th>SUR</th>\n      <th>BRA</th>\n      <th>ARG</th>\n      <th>NIC</th>\n      <th>BLZ</th>\n      <th>BOL</th>\n      <th>HND</th>\n      <th>PRY</th>\n      <th>CAN</th>\n      <th>...</th>\n      <th>CRI</th>\n      <th>PAN</th>\n      <th>GTM</th>\n      <th>VEN</th>\n      <th>CHL</th>\n      <th>PER</th>\n      <th>USA</th>\n      <th>COL</th>\n      <th>GUF</th>\n      <th>GUY</th>\n    </tr>\n    <tr>\n      <th>node</th>\n      <th></th>\n      <th></th>\n      <th></th>\n      <th></th>\n      <th></th>\n      <th></th>\n      <th></th>\n      <th></th>\n      <th></th>\n      <th></th>\n      <th></th>\n      <th></th>\n      <th></th>\n      <th></th>\n      <th></th>\n      <th></th>\n      <th></th>\n      <th></th>\n      <th></th>\n      <th></th>\n      <th></th>\n    </tr>\n  </thead>\n  <tbody>\n    <tr>\n      <th>ECU</th>\n      <td>0</td>\n      <td>0</td>\n      <td>0</td>\n      <td>0</td>\n      <td>0</td>\n      <td>0</td>\n      <td>0</td>\n      <td>0</td>\n      <td>0</td>\n      <td>0</td>\n      <td>...</td>\n      <td>0</td>\n      <td>0</td>\n      <td>0</td>\n      <td>0</td>\n      <td>0</td>\n      <td>0</td>\n      <td>0</td>\n      <td>0</td>\n      <td>0</td>\n      <td>0</td>\n    </tr>\n    <tr>\n      <th>SUR</th>\n      <td>0</td>\n      <td>0</td>\n      <td>0</td>\n      <td>0</td>\n      <td>0</td>\n      <td>0</td>\n      <td>0</td>\n      <td>0</td>\n      <td>0</td>\n      <td>0</td>\n      <td>...</td>\n      <td>0</td>\n      <td>0</td>\n      <td>0</td>\n      <td>0</td>\n      <td>0</td>\n      <td>0</td>\n      <td>0</td>\n      <td>0</td>\n      <td>0</td>\n      <td>0</td>\n    </tr>\n    <tr>\n      <th>BRA</th>\n      <td>0</td>\n      <td>0</td>\n      <td>0</td>\n      <td>0</td>\n      <td>0</td>\n      <td>0</td>\n      <td>0</td>\n      <td>0</td>\n      <td>0</td>\n      <td>0</td>\n      <td>...</td>\n      <td>0</td>\n      <td>0</td>\n      <td>0</td>\n      <td>0</td>\n      <td>0</td>\n      <td>0</td>\n      <td>0</td>\n      <td>0</td>\n      <td>0</td>\n      <td>0</td>\n    </tr>\n    <tr>\n      <th>ARG</th>\n      <td>0</td>\n      <td>0</td>\n      <td>0</td>\n      <td>0</td>\n      <td>0</td>\n      <td>0</td>\n      <td>0</td>\n      <td>0</td>\n      <td>0</td>\n      <td>0</td>\n      <td>...</td>\n      <td>0</td>\n      <td>0</td>\n      <td>0</td>\n      <td>0</td>\n      <td>0</td>\n      <td>0</td>\n      <td>0</td>\n      <td>0</td>\n      <td>0</td>\n      <td>0</td>\n    </tr>\n    <tr>\n      <th>NIC</th>\n      <td>0</td>\n      <td>0</td>\n      <td>0</td>\n      <td>0</td>\n      <td>0</td>\n      <td>0</td>\n      <td>0</td>\n      <td>0.05283</td>\n      <td>0</td>\n      <td>0</td>\n      <td>...</td>\n      <td>0</td>\n      <td>0</td>\n      <td>0</td>\n      <td>0</td>\n      <td>0</td>\n      <td>0</td>\n      <td>0</td>\n      <td>0</td>\n      <td>0</td>\n      <td>0</td>\n    </tr>\n    <tr>\n      <th>BLZ</th>\n      <td>0</td>\n      <td>0</td>\n      <td>0</td>\n      <td>0</td>\n      <td>0</td>\n      <td>0</td>\n      <td>0</td>\n      <td>0</td>\n      <td>0</td>\n      <td>0</td>\n      <td>...</td>\n      <td>0</td>\n      <td>0</td>\n      <td>0.159052</td>\n      <td>0</td>\n      <td>0</td>\n      <td>0</td>\n      <td>0</td>\n      <td>0</td>\n      <td>0</td>\n      <td>0</td>\n    </tr>\n    <tr>\n      <th>BOL</th>\n      <td>0</td>\n      <td>0</td>\n      <td>0</td>\n      <td>0</td>\n      <td>0</td>\n      <td>0</td>\n      <td>0</td>\n      <td>0</td>\n      <td>0</td>\n      <td>0</td>\n      <td>...</td>\n      <td>0</td>\n      <td>0</td>\n      <td>0</td>\n      <td>0</td>\n      <td>0</td>\n      <td>0</td>\n      <td>0</td>\n      <td>0</td>\n      <td>0</td>\n      <td>0</td>\n    </tr>\n    <tr>\n      <th>HND</th>\n      <td>0</td>\n      <td>0</td>\n      <td>0</td>\n      <td>0</td>\n      <td>0.05283</td>\n      <td>0</td>\n      <td>0</td>\n      <td>0</td>\n      <td>0</td>\n      <td>0</td>\n      <td>...</td>\n      <td>0</td>\n      <td>0</td>\n      <td>0</td>\n      <td>0</td>\n      <td>0</td>\n      <td>0</td>\n      <td>0</td>\n      <td>0</td>\n      <td>0</td>\n      <td>0</td>\n    </tr>\n    <tr>\n      <th>PRY</th>\n      <td>0</td>\n      <td>0</td>\n      <td>0</td>\n      <td>0</td>\n      <td>0</td>\n      <td>0</td>\n      <td>0</td>\n      <td>0</td>\n      <td>0</td>\n      <td>0</td>\n      <td>...</td>\n      <td>0</td>\n      <td>0</td>\n      <td>0</td>\n      <td>0</td>\n      <td>0</td>\n      <td>0</td>\n      <td>0</td>\n      <td>0</td>\n      <td>0</td>\n      <td>0</td>\n    </tr>\n    <tr>\n      <th>CAN</th>\n      <td>0</td>\n      <td>0</td>\n      <td>0</td>\n      <td>0</td>\n      <td>0</td>\n      <td>0</td>\n      <td>0</td>\n      <td>0</td>\n      <td>0</td>\n      <td>0</td>\n      <td>...</td>\n      <td>0</td>\n      <td>0</td>\n      <td>0</td>\n      <td>0</td>\n      <td>0</td>\n      <td>0</td>\n      <td>0</td>\n      <td>0</td>\n      <td>0</td>\n      <td>0</td>\n    </tr>\n    <tr>\n      <th>URY</th>\n      <td>0</td>\n      <td>0</td>\n      <td>0</td>\n      <td>0</td>\n      <td>0</td>\n      <td>0</td>\n      <td>0</td>\n      <td>0</td>\n      <td>0</td>\n      <td>0</td>\n      <td>...</td>\n      <td>0</td>\n      <td>0</td>\n      <td>0</td>\n      <td>0</td>\n      <td>0</td>\n      <td>0</td>\n      <td>0</td>\n      <td>0</td>\n      <td>0</td>\n      <td>0</td>\n    </tr>\n    <tr>\n      <th>SLV</th>\n      <td>0</td>\n      <td>0</td>\n      <td>0</td>\n      <td>0</td>\n      <td>0</td>\n      <td>0</td>\n      <td>0</td>\n      <td>0.351798</td>\n      <td>0</td>\n      <td>0</td>\n      <td>...</td>\n      <td>0</td>\n      <td>0</td>\n      <td>0.538268</td>\n      <td>0</td>\n      <td>0</td>\n      <td>0</td>\n      <td>0</td>\n      <td>0</td>\n      <td>0</td>\n      <td>0</td>\n    </tr>\n    <tr>\n      <th>MEX</th>\n      <td>0</td>\n      <td>0</td>\n      <td>0</td>\n      <td>0</td>\n      <td>0</td>\n      <td>0</td>\n      <td>0</td>\n      <td>0</td>\n      <td>0</td>\n      <td>0</td>\n      <td>...</td>\n      <td>0</td>\n      <td>0</td>\n      <td>0</td>\n      <td>0</td>\n      <td>0</td>\n      <td>0</td>\n      <td>0</td>\n      <td>0</td>\n      <td>0</td>\n      <td>0</td>\n    </tr>\n    <tr>\n      <th>CRI</th>\n      <td>0</td>\n      <td>0</td>\n      <td>0</td>\n      <td>0</td>\n      <td>0</td>\n      <td>0</td>\n      <td>0</td>\n      <td>0</td>\n      <td>0</td>\n      <td>0</td>\n      <td>...</td>\n      <td>0</td>\n      <td>0</td>\n      <td>0</td>\n      <td>0</td>\n      <td>0</td>\n      <td>0</td>\n      <td>0</td>\n      <td>0</td>\n      <td>0</td>\n      <td>0</td>\n    </tr>\n    <tr>\n      <th>PAN</th>\n      <td>0</td>\n      <td>0</td>\n      <td>0</td>\n      <td>0</td>\n      <td>0</td>\n      <td>0</td>\n      <td>0</td>\n      <td>0</td>\n      <td>0</td>\n      <td>0</td>\n      <td>...</td>\n      <td>0</td>\n      <td>0</td>\n      <td>0</td>\n      <td>0</td>\n      <td>0</td>\n      <td>0</td>\n      <td>0</td>\n      <td>0</td>\n      <td>0</td>\n      <td>0</td>\n    </tr>\n    <tr>\n      <th>GTM</th>\n      <td>0</td>\n      <td>0</td>\n      <td>0</td>\n      <td>0</td>\n      <td>0</td>\n      <td>0.159052</td>\n      <td>0</td>\n      <td>0</td>\n      <td>0</td>\n      <td>0</td>\n      <td>...</td>\n      <td>0</td>\n      <td>0</td>\n      <td>0</td>\n      <td>0</td>\n      <td>0</td>\n      <td>0</td>\n      <td>0</td>\n      <td>0</td>\n      <td>0</td>\n      <td>0</td>\n    </tr>\n    <tr>\n      <th>VEN</th>\n      <td>0</td>\n      <td>0</td>\n      <td>0</td>\n      <td>0</td>\n      <td>0</td>\n      <td>0</td>\n      <td>0</td>\n      <td>0</td>\n      <td>0</td>\n      <td>0</td>\n      <td>...</td>\n      <td>0</td>\n      <td>0</td>\n      <td>0</td>\n      <td>0</td>\n      <td>0</td>\n      <td>0</td>\n      <td>0</td>\n      <td>0</td>\n      <td>0</td>\n      <td>0</td>\n    </tr>\n    <tr>\n      <th>CHL</th>\n      <td>0</td>\n      <td>0</td>\n      <td>0</td>\n      <td>0</td>\n      <td>0</td>\n      <td>0</td>\n      <td>0</td>\n      <td>0</td>\n      <td>0</td>\n      <td>0</td>\n      <td>...</td>\n      <td>0</td>\n      <td>0</td>\n      <td>0</td>\n      <td>0</td>\n      <td>0</td>\n      <td>0</td>\n      <td>0</td>\n      <td>0</td>\n      <td>0</td>\n      <td>0</td>\n    </tr>\n    <tr>\n      <th>PER</th>\n      <td>0</td>\n      <td>0</td>\n      <td>0</td>\n      <td>0</td>\n      <td>0</td>\n      <td>0</td>\n      <td>0</td>\n      <td>0</td>\n      <td>0</td>\n      <td>0</td>\n      <td>...</td>\n      <td>0</td>\n      <td>0</td>\n      <td>0</td>\n      <td>0</td>\n      <td>0</td>\n      <td>0</td>\n      <td>0</td>\n      <td>0</td>\n      <td>0</td>\n      <td>0</td>\n    </tr>\n    <tr>\n      <th>USA</th>\n      <td>0</td>\n      <td>0</td>\n      <td>0</td>\n      <td>0</td>\n      <td>0</td>\n      <td>0</td>\n      <td>0</td>\n      <td>0</td>\n      <td>0</td>\n      <td>0</td>\n      <td>...</td>\n      <td>0</td>\n      <td>0</td>\n      <td>0</td>\n      <td>0</td>\n      <td>0</td>\n      <td>0</td>\n      <td>0</td>\n      <td>0</td>\n      <td>0</td>\n      <td>0</td>\n    </tr>\n    <tr>\n      <th>COL</th>\n      <td>0</td>\n      <td>0</td>\n      <td>0</td>\n      <td>0</td>\n      <td>0</td>\n      <td>0</td>\n      <td>0</td>\n      <td>0</td>\n      <td>0</td>\n      <td>0</td>\n      <td>...</td>\n      <td>0</td>\n      <td>0</td>\n      <td>0</td>\n      <td>0</td>\n      <td>0</td>\n      <td>0</td>\n      <td>0</td>\n      <td>0</td>\n      <td>0</td>\n      <td>0</td>\n    </tr>\n    <tr>\n      <th>GUF</th>\n      <td>0</td>\n      <td>0</td>\n      <td>0</td>\n      <td>0</td>\n      <td>0</td>\n      <td>0</td>\n      <td>0</td>\n      <td>0</td>\n      <td>0</td>\n      <td>0</td>\n      <td>...</td>\n      <td>0</td>\n      <td>0</td>\n      <td>0</td>\n      <td>0</td>\n      <td>0</td>\n      <td>0</td>\n      <td>0</td>\n      <td>0</td>\n      <td>0</td>\n      <td>0</td>\n    </tr>\n    <tr>\n      <th>GUY</th>\n      <td>0</td>\n      <td>0</td>\n      <td>0</td>\n      <td>0</td>\n      <td>0</td>\n      <td>0</td>\n      <td>0</td>\n      <td>0</td>\n      <td>0</td>\n      <td>0</td>\n      <td>...</td>\n      <td>0</td>\n      <td>0</td>\n      <td>0</td>\n      <td>0</td>\n      <td>0</td>\n      <td>0</td>\n      <td>0</td>\n      <td>0</td>\n      <td>0</td>\n      <td>0</td>\n    </tr>\n  </tbody>\n</table>\n<p>23 rows × 23 columns</p>\n</div>"
     },
     "execution_count": 62,
     "metadata": {},
     "output_type": "execute_result"
    }
   ],
   "source": [
    "calc_overlap_matrix(node_pos.index)"
   ],
   "metadata": {
    "collapsed": false,
    "ExecuteTime": {
     "end_time": "2024-02-22T08:36:22.627150627Z",
     "start_time": "2024-02-22T08:36:22.532292519Z"
    }
   },
   "id": "93865a7d35f6d101",
   "execution_count": 62
  },
  {
   "cell_type": "code",
   "outputs": [
    {
     "data": {
      "text/plain": "Index(['ECU', 'SUR', 'BRA', 'ARG', 'NIC', 'BLZ', 'BOL', 'HND', 'PRY', 'CAN',\n       'URY', 'SLV', 'MEX', 'CRI', 'PAN', 'GTM', 'VEN', 'CHL', 'PER', 'USA',\n       'COL', 'GUF', 'GUY'],\n      dtype='object', name='node')"
     },
     "execution_count": 63,
     "metadata": {},
     "output_type": "execute_result"
    }
   ],
   "source": [
    "node_pos.index"
   ],
   "metadata": {
    "collapsed": false,
    "ExecuteTime": {
     "end_time": "2024-02-22T08:36:22.631452568Z",
     "start_time": "2024-02-22T08:36:22.627583418Z"
    }
   },
   "id": "253128b4ff428bee",
   "execution_count": 63
  },
  {
   "cell_type": "code",
   "outputs": [
    {
     "name": "stdout",
     "output_type": "stream",
     "text": [
      "ECU SUR\n",
      "ECU BRA\n",
      "ECU ARG\n",
      "ECU NIC\n",
      "ECU BLZ\n",
      "ECU BOL\n",
      "ECU HND\n",
      "ECU PRY\n",
      "ECU CAN\n",
      "ECU URY\n",
      "ECU SLV\n",
      "ECU MEX\n",
      "ECU CRI\n",
      "ECU PAN\n",
      "ECU GTM\n",
      "ECU VEN\n",
      "ECU CHL\n",
      "ECU PER\n",
      "ECU USA\n",
      "ECU COL\n",
      "ECU GUF\n",
      "ECU GUY\n",
      "SUR BRA\n",
      "SUR ARG\n",
      "SUR NIC\n",
      "SUR BLZ\n",
      "SUR BOL\n",
      "SUR HND\n",
      "SUR PRY\n",
      "SUR CAN\n",
      "SUR URY\n",
      "SUR SLV\n",
      "SUR MEX\n",
      "SUR CRI\n",
      "SUR PAN\n",
      "SUR GTM\n",
      "SUR VEN\n",
      "SUR CHL\n",
      "SUR PER\n",
      "SUR USA\n",
      "SUR COL\n",
      "SUR GUF\n",
      "SUR GUY\n",
      "BRA ARG\n",
      "BRA NIC\n",
      "BRA BLZ\n",
      "BRA BOL\n",
      "BRA HND\n",
      "BRA PRY\n",
      "BRA CAN\n",
      "BRA URY\n",
      "BRA SLV\n",
      "BRA MEX\n",
      "BRA CRI\n",
      "BRA PAN\n",
      "BRA GTM\n",
      "BRA VEN\n",
      "BRA CHL\n",
      "BRA PER\n",
      "BRA USA\n",
      "BRA COL\n",
      "BRA GUF\n",
      "BRA GUY\n",
      "ARG NIC\n",
      "ARG BLZ\n",
      "ARG BOL\n",
      "ARG HND\n",
      "ARG PRY\n",
      "ARG CAN\n",
      "ARG URY\n",
      "ARG SLV\n",
      "ARG MEX\n",
      "ARG CRI\n",
      "ARG PAN\n",
      "ARG GTM\n",
      "ARG VEN\n",
      "ARG CHL\n",
      "ARG PER\n",
      "ARG USA\n",
      "ARG COL\n",
      "ARG GUF\n",
      "ARG GUY\n",
      "NIC BLZ\n",
      "NIC BOL\n",
      "NIC HND\n",
      "NIC PRY\n",
      "NIC CAN\n",
      "NIC URY\n",
      "NIC SLV\n",
      "NIC MEX\n",
      "NIC CRI\n",
      "NIC PAN\n",
      "NIC GTM\n",
      "NIC VEN\n",
      "NIC CHL\n",
      "NIC PER\n",
      "NIC USA\n",
      "NIC COL\n",
      "NIC GUF\n",
      "NIC GUY\n",
      "BLZ BOL\n",
      "BLZ HND\n",
      "BLZ PRY\n",
      "BLZ CAN\n",
      "BLZ URY\n",
      "BLZ SLV\n",
      "BLZ MEX\n",
      "BLZ CRI\n",
      "BLZ PAN\n",
      "BLZ GTM\n",
      "BLZ VEN\n",
      "BLZ CHL\n",
      "BLZ PER\n",
      "BLZ USA\n",
      "BLZ COL\n",
      "BLZ GUF\n",
      "BLZ GUY\n",
      "BOL HND\n",
      "BOL PRY\n",
      "BOL CAN\n",
      "BOL URY\n",
      "BOL SLV\n",
      "BOL MEX\n",
      "BOL CRI\n",
      "BOL PAN\n",
      "BOL GTM\n",
      "BOL VEN\n",
      "BOL CHL\n",
      "BOL PER\n",
      "BOL USA\n",
      "BOL COL\n",
      "BOL GUF\n",
      "BOL GUY\n",
      "HND PRY\n",
      "HND CAN\n",
      "HND URY\n",
      "HND SLV\n",
      "HND MEX\n",
      "HND CRI\n",
      "HND PAN\n",
      "HND GTM\n",
      "HND VEN\n",
      "HND CHL\n",
      "HND PER\n",
      "HND USA\n",
      "HND COL\n",
      "HND GUF\n",
      "HND GUY\n",
      "PRY CAN\n",
      "PRY URY\n",
      "PRY SLV\n",
      "PRY MEX\n",
      "PRY CRI\n",
      "PRY PAN\n",
      "PRY GTM\n",
      "PRY VEN\n",
      "PRY CHL\n",
      "PRY PER\n",
      "PRY USA\n",
      "PRY COL\n",
      "PRY GUF\n",
      "PRY GUY\n",
      "CAN URY\n",
      "CAN SLV\n",
      "CAN MEX\n",
      "CAN CRI\n",
      "CAN PAN\n",
      "CAN GTM\n",
      "CAN VEN\n",
      "CAN CHL\n",
      "CAN PER\n",
      "CAN USA\n",
      "CAN COL\n",
      "CAN GUF\n",
      "CAN GUY\n",
      "URY SLV\n",
      "URY MEX\n",
      "URY CRI\n",
      "URY PAN\n",
      "URY GTM\n",
      "URY VEN\n",
      "URY CHL\n",
      "URY PER\n",
      "URY USA\n",
      "URY COL\n",
      "URY GUF\n",
      "URY GUY\n",
      "SLV MEX\n",
      "SLV CRI\n",
      "SLV PAN\n",
      "SLV GTM\n",
      "SLV VEN\n",
      "SLV CHL\n",
      "SLV PER\n",
      "SLV USA\n",
      "SLV COL\n",
      "SLV GUF\n",
      "SLV GUY\n",
      "MEX CRI\n",
      "MEX PAN\n",
      "MEX GTM\n",
      "MEX VEN\n",
      "MEX CHL\n",
      "MEX PER\n",
      "MEX USA\n",
      "MEX COL\n",
      "MEX GUF\n",
      "MEX GUY\n",
      "CRI PAN\n",
      "CRI GTM\n",
      "CRI VEN\n",
      "CRI CHL\n",
      "CRI PER\n",
      "CRI USA\n",
      "CRI COL\n",
      "CRI GUF\n",
      "CRI GUY\n",
      "PAN GTM\n",
      "PAN VEN\n",
      "PAN CHL\n",
      "PAN PER\n",
      "PAN USA\n",
      "PAN COL\n",
      "PAN GUF\n",
      "PAN GUY\n",
      "GTM VEN\n",
      "GTM CHL\n",
      "GTM PER\n",
      "GTM USA\n",
      "GTM COL\n",
      "GTM GUF\n",
      "GTM GUY\n",
      "VEN CHL\n",
      "VEN PER\n",
      "VEN USA\n",
      "VEN COL\n",
      "VEN GUF\n",
      "VEN GUY\n",
      "CHL PER\n",
      "CHL USA\n",
      "CHL COL\n",
      "CHL GUF\n",
      "CHL GUY\n",
      "PER USA\n",
      "PER COL\n",
      "PER GUF\n",
      "PER GUY\n",
      "USA COL\n",
      "USA GUF\n",
      "USA GUY\n",
      "COL GUF\n",
      "COL GUY\n",
      "GUF GUY\n"
     ]
    }
   ],
   "source": [
    "import itertools\n",
    "\n",
    "for node_a, node_b in itertools.combinations(node_pos.index, 2):\n",
    "    print(node_a, node_b)"
   ],
   "metadata": {
    "collapsed": false,
    "ExecuteTime": {
     "end_time": "2024-02-22T08:36:22.647560456Z",
     "start_time": "2024-02-22T08:36:22.631707962Z"
    }
   },
   "id": "f13a4f26de161729",
   "execution_count": 64
  },
  {
   "cell_type": "code",
   "outputs": [],
   "source": [],
   "metadata": {
    "collapsed": false,
    "ExecuteTime": {
     "end_time": "2024-02-22T08:36:22.689653515Z",
     "start_time": "2024-02-22T08:36:22.648682914Z"
    }
   },
   "id": "233411d19b1ef4aa",
   "execution_count": 64
  }
 ],
 "metadata": {
  "kernelspec": {
   "display_name": "Python 3",
   "language": "python",
   "name": "python3"
  },
  "language_info": {
   "codemirror_mode": {
    "name": "ipython",
    "version": 2
   },
   "file_extension": ".py",
   "mimetype": "text/x-python",
   "name": "python",
   "nbconvert_exporter": "python",
   "pygments_lexer": "ipython2",
   "version": "2.7.6"
  }
 },
 "nbformat": 4,
 "nbformat_minor": 5
}
