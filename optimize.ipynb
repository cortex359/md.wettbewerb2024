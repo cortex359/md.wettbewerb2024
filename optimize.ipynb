{
 "cells": [
  {
   "cell_type": "code",
   "outputs": [],
   "source": [
    "import sys\n",
    "import time\n",
    "\n",
    "from utils import input\n",
    "from utils import score"
   ],
   "metadata": {
    "collapsed": false,
    "ExecuteTime": {
     "end_time": "2024-02-26T15:33:05.668741985Z",
     "start_time": "2024-02-26T15:33:05.393735954Z"
    }
   },
   "id": "92a807d52974b28",
   "execution_count": 1
  },
  {
   "cell_type": "code",
   "outputs": [
    {
     "ename": "ValueError",
     "evalue": "max() arg is an empty sequence",
     "output_type": "error",
     "traceback": [
      "\u001B[0;31m---------------------------------------------------------------------------\u001B[0m",
      "\u001B[0;31mValueError\u001B[0m                                Traceback (most recent call last)",
      "Cell \u001B[0;32mIn[3], line 9\u001B[0m\n\u001B[1;32m      6\u001B[0m nodes_output \u001B[38;5;241m=\u001B[39m score\u001B[38;5;241m.\u001B[39mread_to_df(output_file)\n\u001B[1;32m      7\u001B[0m nodes_output\u001B[38;5;241m.\u001B[39mset_index(\u001B[38;5;124m\"\u001B[39m\u001B[38;5;124mnode\u001B[39m\u001B[38;5;124m\"\u001B[39m, inplace\u001B[38;5;241m=\u001B[39m\u001B[38;5;28;01mTrue\u001B[39;00m)\n\u001B[0;32m----> 9\u001B[0m n, start_overlap, start_distance, start_angle, start_score \u001B[38;5;241m=\u001B[39m \u001B[43mscore\u001B[49m\u001B[38;5;241;43m.\u001B[39;49m\u001B[43mcalc_score\u001B[49m\u001B[43m(\u001B[49m\u001B[43mnodes_input\u001B[49m\u001B[43m,\u001B[49m\u001B[43m \u001B[49m\u001B[43mnodes_output\u001B[49m\u001B[43m,\u001B[49m\u001B[43m \u001B[49m\u001B[43medges\u001B[49m\u001B[43m,\u001B[49m\u001B[43m \u001B[49m\u001B[43mk\u001B[49m\u001B[43m)\u001B[49m\n",
      "File \u001B[0;32m~/GitHub/md.wettbewerb2024/utils/score.py:89\u001B[0m, in \u001B[0;36mcalc_score\u001B[0;34m(input_nodes, output_nodes, edges, k)\u001B[0m\n\u001B[1;32m     87\u001B[0m n \u001B[38;5;241m=\u001B[39m input_nodes\u001B[38;5;241m.\u001B[39mshape[\u001B[38;5;241m0\u001B[39m]\n\u001B[1;32m     88\u001B[0m overlap \u001B[38;5;241m=\u001B[39m calc_overlap_fast(output_nodes) \u001B[38;5;241m*\u001B[39m \u001B[38;5;241m100\u001B[39m\n\u001B[0;32m---> 89\u001B[0m distance \u001B[38;5;241m=\u001B[39m \u001B[43mcalc_distance_max\u001B[49m\u001B[43m(\u001B[49m\u001B[43moutput_nodes\u001B[49m\u001B[43m,\u001B[49m\u001B[43m \u001B[49m\u001B[43medges\u001B[49m\u001B[43m)\u001B[49m \u001B[38;5;241m*\u001B[39m \u001B[38;5;241m100\u001B[39m\n\u001B[1;32m     90\u001B[0m angle \u001B[38;5;241m=\u001B[39m calc_angle_max(input_nodes, output_nodes, edges) \u001B[38;5;241m*\u001B[39m \u001B[38;5;241m100\u001B[39m\n\u001B[1;32m     91\u001B[0m total_score \u001B[38;5;241m=\u001B[39m \u001B[38;5;241m1000\u001B[39m \u001B[38;5;241m*\u001B[39m (n \u001B[38;5;241m+\u001B[39m k) \u001B[38;5;241m/\u001B[39m (\u001B[38;5;241m1\u001B[39m \u001B[38;5;241m+\u001B[39m \u001B[38;5;241m2\u001B[39m \u001B[38;5;241m*\u001B[39m overlap \u001B[38;5;241m+\u001B[39m distance \u001B[38;5;241m+\u001B[39m \u001B[38;5;241m0.1\u001B[39m \u001B[38;5;241m*\u001B[39m angle)\n",
      "File \u001B[0;32m~/GitHub/md.wettbewerb2024/utils/score.py:82\u001B[0m, in \u001B[0;36mcalc_distance_max\u001B[0;34m(df, edges)\u001B[0m\n\u001B[1;32m     81\u001B[0m \u001B[38;5;28;01mdef\u001B[39;00m \u001B[38;5;21mcalc_distance_max\u001B[39m(df, edges):\n\u001B[0;32m---> 82\u001B[0m     \u001B[38;5;28;01mreturn\u001B[39;00m \u001B[38;5;28;43mmax\u001B[39;49m\u001B[43m(\u001B[49m\u001B[43m[\u001B[49m\u001B[43mcalc_distance\u001B[49m\u001B[43m(\u001B[49m\u001B[43mdf\u001B[49m\u001B[43m,\u001B[49m\u001B[43m \u001B[49m\u001B[43mnode_a\u001B[49m\u001B[43m,\u001B[49m\u001B[43m \u001B[49m\u001B[43mnode_b\u001B[49m\u001B[43m)\u001B[49m\u001B[43m \u001B[49m\u001B[38;5;28;43;01mfor\u001B[39;49;00m\u001B[43m \u001B[49m\u001B[43mnode_a\u001B[49m\u001B[43m,\u001B[49m\u001B[43m \u001B[49m\u001B[43mnode_b\u001B[49m\u001B[43m \u001B[49m\u001B[38;5;129;43;01min\u001B[39;49;00m\u001B[43m \u001B[49m\u001B[43mitertools\u001B[49m\u001B[38;5;241;43m.\u001B[39;49m\u001B[43mcombinations\u001B[49m\u001B[43m(\u001B[49m\u001B[43mdf\u001B[49m\u001B[38;5;241;43m.\u001B[39;49m\u001B[43mindex\u001B[49m\u001B[43m,\u001B[49m\u001B[43m \u001B[49m\u001B[38;5;241;43m2\u001B[39;49m\u001B[43m)\u001B[49m\u001B[43m \u001B[49m\u001B[38;5;28;43;01mif\u001B[39;49;00m\n\u001B[1;32m     83\u001B[0m \u001B[43m                \u001B[49m\u001B[43m(\u001B[49m\u001B[43mnode_a\u001B[49m\u001B[43m,\u001B[49m\u001B[43m \u001B[49m\u001B[43mnode_b\u001B[49m\u001B[43m)\u001B[49m\u001B[43m \u001B[49m\u001B[38;5;129;43;01min\u001B[39;49;00m\u001B[43m \u001B[49m\u001B[43medges\u001B[49m\u001B[43m \u001B[49m\u001B[38;5;129;43;01mor\u001B[39;49;00m\u001B[43m \u001B[49m\u001B[43m(\u001B[49m\u001B[43mnode_b\u001B[49m\u001B[43m,\u001B[49m\u001B[43m \u001B[49m\u001B[43mnode_a\u001B[49m\u001B[43m)\u001B[49m\u001B[43m \u001B[49m\u001B[38;5;129;43;01min\u001B[39;49;00m\u001B[43m \u001B[49m\u001B[43medges\u001B[49m\u001B[43m]\u001B[49m\u001B[43m)\u001B[49m\n",
      "\u001B[0;31mValueError\u001B[0m: max() arg is an empty sequence"
     ]
    }
   ],
   "source": [
    "input_file = \"input_files/Deutschlands_Nachbarn.txt\"\n",
    "output_file = \"result_files/Deutschlands_Nachbarn_score_3124.420459.txt\"\n",
    "\n",
    "nodes_input, edges, k = input.read_to_df(input_file)\n",
    "#edges = list(zip(edges.node_0.to_list(), edges.node_1.to_list()))\n",
    "nodes_output = score.read_to_df(output_file)\n",
    "nodes_output.set_index(\"node\", inplace=True)\n",
    "\n",
    "n, start_overlap, start_distance, start_angle, start_score = score.calc_score(nodes_input, nodes_output, edges, k)"
   ],
   "metadata": {
    "collapsed": false,
    "ExecuteTime": {
     "end_time": "2024-02-26T15:34:15.139617106Z",
     "start_time": "2024-02-26T15:34:15.030245476Z"
    }
   },
   "id": "9b84f8024ae24ee6",
   "execution_count": 3
  },
  {
   "cell_type": "code",
   "outputs": [],
   "source": [],
   "metadata": {
    "collapsed": false
   },
   "id": "82423bb496957c9a"
  }
 ],
 "metadata": {
  "kernelspec": {
   "display_name": "Python 3",
   "language": "python",
   "name": "python3"
  },
  "language_info": {
   "codemirror_mode": {
    "name": "ipython",
    "version": 2
   },
   "file_extension": ".py",
   "mimetype": "text/x-python",
   "name": "python",
   "nbconvert_exporter": "python",
   "pygments_lexer": "ipython2",
   "version": "2.7.6"
  }
 },
 "nbformat": 4,
 "nbformat_minor": 5
}
