{
 "cells": [
  {
   "cell_type": "code",
   "execution_count": 20,
   "id": "initial_id",
   "metadata": {
    "collapsed": true,
    "ExecuteTime": {
     "end_time": "2024-03-11T16:07:24.793965Z",
     "start_time": "2024-03-11T16:07:24.790829Z"
    }
   },
   "outputs": [],
   "source": [
    "import numpy as np\n",
    "import pandas as pd\n",
    "import itertools\n",
    "import math\n",
    "from utils import input\n",
    "from utils import score\n",
    "from utils import optimize"
   ]
  },
  {
   "cell_type": "code",
   "outputs": [],
   "source": [
    "input_file, output_file = input.get_highest_score_file(\"Area_Afro-Eurasia\")\n",
    "\n",
    "input_nodes, edges_df, k = input.read_to_df(input_file)\n",
    "output_nodes = score.read_to_df(output_file)\n",
    "\n",
    "\n",
    "edges = list(zip(edges_df.node_0.to_list(), edges_df.node_1.to_list()))\n",
    "edges_df['target_angle'] = edges_df.apply(lambda x: score.calc_angle_no_pi(input_nodes, x.node_0, x.node_1), axis=1)\n",
    "n, start_overlap, start_distance, start_angle, start_score = score.calc_score(input_nodes, output_nodes, edges, k)"
   ],
   "metadata": {
    "collapsed": false,
    "ExecuteTime": {
     "end_time": "2024-03-11T16:07:26.345868Z",
     "start_time": "2024-03-11T16:07:25.703483Z"
    }
   },
   "id": "bdd3faa60dad304c",
   "execution_count": 21
  },
  {
   "cell_type": "code",
   "outputs": [
    {
     "data": {
      "text/plain": "'result_files/Area_Afro-Eurasia_score_38597.358456.txt'"
     },
     "execution_count": 4,
     "metadata": {},
     "output_type": "execute_result"
    }
   ],
   "source": [
    "output_file"
   ],
   "metadata": {
    "collapsed": false,
    "ExecuteTime": {
     "end_time": "2024-03-11T15:40:18.018387Z",
     "start_time": "2024-03-11T15:40:18.011039Z"
    }
   },
   "id": "3a976b6f373b7080",
   "execution_count": 4
  },
  {
   "cell_type": "code",
   "outputs": [],
   "source": [],
   "metadata": {
    "collapsed": false,
    "ExecuteTime": {
     "end_time": "2024-03-11T16:06:58.042204Z",
     "start_time": "2024-03-11T16:06:58.037580Z"
    }
   },
   "id": "97ee5621caa89aa9",
   "execution_count": 19
  },
  {
   "cell_type": "code",
   "outputs": [
    {
     "data": {
      "text/plain": "x          287.146672\ny         1213.424865\nradius      31.295527\nnode              DNK\nidx                19\nName: DNK, dtype: object"
     },
     "execution_count": 17,
     "metadata": {},
     "output_type": "execute_result"
    }
   ],
   "source": [
    "output_nodes.loc['DNK']"
   ],
   "metadata": {
    "collapsed": false,
    "ExecuteTime": {
     "end_time": "2024-03-11T15:53:33.780778Z",
     "start_time": "2024-03-11T15:53:33.775532Z"
    }
   },
   "id": "a620284d76aeea03",
   "execution_count": 17
  },
  {
   "cell_type": "code",
   "outputs": [],
   "source": [],
   "metadata": {
    "collapsed": false
   },
   "id": "25a8adf30c9b71ad"
  }
 ],
 "metadata": {
  "kernelspec": {
   "display_name": "Python 3",
   "language": "python",
   "name": "python3"
  },
  "language_info": {
   "codemirror_mode": {
    "name": "ipython",
    "version": 2
   },
   "file_extension": ".py",
   "mimetype": "text/x-python",
   "name": "python",
   "nbconvert_exporter": "python",
   "pygments_lexer": "ipython2",
   "version": "2.7.6"
  }
 },
 "nbformat": 4,
 "nbformat_minor": 5
}
