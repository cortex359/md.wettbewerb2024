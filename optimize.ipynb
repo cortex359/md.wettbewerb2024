{
 "cells": [
  {
   "cell_type": "code",
   "execution_count": 1,
   "id": "initial_id",
   "metadata": {
    "collapsed": true,
    "ExecuteTime": {
     "end_time": "2024-03-11T14:20:56.523712Z",
     "start_time": "2024-03-11T14:20:56.276305Z"
    }
   },
   "outputs": [],
   "source": [
    "import numpy as np\n",
    "import pandas as pd\n",
    "import itertools\n",
    "import math\n",
    "from utils import input\n",
    "from utils import score"
   ]
  },
  {
   "cell_type": "code",
   "outputs": [],
   "source": [
    "input_file, output_file = input.get_highest_score_file(\"Area_Asia\")\n",
    "\n",
    "input_nodes, edges_df, k = input.read_to_df(input_file)\n",
    "output_nodes = score.read_to_df(output_file)\n",
    "\n",
    "\n",
    "edges = list(zip(edges_df.node_0.to_list(), edges_df.node_1.to_list()))\n",
    "edges_df['target_angle'] = edges_df.apply(lambda x: score.calc_angle_no_pi(input_nodes, x.node_0, x.node_1), axis=1)\n",
    "n, start_overlap, start_distance, start_angle, start_score = score.calc_score(input_nodes, output_nodes, edges, k)"
   ],
   "metadata": {
    "collapsed": false,
    "ExecuteTime": {
     "end_time": "2024-03-11T14:20:57.367489Z",
     "start_time": "2024-03-11T14:20:57.276247Z"
    }
   },
   "id": "bdd3faa60dad304c",
   "execution_count": 2
  },
  {
   "cell_type": "code",
   "outputs": [
    {
     "data": {
      "text/plain": "'result_files/Area_Asia_score_24064.044918.txt'"
     },
     "execution_count": 3,
     "metadata": {},
     "output_type": "execute_result"
    }
   ],
   "source": [
    "output_file"
   ],
   "metadata": {
    "collapsed": false,
    "ExecuteTime": {
     "end_time": "2024-03-11T14:20:58.106139Z",
     "start_time": "2024-03-11T14:20:58.100353Z"
    }
   },
   "id": "3a976b6f373b7080",
   "execution_count": 3
  },
  {
   "cell_type": "code",
   "outputs": [],
   "source": [],
   "metadata": {
    "collapsed": false
   },
   "id": "97ee5621caa89aa9"
  }
 ],
 "metadata": {
  "kernelspec": {
   "display_name": "Python 3",
   "language": "python",
   "name": "python3"
  },
  "language_info": {
   "codemirror_mode": {
    "name": "ipython",
    "version": 2
   },
   "file_extension": ".py",
   "mimetype": "text/x-python",
   "name": "python",
   "nbconvert_exporter": "python",
   "pygments_lexer": "ipython2",
   "version": "2.7.6"
  }
 },
 "nbformat": 4,
 "nbformat_minor": 5
}
