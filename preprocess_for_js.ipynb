{
 "cells": [
  {
   "cell_type": "code",
   "execution_count": 1,
   "id": "initial_id",
   "metadata": {
    "collapsed": true,
    "ExecuteTime": {
     "end_time": "2024-03-11T14:21:08.446373Z",
     "start_time": "2024-03-11T14:21:08.152970Z"
    }
   },
   "outputs": [],
   "source": [
    "import numpy as np\n",
    "import pandas as pd\n",
    "import itertools\n",
    "import math\n",
    "from utils import input\n",
    "from utils import score"
   ]
  },
  {
   "cell_type": "code",
   "outputs": [],
   "source": [
    "input_file, output_file = input.get_highest_score_file(\"Population_Americas\")\n",
    "\n",
    "input_nodes, edges_df, k = input.read_to_df(input_file)\n",
    "output_nodes = score.read_to_df(output_file)\n",
    "\n",
    "def calc_angle_no_pi(df, node_a, node_b):\n",
    "    # ignore identical nodes\n",
    "    if node_a == node_b:\n",
    "        return 0\n",
    "    # calculate angle of two nodes\n",
    "    node_a = df.loc[node_a]\n",
    "    node_b = df.loc[node_b]\n",
    "    delta_x = node_a.x - node_b.x\n",
    "    delta_y = node_a.y - node_b.y\n",
    "    return math.atan2(delta_y, delta_x)\n",
    "\n",
    "edges = list(zip(edges_df.node_0.to_list(), edges_df.node_1.to_list()))\n",
    "edges_df['target_angle'] = edges_df.apply(lambda x: calc_angle_no_pi(input_nodes, x.node_0, x.node_1), axis=1)\n",
    "n, start_overlap, start_distance, start_angle, start_score = score.calc_score(input_nodes, output_nodes, edges, k)"
   ],
   "metadata": {
    "collapsed": false,
    "ExecuteTime": {
     "end_time": "2024-03-11T14:43:21.679757Z",
     "start_time": "2024-03-11T14:43:21.642809Z"
    }
   },
   "id": "45240b04a0964ab4",
   "execution_count": 8
  },
  {
   "cell_type": "code",
   "outputs": [],
   "source": [
    "scaling_factor = 0.1/output_nodes.radius.min()\n",
    "output_nodes['radius'] = output_nodes['radius'] * scaling_factor\n",
    "output_nodes['x'] = output_nodes['x'] * scaling_factor\n",
    "output_nodes['y'] = output_nodes['y'] * scaling_factor"
   ],
   "metadata": {
    "collapsed": false,
    "ExecuteTime": {
     "end_time": "2024-03-11T14:43:28.280828Z",
     "start_time": "2024-03-11T14:43:28.276607Z"
    }
   },
   "id": "19ace657fbd17847",
   "execution_count": 11
  },
  {
   "cell_type": "code",
   "outputs": [
    {
     "name": "stdout",
     "output_type": "stream",
     "text": [
      "// result_files/Population_Americas_score_26449.33.txt\n",
      "// Score: 26449.33 (n=23, k=74, overlap=0.45, distance=4.77, angle=5.50)\n",
      "const k = 74;\n",
      "const circleData = `\n",
      "-7.152014074000 -0.155998744000 0.7631326725763790 ECU 0\n",
      "-2.341166794000 2.410922496000 0.1412453495029798 SUR 1\n",
      "-2.259852901000 -0.348996991000 2.6322530689326662 BRA 2\n",
      "-4.205519663000 -4.669791168000 1.2105602228175165 ARG 3\n",
      "-8.877593507000 2.982898714000 0.4749618122032645 NIC 4\n",
      "-10.544106020000 4.949656533000 0.1146774263145803 BLZ 5\n",
      "-4.668931129000 -2.526697722000 0.6297752896255032 BOL 6\n",
      "-9.776010906000 3.540606706000 0.5823694951280696 HND 7\n",
      "-3.715116473000 -3.071578110000 0.4686878759275299 PRY 8\n",
      "-12.050046514000 16.273229145000 1.1142600486659602 CAN 9\n",
      "-2.754886325000 -4.152269244000 0.3310368654724483 URY 10\n",
      "-10.647832654000 2.992948412000 0.4514211941495024 SLV 11\n",
      "-12.483242030000 6.515670710000 2.0279310012761704 MEX 12\n",
      "-8.581108814000 2.149723427000 0.4084919480746116 CRI 13\n",
      "-7.817643405000 1.958823006000 0.3782213764696206 PAN 14\n",
      "-10.960976174000 4.178053138000 0.7610654136455232 GTM 15\n",
      "-3.663308819000 2.946875913000 0.9608678360428272 VEN 16\n",
      "-5.767722595000 -3.430030558000 0.7927427878542074 CHL 17\n",
      "-6.078175164000 -1.614981665000 1.0487139719794314 PER 18\n",
      "-12.462416319000 11.889468919000 3.2992385673633979 USA 19\n",
      "-5.787871649000 1.368092985000 1.2913219729451464 COL 20\n",
      "-2.099933562000 2.407844973000 0.1000000000000000 GUF 21\n",
      "-2.629088138000 2.504180349000 0.1614096279450723 GUY 22\n",
      "`\n",
      "const edges = [\n",
      "    {node0: 'ARG', node1: 'BOL', target_angle: -1.5120405040791740},\n",
      "    {node0: 'ARG', node1: 'BRA', target_angle: -1.9295669970654687},\n",
      "    {node0: 'ARG', node1: 'CHL', target_angle: -0.5191461142465229},\n",
      "    {node0: 'ARG', node1: 'PRY', target_angle: -2.0701430484750265},\n",
      "    {node0: 'ARG', node1: 'URY', target_angle: -3.0172376590430319},\n",
      "    {node0: 'BOL', node1: 'BRA', target_angle: -2.5308666892005847},\n",
      "    {node0: 'BOL', node1: 'CHL', target_angle: 1.1383885512243588},\n",
      "    {node0: 'BOL', node1: 'PRY', target_angle: 2.4329663814621232},\n",
      "    {node0: 'BOL', node1: 'PER', target_angle: -0.5667292175235064},\n",
      "    {node0: 'BRA', node1: 'COL', target_angle: -0.6889243882148613},\n",
      "    {node0: 'BRA', node1: 'GUF', target_angle: -1.7126933813990606},\n",
      "    {node0: 'BRA', node1: 'GUY', target_angle: -1.3101939350475555},\n",
      "    {node0: 'BRA', node1: 'PRY', target_angle: 1.3439974787410107},\n",
      "    {node0: 'BRA', node1: 'PER', target_angle: 0.0000000000000000},\n",
      "    {node0: 'BRA', node1: 'SUR', target_angle: -1.4994888620096063},\n",
      "    {node0: 'BRA', node1: 'URY', target_angle: 1.5273454314033659},\n",
      "    {node0: 'BRA', node1: 'VEN', target_angle: -1.0222469243443686},\n",
      "    {node0: 'BLZ', node1: 'GTM', target_angle: 0.8818719385800330},\n",
      "    {node0: 'BLZ', node1: 'MEX', target_angle: -0.4139990026121998},\n",
      "    {node0: 'CAN', node1: 'USA', target_angle: 1.4801364395941514},\n",
      "    {node0: 'CHL', node1: 'PER', target_angle: -1.3258176636680326},\n",
      "    {node0: 'COL', node1: 'ECU', target_angle: 0.8288490587889792},\n",
      "    {node0: 'COL', node1: 'PAN', target_angle: -0.5585993153435624},\n",
      "    {node0: 'COL', node1: 'PER', target_angle: 1.2924966677897853},\n",
      "    {node0: 'COL', node1: 'VEN', target_angle: -2.5535900500422257},\n",
      "    {node0: 'CRI', node1: 'NIC', target_angle: -1.2490457723982544},\n",
      "    {node0: 'CRI', node1: 'PAN', target_angle: 2.8966139904629289},\n",
      "    {node0: 'ECU', node1: 'PER', target_angle: 1.7561442767905915},\n",
      "    {node0: 'GUF', node1: 'SUR', target_angle: 0.0000000000000000},\n",
      "    {node0: 'GTM', node1: 'SLV', target_angle: 2.2236429578956702},\n",
      "    {node0: 'GTM', node1: 'HND', target_angle: 3.0072712116368248},\n",
      "    {node0: 'GTM', node1: 'MEX', target_angle: -0.5661806712263594},\n",
      "    {node0: 'GUY', node1: 'SUR', target_angle: 2.8198420991931510},\n",
      "    {node0: 'GUY', node1: 'VEN', target_angle: -0.4048917862850834},\n",
      "    {node0: 'HND', node1: 'SLV', target_angle: 0.4636476090008049},\n",
      "    {node0: 'HND', node1: 'NIC', target_angle: 2.2142974355881808},\n",
      "    {node0: 'MEX', node1: 'USA', target_angle: -1.8925468811915389},\n",
      "];\n"
     ]
    }
   ],
   "source": [
    "print(f\"// {output_file}\")\n",
    "print(f\"// Score: {start_score:.2f} (n={n}, k={k}, overlap={start_overlap:.2f}, distance={start_distance:.2f}, angle={start_angle:.2f})\")\n",
    "print(f\"const k = {k};\")\n",
    "\n",
    "print(\"const circleData = `\")\n",
    "for c in output_nodes.itertuples():\n",
    "    print(f\"{c.x:.12f} {c.y:.12f} {c.radius:.16f} {c.node} {c.idx}\")\n",
    "print(\"`\")\n",
    "\n",
    "print(\"const edges = [\")\n",
    "for e in edges_df.itertuples():\n",
    "    print(\"    {\" + \"node0: '{:s}', node1: '{:s}', target_angle: {:.16f}\".format(e.node_0, e.node_1, e.target_angle) + \"},\")\n",
    "print(\"];\")"
   ],
   "metadata": {
    "collapsed": false,
    "ExecuteTime": {
     "end_time": "2024-03-11T14:43:28.975757Z",
     "start_time": "2024-03-11T14:43:28.971098Z"
    }
   },
   "id": "65e2e2125ebcc2b7",
   "execution_count": 12
  },
  {
   "cell_type": "code",
   "outputs": [],
   "source": [],
   "metadata": {
    "collapsed": false
   },
   "id": "245303258d662bc6"
  }
 ],
 "metadata": {
  "kernelspec": {
   "display_name": "Python 3",
   "language": "python",
   "name": "python3"
  },
  "language_info": {
   "codemirror_mode": {
    "name": "ipython",
    "version": 2
   },
   "file_extension": ".py",
   "mimetype": "text/x-python",
   "name": "python",
   "nbconvert_exporter": "python",
   "pygments_lexer": "ipython2",
   "version": "2.7.6"
  }
 },
 "nbformat": 4,
 "nbformat_minor": 5
}
