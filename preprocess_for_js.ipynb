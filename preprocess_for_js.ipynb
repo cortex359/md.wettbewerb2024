{
 "cells": [
  {
   "cell_type": "code",
   "execution_count": 1,
   "id": "initial_id",
   "metadata": {
    "collapsed": true,
    "ExecuteTime": {
     "end_time": "2024-03-18T20:25:25.547717Z",
     "start_time": "2024-03-18T20:25:25.132831Z"
    }
   },
   "outputs": [],
   "source": [
    "import numpy as np\n",
    "import pandas as pd\n",
    "import itertools\n",
    "import math\n",
    "from utils import input\n",
    "from utils import score"
   ]
  },
  {
   "cell_type": "code",
   "outputs": [],
   "source": [
    "input_file, output_file = input.get_highest_score_file(\"Instant_Noodle_Consumption_Eurasia\")\n",
    "\n",
    "input_nodes, edges_df, k = input.read_to_df(input_file)\n",
    "output_nodes = score.read_to_df(output_file)\n",
    "\n",
    "def calc_angle_no_pi(df, node_a, node_b):\n",
    "    # ignore identical nodes\n",
    "    if node_a == node_b:\n",
    "        return 0\n",
    "    # calculate angle of two nodes\n",
    "    node_a = df.loc[node_a]\n",
    "    node_b = df.loc[node_b]\n",
    "    delta_x = node_a.x - node_b.x\n",
    "    delta_y = node_a.y - node_b.y\n",
    "    return math.atan2(delta_y, delta_x)\n",
    "\n",
    "edges = list(zip(edges_df.node_0.to_list(), edges_df.node_1.to_list()))\n",
    "edges_df['target_angle'] = edges_df.apply(lambda x: calc_angle_no_pi(input_nodes, x.node_0, x.node_1), axis=1)\n",
    "n, start_overlap, start_distance, start_angle, start_score = score.calc_score(input_nodes, output_nodes, edges, k)"
   ],
   "metadata": {
    "collapsed": false,
    "ExecuteTime": {
     "end_time": "2024-03-18T22:41:38.299963Z",
     "start_time": "2024-03-18T22:41:38.171112Z"
    }
   },
   "id": "45240b04a0964ab4",
   "execution_count": 12
  },
  {
   "cell_type": "code",
   "outputs": [],
   "source": [
    "scaling_factor = 0.1/output_nodes.radius.min()\n",
    "output_nodes['radius'] = output_nodes['radius'] * scaling_factor\n",
    "output_nodes['x'] = output_nodes['x'] * scaling_factor\n",
    "output_nodes['y'] = output_nodes['y'] * scaling_factor"
   ],
   "metadata": {
    "collapsed": false,
    "ExecuteTime": {
     "end_time": "2024-03-18T22:41:38.802777Z",
     "start_time": "2024-03-18T22:41:38.799753Z"
    }
   },
   "id": "19ace657fbd17847",
   "execution_count": 13
  },
  {
   "cell_type": "code",
   "outputs": [
    {
     "name": "stdout",
     "output_type": "stream",
     "text": [
      "// result_files/Instant_Noodle_Consumption_Eurasia_score_16529.011939.txt\n",
      "// Score: 16529.01 (n=27, k=72, overlap=0.52, distance=3.99, angle=9.13)\n",
      "const k = 72;\n",
      "const circleData = `\n",
      "-0.721013832400 1.738795669000 0.1732050807568870 NLD 0\n",
      "1.120773082000 0.483383519200 0.3240370349203920 UZB 1\n",
      "-0.244406292400 0.896036454400 0.1414213562373100 ITA 2\n",
      "-0.756975662500 1.079458348000 0.2345207879911710 FRA 3\n",
      "-0.149563118700 1.517187154000 0.4415880433163920 DEU 4\n",
      "3.297388255000 -7.931826682000 1.3910427743243601 THA 5\n",
      "5.910034890000 -1.616756648000 4.7471043805671700 CHN 6\n",
      "0.449025137400 -2.852752098000 0.3464101615137760 PAK 7\n",
      "0.808164001700 3.326082696000 0.1732050807568870 SWE 8\n",
      "1.075963248000 3.378112689000 0.1000000000000000 FIN 9\n",
      "-1.072625398000 0.763516383700 0.2121320343559640 ESP 10\n",
      "2.819699457000 -5.986707340000 0.6204836822995430 MMR 11\n",
      "0.279895308100 -1.592807624000 0.9082951062292480 NPL 12\n",
      "-0.043749711560 2.045710999000 0.1000000000000000 DNK 13\n",
      "-0.692656068700 1.466838369000 0.1000000000000000 BEL 14\n",
      "2.118690782000 -5.159790453000 0.4690415759823430 BGD 15\n",
      "0.343450140400 1.125458696000 0.1870828693386970 CZE 16\n",
      "-0.078229828670 -2.790723960000 0.1870828693386970 IRN 17\n",
      "1.917493364000 2.543717232000 1.0488088481701501 RUS 18\n",
      "5.503157719000 -8.480994591000 0.8803408430829510 MYS 19\n",
      "0.719192273400 1.620023000000 0.4358898943540670 POL 20\n",
      "-0.280957636200 -5.026309321000 1.9467922333931900 IND 21\n",
      "4.484278643000 -9.326265823000 0.4472135954999580 KHM 22\n",
      "8.006323096000 -10.989471600000 2.6702059845637298 IDN 23\n",
      "-0.425140337100 1.054209295000 0.1000000000000000 CHE 24\n",
      "-0.678078285900 -2.561324276000 0.4582575694955830 TUR 25\n",
      "1.485321500000 1.134918832000 0.4242640687119280 KAZ 26\n",
      "`\n",
      "const edges = [\n",
      "    {node0: 'BGD', node1: 'IND', target_angle: 0.2984989315861793},\n",
      "    {node0: 'BGD', node1: 'MMR', target_angle: 2.8966139904629289},\n",
      "    {node0: 'BEL', node1: 'FRA', target_angle: 1.1760052070951348},\n",
      "    {node0: 'BEL', node1: 'DEU', target_angle: -3.1016139664665028},\n",
      "    {node0: 'BEL', node1: 'NLD', target_angle: -2.3847581480311040},\n",
      "    {node0: 'CHE', node1: 'FRA', target_angle: 0.1651486774146268},\n",
      "    {node0: 'CHE', node1: 'DEU', target_angle: -1.8157749899217608},\n",
      "    {node0: 'CHE', node1: 'ITA', target_angle: 2.4227626539681686},\n",
      "    {node0: 'CHN', node1: 'IND', target_angle: 0.4918091759886986},\n",
      "    {node0: 'CHN', node1: 'KAZ', target_angle: -0.3378781882402784},\n",
      "    {node0: 'CHN', node1: 'MMR', target_angle: 1.0768549578753155},\n",
      "    {node0: 'CHN', node1: 'NPL', target_angle: 0.3217505543966422},\n",
      "    {node0: 'CHN', node1: 'PAK', target_angle: 0.1418970546041639},\n",
      "    {node0: 'CHN', node1: 'RUS', target_angle: -1.3734007669450159},\n",
      "    {node0: 'CZE', node1: 'DEU', target_angle: -0.1825598531309072},\n",
      "    {node0: 'CZE', node1: 'POL', target_angle: -2.6868733787688233},\n",
      "    {node0: 'DEU', node1: 'DNK', target_angle: -1.7681918866447774},\n",
      "    {node0: 'DEU', node1: 'FRA', target_angle: 0.6202494859828215},\n",
      "    {node0: 'DEU', node1: 'NLD', target_angle: -0.4383365598579578},\n",
      "    {node0: 'DEU', node1: 'POL', target_angle: -3.0509327663890482},\n",
      "    {node0: 'ESP', node1: 'FRA', target_angle: -2.3561944901923448},\n",
      "    {node0: 'FIN', node1: 'RUS', target_angle: 3.0875911532138249},\n",
      "    {node0: 'FIN', node1: 'SWE', target_angle: 0.1798534997924783},\n",
      "    {node0: 'FRA', node1: 'ITA', target_angle: 2.8535372065391673},\n",
      "    {node0: 'IDN', node1: 'MYS', target_angle: -0.7853981633974483},\n",
      "    {node0: 'IND', node1: 'MMR', target_angle: -3.0466409472470368},\n",
      "    {node0: 'IND', node1: 'NPL', target_angle: -2.2896263264165211},\n",
      "    {node0: 'IND', node1: 'PAK', target_angle: -0.9600703624056880},\n",
      "    {node0: 'IRN', node1: 'PAK', target_angle: 3.0244839090229290},\n",
      "    {node0: 'IRN', node1: 'TUR', target_angle: -0.3708912888126624},\n",
      "    {node0: 'KHM', node1: 'THA', target_angle: -0.3805063771123649},\n",
      "    {node0: 'KAZ', node1: 'RUS', target_angle: -2.7828219833192209},\n",
      "    {node0: 'KAZ', node1: 'UZB', target_angle: 1.0516502125483738},\n",
      "    {node0: 'MMR', node1: 'THA', target_angle: 1.8490959858000080},\n",
      "    {node0: 'MYS', node1: 'THA', target_angle: -0.7853981633974483},\n",
      "    {node0: 'POL', node1: 'RUS', target_angle: -3.0419240010986313},\n",
      "];\n"
     ]
    }
   ],
   "source": [
    "print(f\"// {output_file}\")\n",
    "print(f\"// Score: {start_score:.2f} (n={n}, k={k}, overlap={start_overlap:.2f}, distance={start_distance:.2f}, angle={start_angle:.2f})\")\n",
    "print(f\"const k = {k};\")\n",
    "\n",
    "print(\"const circleData = `\")\n",
    "for c in output_nodes.itertuples():\n",
    "    print(f\"{c.x:.12f} {c.y:.12f} {c.radius:.16f} {c.node} {c.idx}\")\n",
    "print(\"`\")\n",
    "\n",
    "print(\"const edges = [\")\n",
    "for e in edges_df.itertuples():\n",
    "    print(\"    {\" + \"node0: '{:s}', node1: '{:s}', target_angle: {:.16f}\".format(e.node_0, e.node_1, e.target_angle) + \"},\")\n",
    "print(\"];\")"
   ],
   "metadata": {
    "collapsed": false,
    "ExecuteTime": {
     "end_time": "2024-03-18T22:41:39.441091Z",
     "start_time": "2024-03-18T22:41:39.434984Z"
    }
   },
   "id": "65e2e2125ebcc2b7",
   "execution_count": 14
  },
  {
   "cell_type": "code",
   "outputs": [],
   "source": [],
   "metadata": {
    "collapsed": false
   },
   "id": "245303258d662bc6"
  }
 ],
 "metadata": {
  "kernelspec": {
   "display_name": "Python 3",
   "language": "python",
   "name": "python3"
  },
  "language_info": {
   "codemirror_mode": {
    "name": "ipython",
    "version": 2
   },
   "file_extension": ".py",
   "mimetype": "text/x-python",
   "name": "python",
   "nbconvert_exporter": "python",
   "pygments_lexer": "ipython2",
   "version": "2.7.6"
  }
 },
 "nbformat": 4,
 "nbformat_minor": 5
}
