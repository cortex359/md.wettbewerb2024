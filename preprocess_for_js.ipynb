{
 "cells": [
  {
   "cell_type": "code",
   "execution_count": 5,
   "id": "initial_id",
   "metadata": {
    "collapsed": true,
    "ExecuteTime": {
     "end_time": "2024-03-11T06:28:48.869164Z",
     "start_time": "2024-03-11T06:28:48.863960Z"
    }
   },
   "outputs": [],
   "source": [
    "import numpy as np\n",
    "import pandas as pd\n",
    "import itertools\n",
    "import math\n",
    "from utils import input\n",
    "from utils import score"
   ]
  },
  {
   "cell_type": "code",
   "outputs": [],
   "source": [
    "input_file, output_file = input.get_highest_score_file(\"Area_Europe\")\n",
    "\n",
    "input_nodes, edges_df, k = input.read_to_df(input_file)\n",
    "output_nodes = score.read_to_df(output_file)\n",
    "\n",
    "def calc_angle_no_pi(df, node_a, node_b):\n",
    "    # ignore identical nodes\n",
    "    if node_a == node_b:\n",
    "        return 0\n",
    "    # calculate angle of two nodes\n",
    "    node_a = df.loc[node_a]\n",
    "    node_b = df.loc[node_b]\n",
    "    delta_x = node_a.x - node_b.x\n",
    "    delta_y = node_a.y - node_b.y\n",
    "    return math.atan2(delta_y, delta_x)\n",
    "\n",
    "edges = list(zip(edges_df.node_0.to_list(), edges_df.node_1.to_list()))\n",
    "edges_df['target_angle'] = edges_df.apply(lambda x: calc_angle_no_pi(input_nodes, x.node_0, x.node_1), axis=1)\n",
    "n, start_overlap, start_distance, start_angle, start_score = score.calc_score(input_nodes, output_nodes, edges, k)"
   ],
   "metadata": {
    "collapsed": false,
    "ExecuteTime": {
     "end_time": "2024-03-11T06:39:58.613605Z",
     "start_time": "2024-03-11T06:39:58.578256Z"
    }
   },
   "id": "45240b04a0964ab4",
   "execution_count": 9
  },
  {
   "cell_type": "code",
   "outputs": [],
   "source": [
    "scaling_factor = 0.1/output_nodes.radius.min()\n",
    "output_nodes['radius'] = output_nodes['radius'] * scaling_factor\n",
    "output_nodes['x'] = output_nodes['x'] * scaling_factor\n",
    "output_nodes['y'] = output_nodes['y'] * scaling_factor"
   ],
   "metadata": {
    "collapsed": false,
    "ExecuteTime": {
     "end_time": "2024-03-11T06:39:59.088123Z",
     "start_time": "2024-03-11T06:39:59.083792Z"
    }
   },
   "id": "19ace657fbd17847",
   "execution_count": 10
  },
  {
   "cell_type": "code",
   "outputs": [
    {
     "name": "stdout",
     "output_type": "stream",
     "text": [
      "// result_files/Area_Europe_score_22354.183460.txt\n",
      "// Score: 22354.18 (n=24, k=94, overlap=1.11, distance=5.64, angle=7.16)\n",
      "const k = 94;\n",
      "const circleData = `\n",
      "1.216196241274 12.528844184365 0.4018573897567735 NLD 0\n",
      "4.846650637607 9.034944453900 0.4672235785364707 HRV 1\n",
      "7.092410948404 9.937190779262 0.9588335111622135 ROU 2\n",
      "5.481922671354 9.876421403839 0.5989352254253526 HUN 3\n",
      "7.319400288246 8.205699082375 0.6539568597912897 BGR 4\n",
      "6.429760353940 7.850037691603 0.3148792406148941 MKD 5\n",
      "3.323030673975 8.917117135204 1.0780202500762528 ITA 6\n",
      "6.188282468064 8.708375021372 0.5838245145844659 SRB 7\n",
      "0.791271731867 10.019089982667 1.4586499149789438 FRA 8\n",
      "4.451376851808 9.668446392728 0.2794371242032432 SVN 9\n",
      "2.626815800320 11.864780650924 1.1735561522795530 DEU 10\n",
      "5.282793294689 8.245849630503 0.4443498717346933 BIH 11\n",
      "-1.784972901588 8.800891617225 1.3969571796236726 ESP 12\n",
      "5.822932798624 7.640739230176 0.3329430339108877 ALB 13\n",
      "2.320390634865 13.419925324700 0.4076398076316351 DNK 14\n",
      "1.056269503304 11.801350425932 0.3430154143301500 BEL 15\n",
      "4.305260454239 11.466458750218 0.5515934364628861 CZE 16\n",
      "-3.655207372783 8.112676986250 0.5959080323159973 PRT 17\n",
      "5.039714806153 10.806558669700 0.4349125615226726 SVK 18\n",
      "5.771044610660 12.182892408329 1.0981609384823834 POL 19\n",
      "1.358041757993 11.477028802543 0.1000000000000000 LUX 20\n",
      "4.005127116079 10.395887094088 0.5686864296949148 AUT 21\n",
      "6.493960125690 6.835174025630 0.7133976241989916 GRC 22\n",
      "2.941644992785 10.335066093936 0.3989347517705285 CHE 23\n",
      "`\n",
      "const edges = [\n",
      "    {node0: 'ALB', node1: 'GRC', target_angle: 2.3561944901923448},\n",
      "    {node0: 'ALB', node1: 'MKD', target_angle: -2.7610862764774295},\n",
      "    {node0: 'ALB', node1: 'SRB', target_angle: -1.8925468811915389},\n",
      "    {node0: 'AUT', node1: 'CZE', target_angle: -2.2924511776596579},\n",
      "    {node0: 'AUT', node1: 'DEU', target_angle: -0.7105383156866818},\n",
      "    {node0: 'AUT', node1: 'HUN', target_angle: 3.0968464221351781},\n",
      "    {node0: 'AUT', node1: 'ITA', target_angle: 1.4601391056210009},\n",
      "    {node0: 'AUT', node1: 'SVK', target_angle: -2.9195107516843120},\n",
      "    {node0: 'AUT', node1: 'SVN', target_angle: 2.4887460224890199},\n",
      "    {node0: 'AUT', node1: 'CHE', target_angle: 0.0565434369448168},\n",
      "    {node0: 'BIH', node1: 'HRV', target_angle: -0.4475199751571708},\n",
      "    {node0: 'BIH', node1: 'SRB', target_angle: 3.1415926535897931},\n",
      "    {node0: 'BEL', node1: 'FRA', target_angle: 1.1760052070951348},\n",
      "    {node0: 'BEL', node1: 'DEU', target_angle: -3.1016139664665028},\n",
      "    {node0: 'BEL', node1: 'LUX', target_angle: 2.7149651604629170},\n",
      "    {node0: 'BEL', node1: 'NLD', target_angle: -2.3847581480311040},\n",
      "    {node0: 'BGR', node1: 'GRC', target_angle: 0.9272952180016122},\n",
      "    {node0: 'BGR', node1: 'MKD', target_angle: 0.3805063771123657},\n",
      "    {node0: 'BGR', node1: 'ROU', target_angle: -1.5707963267948966},\n",
      "    {node0: 'BGR', node1: 'SRB', target_angle: -0.2449786631268641},\n",
      "    {node0: 'CHE', node1: 'FRA', target_angle: 0.1651486774146268},\n",
      "    {node0: 'CHE', node1: 'DEU', target_angle: -1.8157749899217608},\n",
      "    {node0: 'CHE', node1: 'ITA', target_angle: 2.4227626539681686},\n",
      "    {node0: 'CZE', node1: 'DEU', target_angle: -0.1825598531309072},\n",
      "    {node0: 'CZE', node1: 'POL', target_angle: -2.6868733787688233},\n",
      "    {node0: 'CZE', node1: 'SVK', target_angle: 2.8732264426838876},\n",
      "    {node0: 'DEU', node1: 'DNK', target_angle: -1.7681918866447774},\n",
      "    {node0: 'DEU', node1: 'FRA', target_angle: 0.6202494859828215},\n",
      "    {node0: 'DEU', node1: 'LUX', target_angle: 0.4048917862850843},\n",
      "    {node0: 'DEU', node1: 'NLD', target_angle: -0.4383365598579578},\n",
      "    {node0: 'DEU', node1: 'POL', target_angle: -3.0509327663890482},\n",
      "    {node0: 'ESP', node1: 'FRA', target_angle: -2.3561944901923448},\n",
      "    {node0: 'ESP', node1: 'PRT', target_angle: 0.1243549945467614},\n",
      "    {node0: 'FRA', node1: 'ITA', target_angle: 2.8535372065391673},\n",
      "    {node0: 'FRA', node1: 'LUX', target_angle: -2.4061528859142882},\n",
      "    {node0: 'GRC', node1: 'MKD', target_angle: -1.5707963267948966},\n",
      "    {node0: 'HRV', node1: 'HUN', target_angle: -2.7610862764774291},\n",
      "    {node0: 'HRV', node1: 'SRB', target_angle: 2.9267772531881340},\n",
      "    {node0: 'HRV', node1: 'SVN', target_angle: -1.0121970114513326},\n",
      "    {node0: 'HUN', node1: 'ROU', target_angle: 2.9441970937399127},\n",
      "    {node0: 'HUN', node1: 'SRB', target_angle: 1.8925468811915389},\n",
      "    {node0: 'HUN', node1: 'SVK', target_angle: -1.2847448850775789},\n",
      "    {node0: 'HUN', node1: 'SVN', target_angle: 0.1973955598498807},\n",
      "    {node0: 'ITA', node1: 'SVN', target_angle: -2.1730836729298604},\n",
      "    {node0: 'MKD', node1: 'SRB', target_angle: -1.1441688336680209},\n",
      "    {node0: 'POL', node1: 'SVK', target_angle: 1.4204248987877619},\n",
      "    {node0: 'ROU', node1: 'SRB', target_angle: 0.4636476090008061},\n",
      "];\n"
     ]
    }
   ],
   "source": [
    "print(f\"// {output_file}\")\n",
    "print(f\"// Score: {start_score:.2f} (n={n}, k={k}, overlap={start_overlap:.2f}, distance={start_distance:.2f}, angle={start_angle:.2f})\")\n",
    "print(f\"const k = {k};\")\n",
    "\n",
    "print(\"const circleData = `\")\n",
    "for c in output_nodes.itertuples():\n",
    "    print(f\"{c.x:.12f} {c.y:.12f} {c.radius:.16f} {c.node} {c.idx}\")\n",
    "print(\"`\")\n",
    "\n",
    "print(\"const edges = [\")\n",
    "for e in edges_df.itertuples():\n",
    "    print(\"    {\" + \"node0: '{:s}', node1: '{:s}', target_angle: {:.16f}\".format(e.node_0, e.node_1, e.target_angle) + \"},\")\n",
    "print(\"];\")"
   ],
   "metadata": {
    "collapsed": false,
    "ExecuteTime": {
     "end_time": "2024-03-11T06:39:59.405766Z",
     "start_time": "2024-03-11T06:39:59.400732Z"
    }
   },
   "id": "65e2e2125ebcc2b7",
   "execution_count": 11
  },
  {
   "cell_type": "code",
   "outputs": [],
   "source": [],
   "metadata": {
    "collapsed": false
   },
   "id": "245303258d662bc6"
  }
 ],
 "metadata": {
  "kernelspec": {
   "display_name": "Python 3",
   "language": "python",
   "name": "python3"
  },
  "language_info": {
   "codemirror_mode": {
    "name": "ipython",
    "version": 2
   },
   "file_extension": ".py",
   "mimetype": "text/x-python",
   "name": "python",
   "nbconvert_exporter": "python",
   "pygments_lexer": "ipython2",
   "version": "2.7.6"
  }
 },
 "nbformat": 4,
 "nbformat_minor": 5
}
