{
 "cells": [
  {
   "cell_type": "code",
   "execution_count": 42,
   "id": "initial_id",
   "metadata": {
    "collapsed": true,
    "ExecuteTime": {
     "end_time": "2024-03-08T20:52:27.132771Z",
     "start_time": "2024-03-08T20:52:27.129695Z"
    }
   },
   "outputs": [],
   "source": [
    "import numpy as np\n",
    "import pandas as pd\n",
    "import itertools\n",
    "import math\n",
    "from utils import input\n",
    "from utils import score"
   ]
  },
  {
   "cell_type": "code",
   "outputs": [],
   "source": [
    "input_file = \"input_files/Population_Density_Americas.txt\"\n",
    "output_file = \"result_files/Population_Density_Americas_score_6386.000479.txt\"\n",
    "\n",
    "#input_file = \"input_files/Deutschlands_Nachbarn.txt\"\n",
    "#output_file = \"result_files/Deutschlands_Nachbarn_score_4953.132758.txt\"\n",
    "#\n",
    "#input_file = \"input_files/Area_Europe.txt\"\n",
    "#output_file = \"result_files/Area_Europe_score_22238.190006.txt\"\n",
    "\n",
    "\n",
    "input_nodes, edges_df, k = input.read_to_df(input_file)\n",
    "output_nodes = score.read_to_df(output_file)\n",
    "\n",
    "def calc_angle_no_pi(df, node_a, node_b):\n",
    "    # ignore identical nodes\n",
    "    if node_a == node_b:\n",
    "        return 0\n",
    "    # calculate angle of two nodes\n",
    "    node_a = df.loc[node_a]\n",
    "    node_b = df.loc[node_b]\n",
    "    delta_x = node_a.x - node_b.x\n",
    "    delta_y = node_a.y - node_b.y\n",
    "    return math.atan2(delta_y, delta_x)\n",
    "\n",
    "edges = list(zip(edges_df.node_0.to_list(), edges_df.node_1.to_list()))\n",
    "edges_df['target_angle'] = edges_df.apply(lambda x: calc_angle_no_pi(input_nodes, x.node_0, x.node_1), axis=1)\n",
    "n, start_overlap, start_distance, start_angle, start_score = score.calc_score(input_nodes, output_nodes, edges, k)"
   ],
   "metadata": {
    "collapsed": false,
    "ExecuteTime": {
     "end_time": "2024-03-08T23:05:46.667506Z",
     "start_time": "2024-03-08T23:05:46.611113Z"
    }
   },
   "id": "45240b04a0964ab4",
   "execution_count": 75
  },
  {
   "cell_type": "code",
   "outputs": [],
   "source": [
    "scaling_factor = 0.1/output_nodes.radius.min()\n",
    "output_nodes['radius'] = output_nodes['radius'] * scaling_factor\n",
    "output_nodes['x'] = output_nodes['x'] * scaling_factor\n",
    "output_nodes['y'] = output_nodes['y'] * scaling_factor"
   ],
   "metadata": {
    "collapsed": false,
    "ExecuteTime": {
     "end_time": "2024-03-08T23:05:47.283337Z",
     "start_time": "2024-03-08T23:05:47.273530Z"
    }
   },
   "id": "19ace657fbd17847",
   "execution_count": 76
  },
  {
   "cell_type": "code",
   "outputs": [
    {
     "name": "stdout",
     "output_type": "stream",
     "text": [
      "// result_files/Population_Density_Americas_score_6386.000479.txt\n",
      "// Score: 6386.00 (n=23, k=74, overlap=2.03, distance=11.96, angle=11.51)\n",
      "const k = 74;\n",
      "const circleData = `\n",
      "-19.652823140399 0.054011188454 0.4434711565216687 ECU 0\n",
      "-18.129800273366 0.396433580437 0.1036375450343201 SUR 1\n",
      "-18.237739683654 -0.019002486679 0.2638742686008435 BRA 2\n",
      "-18.523200238989 -0.814905547630 0.2116950987028621 ARG 3\n",
      "-20.454241426358 2.586114814578 0.3962789888917120 NIC 4\n",
      "-22.448302309439 4.945496890348 0.2202691955733229 BLZ 5\n",
      "-18.642612017698 -0.453780444101 0.1753303759784389 BOL 6\n",
      "-21.065352943655 3.223096092847 0.5040576098761671 HND 7\n",
      "-18.261555412656 -0.487697557321 0.2151657414559670 PRY 8\n",
      "-22.342759123694 5.813691850788 0.1071516751221439 CAN 9\n",
      "-18.088128968018 -0.887126834841 0.2293307493394484 URY 10\n",
      "-22.010214300704 2.206702399913 0.9079892314584153 SLV 11\n",
      "-23.118233473908 5.004732073494 0.4211975871338862 MEX 12\n",
      "-20.445370294623 1.684468590068 0.5235208439728769 CRI 13\n",
      "-19.656174099833 1.143720115216 0.4018475848894479 PAN 14\n",
      "-22.435322832536 4.070319686888 0.6730252320403464 GTM 15\n",
      "-18.403446610519 0.720822166947 0.2962731472438527 VEN 16\n",
      "-18.997867840983 -0.762663424162 0.2659713156352404 CHL 17\n",
      "-19.014793087815 -0.229798921632 0.2680519573736632 PER 18\n",
      "-22.557377182499 5.459367210970 0.3156416158075964 USA 19\n",
      "-18.940056302763 0.375929114618 0.3548604316149176 COL 20\n",
      "-17.994245958578 0.249944508737 0.1000000000000000 GUF 21\n",
      "-18.327182665533 0.334763959212 0.1054092553389460 GUY 22\n",
      "`\n",
      "const edges = [\n",
      "    {node0: 'ARG', node1: 'BOL', target_angle: -1.5120405040791740},\n",
      "    {node0: 'ARG', node1: 'BRA', target_angle: -1.9295669970654687},\n",
      "    {node0: 'ARG', node1: 'CHL', target_angle: -0.5191461142465229},\n",
      "    {node0: 'ARG', node1: 'PRY', target_angle: -2.0701430484750265},\n",
      "    {node0: 'ARG', node1: 'URY', target_angle: -3.0172376590430319},\n",
      "    {node0: 'BOL', node1: 'BRA', target_angle: -2.5308666892005847},\n",
      "    {node0: 'BOL', node1: 'CHL', target_angle: 1.1383885512243588},\n",
      "    {node0: 'BOL', node1: 'PRY', target_angle: 2.4329663814621232},\n",
      "    {node0: 'BOL', node1: 'PER', target_angle: -0.5667292175235064},\n",
      "    {node0: 'BRA', node1: 'COL', target_angle: -0.6889243882148613},\n",
      "    {node0: 'BRA', node1: 'GUF', target_angle: -1.7126933813990606},\n",
      "    {node0: 'BRA', node1: 'GUY', target_angle: -1.3101939350475555},\n",
      "    {node0: 'BRA', node1: 'PRY', target_angle: 1.3439974787410107},\n",
      "    {node0: 'BRA', node1: 'PER', target_angle: 0.0000000000000000},\n",
      "    {node0: 'BRA', node1: 'SUR', target_angle: -1.4994888620096063},\n",
      "    {node0: 'BRA', node1: 'URY', target_angle: 1.5273454314033659},\n",
      "    {node0: 'BRA', node1: 'VEN', target_angle: -1.0222469243443686},\n",
      "    {node0: 'BLZ', node1: 'GTM', target_angle: 0.8818719385800330},\n",
      "    {node0: 'BLZ', node1: 'MEX', target_angle: -0.4139990026121998},\n",
      "    {node0: 'CAN', node1: 'USA', target_angle: 1.4801364395941514},\n",
      "    {node0: 'CHL', node1: 'PER', target_angle: -1.3258176636680326},\n",
      "    {node0: 'COL', node1: 'ECU', target_angle: 0.8288490587889792},\n",
      "    {node0: 'COL', node1: 'PAN', target_angle: -0.5585993153435624},\n",
      "    {node0: 'COL', node1: 'PER', target_angle: 1.2924966677897853},\n",
      "    {node0: 'COL', node1: 'VEN', target_angle: -2.5535900500422257},\n",
      "    {node0: 'CRI', node1: 'NIC', target_angle: -1.2490457723982544},\n",
      "    {node0: 'CRI', node1: 'PAN', target_angle: 2.8966139904629289},\n",
      "    {node0: 'ECU', node1: 'PER', target_angle: 1.7561442767905915},\n",
      "    {node0: 'GUF', node1: 'SUR', target_angle: 0.0000000000000000},\n",
      "    {node0: 'GTM', node1: 'SLV', target_angle: 2.2236429578956702},\n",
      "    {node0: 'GTM', node1: 'HND', target_angle: 3.0072712116368248},\n",
      "    {node0: 'GTM', node1: 'MEX', target_angle: -0.5661806712263594},\n",
      "    {node0: 'GUY', node1: 'SUR', target_angle: 2.8198420991931510},\n",
      "    {node0: 'GUY', node1: 'VEN', target_angle: -0.4048917862850834},\n",
      "    {node0: 'HND', node1: 'SLV', target_angle: 0.4636476090008049},\n",
      "    {node0: 'HND', node1: 'NIC', target_angle: 2.2142974355881808},\n",
      "    {node0: 'MEX', node1: 'USA', target_angle: -1.8925468811915389},\n",
      "];\n"
     ]
    }
   ],
   "source": [
    "print(f\"// {output_file}\")\n",
    "print(f\"// Score: {start_score:.2f} (n={n}, k={k}, overlap={start_overlap:.2f}, distance={start_distance:.2f}, angle={start_angle:.2f})\")\n",
    "print(f\"const k = {k};\")\n",
    "\n",
    "print(\"const circleData = `\")\n",
    "for c in output_nodes.itertuples():\n",
    "    print(f\"{c.x:.12f} {c.y:.12f} {c.radius:.16f} {c.node} {c.idx}\")\n",
    "print(\"`\")\n",
    "\n",
    "print(\"const edges = [\")\n",
    "for e in edges_df.itertuples():\n",
    "    print(\"    {\" + \"node0: '{:s}', node1: '{:s}', target_angle: {:.16f}\".format(e.node_0, e.node_1, e.target_angle) + \"},\")\n",
    "print(\"];\")"
   ],
   "metadata": {
    "collapsed": false,
    "ExecuteTime": {
     "end_time": "2024-03-08T23:05:48.055114Z",
     "start_time": "2024-03-08T23:05:48.043403Z"
    }
   },
   "id": "65e2e2125ebcc2b7",
   "execution_count": 77
  },
  {
   "cell_type": "code",
   "outputs": [],
   "source": [],
   "metadata": {
    "collapsed": false
   },
   "id": "245303258d662bc6"
  }
 ],
 "metadata": {
  "kernelspec": {
   "display_name": "Python 3",
   "language": "python",
   "name": "python3"
  },
  "language_info": {
   "codemirror_mode": {
    "name": "ipython",
    "version": 2
   },
   "file_extension": ".py",
   "mimetype": "text/x-python",
   "name": "python",
   "nbconvert_exporter": "python",
   "pygments_lexer": "ipython2",
   "version": "2.7.6"
  }
 },
 "nbformat": 4,
 "nbformat_minor": 5
}
