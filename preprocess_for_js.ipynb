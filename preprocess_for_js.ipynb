{
 "cells": [
  {
   "cell_type": "code",
   "execution_count": 7,
   "id": "initial_id",
   "metadata": {
    "collapsed": true,
    "ExecuteTime": {
     "end_time": "2024-03-13T18:18:33.392955Z",
     "start_time": "2024-03-13T18:18:33.380222Z"
    }
   },
   "outputs": [],
   "source": [
    "import numpy as np\n",
    "import pandas as pd\n",
    "import itertools\n",
    "import math\n",
    "from utils import input\n",
    "from utils import score"
   ]
  },
  {
   "cell_type": "code",
   "outputs": [],
   "source": [
    "input_file, output_file = input.get_highest_score_file(\"Area_Asia\")\n",
    "\n",
    "input_nodes, edges_df, k = input.read_to_df(input_file)\n",
    "output_nodes = score.read_to_df(output_file)\n",
    "\n",
    "def calc_angle_no_pi(df, node_a, node_b):\n",
    "    # ignore identical nodes\n",
    "    if node_a == node_b:\n",
    "        return 0\n",
    "    # calculate angle of two nodes\n",
    "    node_a = df.loc[node_a]\n",
    "    node_b = df.loc[node_b]\n",
    "    delta_x = node_a.x - node_b.x\n",
    "    delta_y = node_a.y - node_b.y\n",
    "    return math.atan2(delta_y, delta_x)\n",
    "\n",
    "edges = list(zip(edges_df.node_0.to_list(), edges_df.node_1.to_list()))\n",
    "edges_df['target_angle'] = edges_df.apply(lambda x: calc_angle_no_pi(input_nodes, x.node_0, x.node_1), axis=1)\n",
    "n, start_overlap, start_distance, start_angle, start_score = score.calc_score(input_nodes, output_nodes, edges, k)"
   ],
   "metadata": {
    "collapsed": false,
    "ExecuteTime": {
     "end_time": "2024-03-13T18:50:08.386603Z",
     "start_time": "2024-03-13T18:50:08.157313Z"
    }
   },
   "id": "45240b04a0964ab4",
   "execution_count": 12
  },
  {
   "cell_type": "code",
   "outputs": [
    {
     "name": "stderr",
     "output_type": "stream",
     "text": [
      "/tmp/ipykernel_134648/4059505251.py:1: RuntimeWarning: divide by zero encountered in scalar divide\n",
      "  scaling_factor = 0.1/output_nodes.radius.min()\n"
     ]
    }
   ],
   "source": [
    "scaling_factor = 0.1/output_nodes.radius.min()\n",
    "output_nodes['radius'] = output_nodes['radius'] * scaling_factor\n",
    "output_nodes['x'] = output_nodes['x'] * scaling_factor\n",
    "output_nodes['y'] = output_nodes['y'] * scaling_factor"
   ],
   "metadata": {
    "collapsed": false,
    "ExecuteTime": {
     "end_time": "2024-03-13T18:18:35.996325Z",
     "start_time": "2024-03-13T18:18:35.992431Z"
    }
   },
   "id": "19ace657fbd17847",
   "execution_count": 9
  },
  {
   "cell_type": "code",
   "outputs": [
    {
     "name": "stdout",
     "output_type": "stream",
     "text": [
      "// result_files/Area_Asia_score_30263.918270.txt\n",
      "// Score: 30263.92 (n=43, k=156, overlap=0.55, distance=5.22, angle=9.14)\n",
      "const k = 156;\n",
      "const circleData = `\n",
      "72.636864450000 52.314691790000 1.7559590738010999 UZB 0\n",
      "67.013900450000 31.470566420000 1.4606940775591499 OMN 1\n",
      "83.027593820000 35.866958450000 1.2774939146464099 LAO 2\n",
      "84.923160750000 32.095210060000 0.2003270298801970 BRN 3\n",
      "65.160088720000 47.627382010000 0.4553494053872740 ARM 4\n",
      "69.364424580000 50.859884340000 1.8342051960368999 TKM 5\n",
      "81.213469960000 33.289064550000 1.8810128520927600 THA 6\n",
      "83.492954690000 47.690937690000 8.1783167482293706 CHN 7\n",
      "66.103267210000 48.401461290000 0.7715408589477840 AZE 8\n",
      "67.563046860000 33.618399560000 0.7584258945840220 ARE 9\n",
      "73.581512170000 43.974089150000 2.4657319832950502 PAK 10\n",
      "61.613648670000 41.208320370000 0.2003270298801970 PSE 11\n",
      "90.616460690000 25.201054470000 0.3167448456590160 TLS 12\n",
      "62.397047890000 42.297027400000 1.1302658617937900 SYR 13\n",
      "76.288246320000 42.741804260000 0.5172421670141329 BTN 14\n",
      "79.974727020000 37.429495420000 2.1591375775886799 MMR 15\n",
      "83.497166000000 59.139641300000 3.2825526233126601 MNG 16\n",
      "92.581079070000 43.925102740000 0.8300084986275750 KOR 17\n",
      "76.483569310000 41.236756160000 1.0082906056700200 NPL 18\n",
      "62.179394180000 40.405364380000 0.7844365853758960 JOR 19\n",
      "64.710103450000 48.833731900000 0.6939531877637400 GEO 20\n",
      "75.545701320000 52.642562260000 1.1738092756440499 KGZ 21\n",
      "84.325966810000 39.596668690000 0.0000000000000000 MAC 22\n",
      "85.799696780000 35.816533910000 1.5102231261810199 VNM 23\n",
      "77.770128050000 39.679825620000 1.0082906056700200 BGD 24\n",
      "61.130815570000 40.900971630000 0.3747775555608620 ISR 25\n",
      "72.557965660000 48.451666870000 2.1200620077888299 AFG 26\n",
      "61.221533990000 41.541458210000 0.2712440807055630 LBN 27\n",
      "63.203841760000 35.147382140000 3.8490255339257899 SAU 28\n",
      "67.817704130000 44.656655040000 3.3700222623709601 IRN 29\n",
      "64.292104470000 29.504455400000 1.9074948615893199 YEM 30\n",
      "83.659161560000 30.943831870000 1.5102231261810199 MYS 31\n",
      "92.295307320000 45.637445670000 0.9106988107745480 PRK 32\n",
      "67.320069120000 35.476870680000 0.2833052025664950 QAT 33\n",
      "88.308129790000 40.983498140000 0.0817831674822937 HKG 34\n",
      "66.149976230000 39.069977780000 0.3469765938818700 KWT 35\n",
      "72.800562780000 36.812933220000 4.7596117193948499 IND 36\n",
      "84.171719300000 33.764064960000 1.1183679950726000 KHM 37\n",
      "87.326914780000 27.353930470000 3.6225419915444999 IDN 38\n",
      "74.793928690000 50.614662620000 0.9915682089827330 TJK 39\n",
      "64.698788970000 40.608951700000 1.7387339907281600 IRQ 40\n",
      "62.524106330000 46.754384240000 2.3232754016976900 TUR 41\n",
      "74.580370630000 58.050111610000 4.3329645231651002 KAZ 42\n",
      "`\n",
      "const edges = [\n",
      "    {node0: 'ARE', node1: 'OMN', target_angle: 2.3561944901923448},\n",
      "    {node0: 'ARE', node1: 'SAU', target_angle: -0.1106572211738956},\n",
      "    {node0: 'AFG', node1: 'CHN', target_angle: -3.0916342578678506},\n",
      "    {node0: 'AFG', node1: 'IRN', target_angle: 0.0831412318884412},\n",
      "    {node0: 'AFG', node1: 'PAK', target_angle: 2.6011731533192091},\n",
      "    {node0: 'AFG', node1: 'TJK', target_angle: -2.3561944901923448},\n",
      "    {node0: 'AFG', node1: 'TKM', target_angle: -0.9505468408120752},\n",
      "    {node0: 'AFG', node1: 'UZB', target_angle: -1.4464413322481351},\n",
      "    {node0: 'ARM', node1: 'AZE', target_angle: -2.9441970937399127},\n",
      "    {node0: 'ARM', node1: 'GEO', target_angle: -0.9272952180016122},\n",
      "    {node0: 'ARM', node1: 'IRN', target_angle: 2.3561944901923448},\n",
      "    {node0: 'ARM', node1: 'TUR', target_angle: 0.0996686524911620},\n",
      "    {node0: 'AZE', node1: 'GEO', target_angle: -0.3587706702705722},\n",
      "    {node0: 'AZE', node1: 'IRN', target_angle: 2.1451011569695986},\n",
      "    {node0: 'AZE', node1: 'TUR', target_angle: 0.1194289260183384},\n",
      "    {node0: 'BGD', node1: 'IND', target_angle: 0.2984989315861793},\n",
      "    {node0: 'BGD', node1: 'MMR', target_angle: 2.8966139904629289},\n",
      "    {node0: 'BRN', node1: 'MYS', target_angle: 0.7378150601204643},\n",
      "    {node0: 'BTN', node1: 'CHN', target_angle: -2.6642472712161211},\n",
      "    {node0: 'BTN', node1: 'IND', target_angle: 0.5070985043923369},\n",
      "    {node0: 'CHN', node1: 'HKG', target_angle: 2.1939956567289625},\n",
      "    {node0: 'CHN', node1: 'IND', target_angle: 0.4918091759886986},\n",
      "    {node0: 'CHN', node1: 'KAZ', target_angle: -0.3378781882402784},\n",
      "    {node0: 'CHN', node1: 'PRK', target_angle: -2.9181160524491601},\n",
      "    {node0: 'CHN', node1: 'KGZ', target_angle: -0.1973955598498807},\n",
      "    {node0: 'CHN', node1: 'LAO', target_angle: 1.5707963267948966},\n",
      "    {node0: 'CHN', node1: 'MAC', target_angle: 2.1569938781512574},\n",
      "    {node0: 'CHN', node1: 'MNG', target_angle: -1.5707963267948966},\n",
      "    {node0: 'CHN', node1: 'MMR', target_angle: 1.0768549578753155},\n",
      "    {node0: 'CHN', node1: 'NPL', target_angle: 0.3217505543966422},\n",
      "    {node0: 'CHN', node1: 'PAK', target_angle: 0.1418970546041639},\n",
      "    {node0: 'CHN', node1: 'TJK', target_angle: -0.1171087445668643},\n",
      "    {node0: 'CHN', node1: 'VNM', target_angle: 1.6233793884058383},\n",
      "    {node0: 'GEO', node1: 'TUR', target_angle: 0.3392926144540447},\n",
      "    {node0: 'IDN', node1: 'MYS', target_angle: -0.7853981633974483},\n",
      "    {node0: 'IDN', node1: 'TLS', target_angle: 2.5620286682964704},\n",
      "    {node0: 'ISR', node1: 'JOR', target_angle: 2.7468015338900327},\n",
      "    {node0: 'ISR', node1: 'LBN', target_angle: -1.9809236673363881},\n",
      "    {node0: 'ISR', node1: 'PSE', target_angle: -2.2455372690184561},\n",
      "    {node0: 'ISR', node1: 'SYR', target_angle: -2.3114482587377299},\n",
      "    {node0: 'IND', node1: 'MMR', target_angle: -3.0466409472470368},\n",
      "    {node0: 'IND', node1: 'NPL', target_angle: -2.2896263264165211},\n",
      "    {node0: 'IND', node1: 'PAK', target_angle: -0.9600703624056880},\n",
      "    {node0: 'IRQ', node1: 'IRN', target_angle: 3.0309354324158977},\n",
      "    {node0: 'IRQ', node1: 'JOR', target_angle: 0.2449786631268641},\n",
      "    {node0: 'IRQ', node1: 'KWT', target_angle: 2.3561944901923453},\n",
      "    {node0: 'IRQ', node1: 'SAU', target_angle: 1.6951513213416580},\n",
      "    {node0: 'IRQ', node1: 'SYR', target_angle: -0.3217505543966422},\n",
      "    {node0: 'IRQ', node1: 'TUR', target_angle: -0.5880026035475675},\n",
      "    {node0: 'IRN', node1: 'PAK', target_angle: 3.0244839090229290},\n",
      "    {node0: 'IRN', node1: 'TUR', target_angle: -0.3708912888126624},\n",
      "    {node0: 'IRN', node1: 'TKM', target_angle: -2.2896263264165211},\n",
      "    {node0: 'JOR', node1: 'PSE', target_angle: -0.8960553845713457},\n",
      "    {node0: 'JOR', node1: 'SAU', target_angle: 2.5535900500422257},\n",
      "    {node0: 'JOR', node1: 'SYR', target_angle: -2.0344439357957027},\n",
      "    {node0: 'KGZ', node1: 'KAZ', target_angle: -0.7853981633974483},\n",
      "    {node0: 'KGZ', node1: 'TJK', target_angle: 0.4636476090008061},\n",
      "    {node0: 'KGZ', node1: 'UZB', target_angle: 0.0000000000000000},\n",
      "    {node0: 'KHM', node1: 'LAO', target_angle: -1.5707963267948966},\n",
      "    {node0: 'KHM', node1: 'THA', target_angle: -0.3805063771123649},\n",
      "    {node0: 'KHM', node1: 'VNM', target_angle: -1.8925468811915389},\n",
      "    {node0: 'PRK', node1: 'KOR', target_angle: 1.7359450042095235},\n",
      "    {node0: 'KWT', node1: 'SAU', target_angle: 1.0101093318120906},\n",
      "    {node0: 'KAZ', node1: 'TKM', target_angle: 0.7853981633974483},\n",
      "    {node0: 'KAZ', node1: 'UZB', target_angle: 1.0516502125483738},\n",
      "    {node0: 'LAO', node1: 'MMR', target_angle: -0.5191461142465229},\n",
      "    {node0: 'LAO', node1: 'THA', target_angle: 0.5404195002705842},\n",
      "    {node0: 'LAO', node1: 'VNM', target_angle: 2.0344439357957027},\n",
      "    {node0: 'LBN', node1: 'SYR', target_angle: -2.6422459319096627},\n",
      "    {node0: 'MMR', node1: 'THA', target_angle: 1.8490959858000080},\n",
      "    {node0: 'MYS', node1: 'THA', target_angle: -0.7853981633974483},\n",
      "    {node0: 'OMN', node1: 'SAU', target_angle: -0.3217505543966422},\n",
      "    {node0: 'OMN', node1: 'YEM', target_angle: 0.5880026035475675},\n",
      "    {node0: 'QAT', node1: 'SAU', target_angle: 0.0804710112654608},\n",
      "    {node0: 'SAU', node1: 'YEM', target_angle: 1.8622531212727638},\n",
      "    {node0: 'SYR', node1: 'TUR', target_angle: -0.9272952180016122},\n",
      "    {node0: 'TJK', node1: 'UZB', target_angle: -0.2782996590051113},\n",
      "    {node0: 'TKM', node1: 'UZB', target_angle: -2.8966139904629289},\n",
      "];\n"
     ]
    }
   ],
   "source": [
    "print(f\"// {output_file}\")\n",
    "print(f\"// Score: {start_score:.2f} (n={n}, k={k}, overlap={start_overlap:.2f}, distance={start_distance:.2f}, angle={start_angle:.2f})\")\n",
    "print(f\"const k = {k};\")\n",
    "\n",
    "print(\"const circleData = `\")\n",
    "for c in output_nodes.itertuples():\n",
    "    print(f\"{c.x:.12f} {c.y:.12f} {c.radius:.16f} {c.node} {c.idx}\")\n",
    "print(\"`\")\n",
    "\n",
    "print(\"const edges = [\")\n",
    "for e in edges_df.itertuples():\n",
    "    print(\"    {\" + \"node0: '{:s}', node1: '{:s}', target_angle: {:.16f}\".format(e.node_0, e.node_1, e.target_angle) + \"},\")\n",
    "print(\"];\")"
   ],
   "metadata": {
    "collapsed": false,
    "ExecuteTime": {
     "end_time": "2024-03-13T18:50:10.204675Z",
     "start_time": "2024-03-13T18:50:10.199500Z"
    }
   },
   "id": "65e2e2125ebcc2b7",
   "execution_count": 13
  },
  {
   "cell_type": "code",
   "outputs": [],
   "source": [],
   "metadata": {
    "collapsed": false
   },
   "id": "245303258d662bc6"
  }
 ],
 "metadata": {
  "kernelspec": {
   "display_name": "Python 3",
   "language": "python",
   "name": "python3"
  },
  "language_info": {
   "codemirror_mode": {
    "name": "ipython",
    "version": 2
   },
   "file_extension": ".py",
   "mimetype": "text/x-python",
   "name": "python",
   "nbconvert_exporter": "python",
   "pygments_lexer": "ipython2",
   "version": "2.7.6"
  }
 },
 "nbformat": 4,
 "nbformat_minor": 5
}
