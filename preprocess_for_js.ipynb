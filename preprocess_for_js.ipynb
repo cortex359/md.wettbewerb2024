{
 "cells": [
  {
   "cell_type": "code",
   "execution_count": 1,
   "id": "initial_id",
   "metadata": {
    "collapsed": true,
    "ExecuteTime": {
     "end_time": "2024-03-25T14:52:22.206842Z",
     "start_time": "2024-03-25T14:52:21.661498Z"
    }
   },
   "outputs": [],
   "source": [
    "import numpy as np\n",
    "import pandas as pd\n",
    "import itertools\n",
    "import math\n",
    "from utils import input\n",
    "from utils import score"
   ]
  },
  {
   "cell_type": "code",
   "outputs": [],
   "source": [
    "input_file, output_file = input.get_highest_score_file(\"Deutschlands_Nachbarn\")\n",
    "\n",
    "input_nodes, edges_df, k = input.read_to_df(input_file)\n",
    "output_nodes = score.read_to_df(output_file)\n",
    "\n",
    "def calc_angle_no_pi(df, node_a, node_b):\n",
    "    # ignore identical nodes\n",
    "    if node_a == node_b:\n",
    "        return 0\n",
    "    # calculate angle of two nodes\n",
    "    node_a = df.loc[node_a]\n",
    "    node_b = df.loc[node_b]\n",
    "    delta_x = node_a.x - node_b.x\n",
    "    delta_y = node_a.y - node_b.y\n",
    "    return math.atan2(delta_y, delta_x)\n",
    "\n",
    "edges = list(zip(edges_df.node_0.to_list(), edges_df.node_1.to_list()))\n",
    "edges_df['target_angle'] = edges_df.apply(lambda x: calc_angle_no_pi(input_nodes, x.node_0, x.node_1), axis=1)\n",
    "n, start_overlap, start_distance, start_angle, start_score = score.calc_score(input_nodes, output_nodes, edges, k)"
   ],
   "metadata": {
    "collapsed": false,
    "ExecuteTime": {
     "end_time": "2024-03-25T14:52:24.011523Z",
     "start_time": "2024-03-25T14:52:23.974677Z"
    }
   },
   "id": "45240b04a0964ab4",
   "execution_count": 2
  },
  {
   "cell_type": "code",
   "outputs": [],
   "source": [
    "scaling_factor = 0.1/output_nodes.radius.min()\n",
    "output_nodes['radius'] = output_nodes['radius'] * scaling_factor\n",
    "output_nodes['x'] = output_nodes['x'] * scaling_factor\n",
    "output_nodes['y'] = output_nodes['y'] * scaling_factor"
   ],
   "metadata": {
    "collapsed": false,
    "ExecuteTime": {
     "end_time": "2024-03-25T14:52:25.661962Z",
     "start_time": "2024-03-25T14:52:25.656587Z"
    }
   },
   "id": "19ace657fbd17847",
   "execution_count": 3
  },
  {
   "cell_type": "code",
   "outputs": [
    {
     "name": "stdout",
     "output_type": "stream",
     "text": [
      "// result_files/Deutschlands_Nachbarn_score_4953.132758.txt\n",
      "// Score: 4953.13 (n=10, k=17, overlap=1.05, distance=4.25, angle=8.29)\n",
      "const k = 17;\n",
      "const circleData = `\n",
      "-29.105924125098 80.600095926459 1.0423531071570735 D 0\n",
      "-30.410765395115 81.128086517752 0.3801315561749655 NL 1\n",
      "-30.467271700112 80.442728109038 0.3124499959993609 B 2\n",
      "-30.154176567216 80.176851192146 0.1000000000000000 L 3\n",
      "-30.424405983416 79.630461698557 0.5095341009196550 F 4\n",
      "-29.583666303200 79.429358201287 0.2345207879911720 CH 5\n",
      "-28.732389087240 79.280368389770 0.3436931771216887 A 6\n",
      "-28.018111103039 79.611015528870 0.4434241761564212 CZ 7\n",
      "-27.382318002780 80.539683199519 0.6822756041366292 PL 8\n",
      "-29.213887056715 81.849745970870 0.2121320343559646 DK 9\n",
      "`\n",
      "const edges = [\n",
      "    {node0: 'D', node1: 'DK', target_angle: -1.4858945333451747},\n",
      "    {node0: 'D', node1: 'PL', target_angle: -3.0408116545051249},\n",
      "    {node0: 'D', node1: 'CZ', target_angle: 2.8657867550012708},\n",
      "    {node0: 'D', node1: 'A', target_angle: 2.4194013220898056},\n",
      "    {node0: 'D', node1: 'CH', target_angle: 1.1824776086224305},\n",
      "    {node0: 'D', node1: 'F', target_angle: 0.4964227534048817},\n",
      "    {node0: 'D', node1: 'L', target_angle: 0.3671738338182192},\n",
      "    {node0: 'D', node1: 'B', target_angle: 0.1148766054168981},\n",
      "    {node0: 'D', node1: 'NL', target_angle: -0.1891990220999693},\n",
      "    {node0: 'NL', node1: 'B', target_angle: 1.2490457723982544},\n",
      "    {node0: 'B', node1: 'L', target_angle: 2.5360479899848203},\n",
      "    {node0: 'B', node1: 'F', target_angle: 1.0259324113433534},\n",
      "    {node0: 'L', node1: 'F', target_angle: 0.6287962864154327},\n",
      "    {node0: 'F', node1: 'CH', target_angle: 3.0492633188581943},\n",
      "    {node0: 'CH', node1: 'A', target_angle: -3.0254510267098027},\n",
      "    {node0: 'A', node1: 'CZ', target_angle: -2.0344439357957040},\n",
      "    {node0: 'CZ', node1: 'PL', target_angle: -2.5535900500422244},\n",
      "];\n"
     ]
    }
   ],
   "source": [
    "print(f\"// {output_file}\")\n",
    "print(f\"// Score: {start_score:.2f} (n={n}, k={k}, overlap={start_overlap:.2f}, distance={start_distance:.2f}, angle={start_angle:.2f})\")\n",
    "print(f\"const k = {k};\")\n",
    "\n",
    "print(\"const circleData = `\")\n",
    "for c in output_nodes.itertuples():\n",
    "    print(f\"{c.x:.12f} {c.y:.12f} {c.radius:.16f} {c.node} {c.idx}\")\n",
    "print(\"`\")\n",
    "\n",
    "print(\"const edges = [\")\n",
    "for e in edges_df.itertuples():\n",
    "    print(\"    {\" + \"node0: '{:s}', node1: '{:s}', target_angle: {:.16f}\".format(e.node_0, e.node_1, e.target_angle) + \"},\")\n",
    "print(\"];\")"
   ],
   "metadata": {
    "collapsed": false,
    "ExecuteTime": {
     "end_time": "2024-03-25T14:52:27.578313Z",
     "start_time": "2024-03-25T14:52:27.572370Z"
    }
   },
   "id": "65e2e2125ebcc2b7",
   "execution_count": 4
  },
  {
   "cell_type": "code",
   "outputs": [],
   "source": [],
   "metadata": {
    "collapsed": false
   },
   "id": "245303258d662bc6"
  }
 ],
 "metadata": {
  "kernelspec": {
   "display_name": "Python 3",
   "language": "python",
   "name": "python3"
  },
  "language_info": {
   "codemirror_mode": {
    "name": "ipython",
    "version": 2
   },
   "file_extension": ".py",
   "mimetype": "text/x-python",
   "name": "python",
   "nbconvert_exporter": "python",
   "pygments_lexer": "ipython2",
   "version": "2.7.6"
  }
 },
 "nbformat": 4,
 "nbformat_minor": 5
}
